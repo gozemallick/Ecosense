{
 "cells": [
  {
   "cell_type": "code",
   "execution_count": 59,
   "id": "5599d9a7",
   "metadata": {},
   "outputs": [],
   "source": [
    "import pandas as pd \n",
    "df= pd.read_csv(\"Sales_August.csv\")"
   ]
  },
  {
   "cell_type": "code",
   "execution_count": 60,
   "id": "200940bf",
   "metadata": {},
   "outputs": [
    {
     "data": {
      "text/html": [
       "<div>\n",
       "<style scoped>\n",
       "    .dataframe tbody tr th:only-of-type {\n",
       "        vertical-align: middle;\n",
       "    }\n",
       "\n",
       "    .dataframe tbody tr th {\n",
       "        vertical-align: top;\n",
       "    }\n",
       "\n",
       "    .dataframe thead th {\n",
       "        text-align: right;\n",
       "    }\n",
       "</style>\n",
       "<table border=\"1\" class=\"dataframe\">\n",
       "  <thead>\n",
       "    <tr style=\"text-align: right;\">\n",
       "      <th></th>\n",
       "      <th>Order ID</th>\n",
       "      <th>Product</th>\n",
       "      <th>Quantity Ordered</th>\n",
       "      <th>Price Each</th>\n",
       "      <th>Order Date</th>\n",
       "      <th>Purchase Address</th>\n",
       "    </tr>\n",
       "  </thead>\n",
       "  <tbody>\n",
       "    <tr>\n",
       "      <th>0</th>\n",
       "      <td>236670.0</td>\n",
       "      <td>Wired Headphones</td>\n",
       "      <td>2.0</td>\n",
       "      <td>11.99</td>\n",
       "      <td>08/31/19 22:21</td>\n",
       "      <td>359 Spruce St, Seattle, WA 98101</td>\n",
       "    </tr>\n",
       "    <tr>\n",
       "      <th>1</th>\n",
       "      <td>236671.0</td>\n",
       "      <td>Bose SoundSport Headphones</td>\n",
       "      <td>1.0</td>\n",
       "      <td>99.99</td>\n",
       "      <td>08/15/19 15:11</td>\n",
       "      <td>492 Ridge St, Dallas, TX 75001</td>\n",
       "    </tr>\n",
       "    <tr>\n",
       "      <th>2</th>\n",
       "      <td>236672.0</td>\n",
       "      <td>iPhone</td>\n",
       "      <td>1.0</td>\n",
       "      <td>700.00</td>\n",
       "      <td>08-06-2019 14:40</td>\n",
       "      <td>149 7th St, Portland, OR 97035</td>\n",
       "    </tr>\n",
       "    <tr>\n",
       "      <th>3</th>\n",
       "      <td>236673.0</td>\n",
       "      <td>AA Batteries (4-pack)</td>\n",
       "      <td>2.0</td>\n",
       "      <td>3.84</td>\n",
       "      <td>08/29/19 20:59</td>\n",
       "      <td>631 2nd St, Los Angeles, CA 90001</td>\n",
       "    </tr>\n",
       "    <tr>\n",
       "      <th>4</th>\n",
       "      <td>236674.0</td>\n",
       "      <td>AA Batteries (4-pack)</td>\n",
       "      <td>2.0</td>\n",
       "      <td>3.84</td>\n",
       "      <td>08/15/19 19:53</td>\n",
       "      <td>736 14th St, New York City, NY 10001</td>\n",
       "    </tr>\n",
       "    <tr>\n",
       "      <th>...</th>\n",
       "      <td>...</td>\n",
       "      <td>...</td>\n",
       "      <td>...</td>\n",
       "      <td>...</td>\n",
       "      <td>...</td>\n",
       "      <td>...</td>\n",
       "    </tr>\n",
       "    <tr>\n",
       "      <th>12006</th>\n",
       "      <td>248146.0</td>\n",
       "      <td>Bose SoundSport Headphones</td>\n",
       "      <td>1.0</td>\n",
       "      <td>99.99</td>\n",
       "      <td>08/29/19 22:19</td>\n",
       "      <td>868 Hickory St, San Francisco, CA 94016</td>\n",
       "    </tr>\n",
       "    <tr>\n",
       "      <th>12007</th>\n",
       "      <td>248147.0</td>\n",
       "      <td>AAA Batteries (4-pack)</td>\n",
       "      <td>3.0</td>\n",
       "      <td>2.99</td>\n",
       "      <td>08/31/19 16:26</td>\n",
       "      <td>206 Lakeview St, Boston, MA 02215</td>\n",
       "    </tr>\n",
       "    <tr>\n",
       "      <th>12008</th>\n",
       "      <td>248148.0</td>\n",
       "      <td>AA Batteries (4-pack)</td>\n",
       "      <td>1.0</td>\n",
       "      <td>3.84</td>\n",
       "      <td>08-02-2019 07:25</td>\n",
       "      <td>568 13th St, Seattle, WA 98101</td>\n",
       "    </tr>\n",
       "    <tr>\n",
       "      <th>12009</th>\n",
       "      <td>248149.0</td>\n",
       "      <td>USB-C Charging Cable</td>\n",
       "      <td>1.0</td>\n",
       "      <td>11.95</td>\n",
       "      <td>08-08-2019 12:10</td>\n",
       "      <td>495 Walnut St, San Francisco, CA 94016</td>\n",
       "    </tr>\n",
       "    <tr>\n",
       "      <th>12010</th>\n",
       "      <td>248150.0</td>\n",
       "      <td>AA Batteries (4-pack)</td>\n",
       "      <td>1.0</td>\n",
       "      <td>3.84</td>\n",
       "      <td>08/16/19 08:13</td>\n",
       "      <td>738 Park St, Los Angeles, CA 90001</td>\n",
       "    </tr>\n",
       "  </tbody>\n",
       "</table>\n",
       "<p>12011 rows × 6 columns</p>\n",
       "</div>"
      ],
      "text/plain": [
       "       Order ID                     Product  Quantity Ordered  Price Each  \\\n",
       "0      236670.0            Wired Headphones               2.0       11.99   \n",
       "1      236671.0  Bose SoundSport Headphones               1.0       99.99   \n",
       "2      236672.0                      iPhone               1.0      700.00   \n",
       "3      236673.0       AA Batteries (4-pack)               2.0        3.84   \n",
       "4      236674.0       AA Batteries (4-pack)               2.0        3.84   \n",
       "...         ...                         ...               ...         ...   \n",
       "12006  248146.0  Bose SoundSport Headphones               1.0       99.99   \n",
       "12007  248147.0      AAA Batteries (4-pack)               3.0        2.99   \n",
       "12008  248148.0       AA Batteries (4-pack)               1.0        3.84   \n",
       "12009  248149.0        USB-C Charging Cable               1.0       11.95   \n",
       "12010  248150.0       AA Batteries (4-pack)               1.0        3.84   \n",
       "\n",
       "             Order Date                         Purchase Address  \n",
       "0        08/31/19 22:21         359 Spruce St, Seattle, WA 98101  \n",
       "1        08/15/19 15:11           492 Ridge St, Dallas, TX 75001  \n",
       "2      08-06-2019 14:40           149 7th St, Portland, OR 97035  \n",
       "3        08/29/19 20:59        631 2nd St, Los Angeles, CA 90001  \n",
       "4        08/15/19 19:53     736 14th St, New York City, NY 10001  \n",
       "...                 ...                                      ...  \n",
       "12006    08/29/19 22:19  868 Hickory St, San Francisco, CA 94016  \n",
       "12007    08/31/19 16:26        206 Lakeview St, Boston, MA 02215  \n",
       "12008  08-02-2019 07:25           568 13th St, Seattle, WA 98101  \n",
       "12009  08-08-2019 12:10   495 Walnut St, San Francisco, CA 94016  \n",
       "12010    08/16/19 08:13       738 Park St, Los Angeles, CA 90001  \n",
       "\n",
       "[12011 rows x 6 columns]"
      ]
     },
     "execution_count": 60,
     "metadata": {},
     "output_type": "execute_result"
    }
   ],
   "source": [
    "df"
   ]
  },
  {
   "cell_type": "code",
   "execution_count": 61,
   "id": "a5827355",
   "metadata": {},
   "outputs": [
    {
     "data": {
      "text/plain": [
       "Index(['Order ID', 'Product', 'Quantity Ordered', 'Price Each', 'Order Date',\n",
       "       'Purchase Address'],\n",
       "      dtype='object')"
      ]
     },
     "execution_count": 61,
     "metadata": {},
     "output_type": "execute_result"
    }
   ],
   "source": [
    "df.columns"
   ]
  },
  {
   "cell_type": "code",
   "execution_count": 62,
   "id": "a3b971f8",
   "metadata": {},
   "outputs": [
    {
     "name": "stdout",
     "output_type": "stream",
     "text": [
      "headers\n",
      " ['Order ID', 'Product', 'Quantity Ordered', 'Price Each', 'Order Date', 'Purchase Address']\n"
     ]
    }
   ],
   "source": [
    "headers= ['Order ID', 'Product', 'Quantity Ordered', 'Price Each', 'Order Date',\n",
    "       'Purchase Address']\n",
    "print(\"headers\\n\", headers)"
   ]
  },
  {
   "cell_type": "code",
   "execution_count": 63,
   "id": "4cdb4321",
   "metadata": {},
   "outputs": [],
   "source": [
    "df= pd.read_csv(\"Sales_August.csv\",header=None,)"
   ]
  },
  {
   "cell_type": "code",
   "execution_count": 64,
   "id": "d9811a96",
   "metadata": {},
   "outputs": [
    {
     "data": {
      "text/html": [
       "<div>\n",
       "<style scoped>\n",
       "    .dataframe tbody tr th:only-of-type {\n",
       "        vertical-align: middle;\n",
       "    }\n",
       "\n",
       "    .dataframe tbody tr th {\n",
       "        vertical-align: top;\n",
       "    }\n",
       "\n",
       "    .dataframe thead th {\n",
       "        text-align: right;\n",
       "    }\n",
       "</style>\n",
       "<table border=\"1\" class=\"dataframe\">\n",
       "  <thead>\n",
       "    <tr style=\"text-align: right;\">\n",
       "      <th></th>\n",
       "      <th>0</th>\n",
       "      <th>1</th>\n",
       "      <th>2</th>\n",
       "      <th>3</th>\n",
       "      <th>4</th>\n",
       "      <th>5</th>\n",
       "    </tr>\n",
       "  </thead>\n",
       "  <tbody>\n",
       "    <tr>\n",
       "      <th>0</th>\n",
       "      <td>Order ID</td>\n",
       "      <td>Product</td>\n",
       "      <td>Quantity Ordered</td>\n",
       "      <td>Price Each</td>\n",
       "      <td>Order Date</td>\n",
       "      <td>Purchase Address</td>\n",
       "    </tr>\n",
       "    <tr>\n",
       "      <th>1</th>\n",
       "      <td>236670</td>\n",
       "      <td>Wired Headphones</td>\n",
       "      <td>2</td>\n",
       "      <td>11.99</td>\n",
       "      <td>08/31/19 22:21</td>\n",
       "      <td>359 Spruce St, Seattle, WA 98101</td>\n",
       "    </tr>\n",
       "    <tr>\n",
       "      <th>2</th>\n",
       "      <td>236671</td>\n",
       "      <td>Bose SoundSport Headphones</td>\n",
       "      <td>1</td>\n",
       "      <td>99.99</td>\n",
       "      <td>08/15/19 15:11</td>\n",
       "      <td>492 Ridge St, Dallas, TX 75001</td>\n",
       "    </tr>\n",
       "    <tr>\n",
       "      <th>3</th>\n",
       "      <td>236672</td>\n",
       "      <td>iPhone</td>\n",
       "      <td>1</td>\n",
       "      <td>700</td>\n",
       "      <td>08-06-2019 14:40</td>\n",
       "      <td>149 7th St, Portland, OR 97035</td>\n",
       "    </tr>\n",
       "    <tr>\n",
       "      <th>4</th>\n",
       "      <td>236673</td>\n",
       "      <td>AA Batteries (4-pack)</td>\n",
       "      <td>2</td>\n",
       "      <td>3.84</td>\n",
       "      <td>08/29/19 20:59</td>\n",
       "      <td>631 2nd St, Los Angeles, CA 90001</td>\n",
       "    </tr>\n",
       "    <tr>\n",
       "      <th>...</th>\n",
       "      <td>...</td>\n",
       "      <td>...</td>\n",
       "      <td>...</td>\n",
       "      <td>...</td>\n",
       "      <td>...</td>\n",
       "      <td>...</td>\n",
       "    </tr>\n",
       "    <tr>\n",
       "      <th>12007</th>\n",
       "      <td>248146</td>\n",
       "      <td>Bose SoundSport Headphones</td>\n",
       "      <td>1</td>\n",
       "      <td>99.99</td>\n",
       "      <td>08/29/19 22:19</td>\n",
       "      <td>868 Hickory St, San Francisco, CA 94016</td>\n",
       "    </tr>\n",
       "    <tr>\n",
       "      <th>12008</th>\n",
       "      <td>248147</td>\n",
       "      <td>AAA Batteries (4-pack)</td>\n",
       "      <td>3</td>\n",
       "      <td>2.99</td>\n",
       "      <td>08/31/19 16:26</td>\n",
       "      <td>206 Lakeview St, Boston, MA 02215</td>\n",
       "    </tr>\n",
       "    <tr>\n",
       "      <th>12009</th>\n",
       "      <td>248148</td>\n",
       "      <td>AA Batteries (4-pack)</td>\n",
       "      <td>1</td>\n",
       "      <td>3.84</td>\n",
       "      <td>08-02-2019 07:25</td>\n",
       "      <td>568 13th St, Seattle, WA 98101</td>\n",
       "    </tr>\n",
       "    <tr>\n",
       "      <th>12010</th>\n",
       "      <td>248149</td>\n",
       "      <td>USB-C Charging Cable</td>\n",
       "      <td>1</td>\n",
       "      <td>11.95</td>\n",
       "      <td>08-08-2019 12:10</td>\n",
       "      <td>495 Walnut St, San Francisco, CA 94016</td>\n",
       "    </tr>\n",
       "    <tr>\n",
       "      <th>12011</th>\n",
       "      <td>248150</td>\n",
       "      <td>AA Batteries (4-pack)</td>\n",
       "      <td>1</td>\n",
       "      <td>3.84</td>\n",
       "      <td>08/16/19 08:13</td>\n",
       "      <td>738 Park St, Los Angeles, CA 90001</td>\n",
       "    </tr>\n",
       "  </tbody>\n",
       "</table>\n",
       "<p>12012 rows × 6 columns</p>\n",
       "</div>"
      ],
      "text/plain": [
       "              0                           1                 2           3  \\\n",
       "0      Order ID                     Product  Quantity Ordered  Price Each   \n",
       "1        236670            Wired Headphones                 2       11.99   \n",
       "2        236671  Bose SoundSport Headphones                 1       99.99   \n",
       "3        236672                      iPhone                 1         700   \n",
       "4        236673       AA Batteries (4-pack)                 2        3.84   \n",
       "...         ...                         ...               ...         ...   \n",
       "12007    248146  Bose SoundSport Headphones                 1       99.99   \n",
       "12008    248147      AAA Batteries (4-pack)                 3        2.99   \n",
       "12009    248148       AA Batteries (4-pack)                 1        3.84   \n",
       "12010    248149        USB-C Charging Cable                 1       11.95   \n",
       "12011    248150       AA Batteries (4-pack)                 1        3.84   \n",
       "\n",
       "                      4                                        5  \n",
       "0            Order Date                         Purchase Address  \n",
       "1        08/31/19 22:21         359 Spruce St, Seattle, WA 98101  \n",
       "2        08/15/19 15:11           492 Ridge St, Dallas, TX 75001  \n",
       "3      08-06-2019 14:40           149 7th St, Portland, OR 97035  \n",
       "4        08/29/19 20:59        631 2nd St, Los Angeles, CA 90001  \n",
       "...                 ...                                      ...  \n",
       "12007    08/29/19 22:19  868 Hickory St, San Francisco, CA 94016  \n",
       "12008    08/31/19 16:26        206 Lakeview St, Boston, MA 02215  \n",
       "12009  08-02-2019 07:25           568 13th St, Seattle, WA 98101  \n",
       "12010  08-08-2019 12:10   495 Walnut St, San Francisco, CA 94016  \n",
       "12011    08/16/19 08:13       738 Park St, Los Angeles, CA 90001  \n",
       "\n",
       "[12012 rows x 6 columns]"
      ]
     },
     "execution_count": 64,
     "metadata": {},
     "output_type": "execute_result"
    }
   ],
   "source": [
    "df"
   ]
  },
  {
   "cell_type": "code",
   "execution_count": 65,
   "id": "737e10e5",
   "metadata": {},
   "outputs": [],
   "source": [
    "df = df.drop(0,axis=0)"
   ]
  },
  {
   "cell_type": "code",
   "execution_count": 66,
   "id": "7d090ee3",
   "metadata": {},
   "outputs": [
    {
     "data": {
      "text/html": [
       "<div>\n",
       "<style scoped>\n",
       "    .dataframe tbody tr th:only-of-type {\n",
       "        vertical-align: middle;\n",
       "    }\n",
       "\n",
       "    .dataframe tbody tr th {\n",
       "        vertical-align: top;\n",
       "    }\n",
       "\n",
       "    .dataframe thead th {\n",
       "        text-align: right;\n",
       "    }\n",
       "</style>\n",
       "<table border=\"1\" class=\"dataframe\">\n",
       "  <thead>\n",
       "    <tr style=\"text-align: right;\">\n",
       "      <th></th>\n",
       "      <th>0</th>\n",
       "      <th>1</th>\n",
       "      <th>2</th>\n",
       "      <th>3</th>\n",
       "      <th>4</th>\n",
       "      <th>5</th>\n",
       "    </tr>\n",
       "  </thead>\n",
       "  <tbody>\n",
       "    <tr>\n",
       "      <th>1</th>\n",
       "      <td>236670</td>\n",
       "      <td>Wired Headphones</td>\n",
       "      <td>2</td>\n",
       "      <td>11.99</td>\n",
       "      <td>08/31/19 22:21</td>\n",
       "      <td>359 Spruce St, Seattle, WA 98101</td>\n",
       "    </tr>\n",
       "    <tr>\n",
       "      <th>2</th>\n",
       "      <td>236671</td>\n",
       "      <td>Bose SoundSport Headphones</td>\n",
       "      <td>1</td>\n",
       "      <td>99.99</td>\n",
       "      <td>08/15/19 15:11</td>\n",
       "      <td>492 Ridge St, Dallas, TX 75001</td>\n",
       "    </tr>\n",
       "    <tr>\n",
       "      <th>3</th>\n",
       "      <td>236672</td>\n",
       "      <td>iPhone</td>\n",
       "      <td>1</td>\n",
       "      <td>700</td>\n",
       "      <td>08-06-2019 14:40</td>\n",
       "      <td>149 7th St, Portland, OR 97035</td>\n",
       "    </tr>\n",
       "    <tr>\n",
       "      <th>4</th>\n",
       "      <td>236673</td>\n",
       "      <td>AA Batteries (4-pack)</td>\n",
       "      <td>2</td>\n",
       "      <td>3.84</td>\n",
       "      <td>08/29/19 20:59</td>\n",
       "      <td>631 2nd St, Los Angeles, CA 90001</td>\n",
       "    </tr>\n",
       "    <tr>\n",
       "      <th>5</th>\n",
       "      <td>236674</td>\n",
       "      <td>AA Batteries (4-pack)</td>\n",
       "      <td>2</td>\n",
       "      <td>3.84</td>\n",
       "      <td>08/15/19 19:53</td>\n",
       "      <td>736 14th St, New York City, NY 10001</td>\n",
       "    </tr>\n",
       "    <tr>\n",
       "      <th>...</th>\n",
       "      <td>...</td>\n",
       "      <td>...</td>\n",
       "      <td>...</td>\n",
       "      <td>...</td>\n",
       "      <td>...</td>\n",
       "      <td>...</td>\n",
       "    </tr>\n",
       "    <tr>\n",
       "      <th>12007</th>\n",
       "      <td>248146</td>\n",
       "      <td>Bose SoundSport Headphones</td>\n",
       "      <td>1</td>\n",
       "      <td>99.99</td>\n",
       "      <td>08/29/19 22:19</td>\n",
       "      <td>868 Hickory St, San Francisco, CA 94016</td>\n",
       "    </tr>\n",
       "    <tr>\n",
       "      <th>12008</th>\n",
       "      <td>248147</td>\n",
       "      <td>AAA Batteries (4-pack)</td>\n",
       "      <td>3</td>\n",
       "      <td>2.99</td>\n",
       "      <td>08/31/19 16:26</td>\n",
       "      <td>206 Lakeview St, Boston, MA 02215</td>\n",
       "    </tr>\n",
       "    <tr>\n",
       "      <th>12009</th>\n",
       "      <td>248148</td>\n",
       "      <td>AA Batteries (4-pack)</td>\n",
       "      <td>1</td>\n",
       "      <td>3.84</td>\n",
       "      <td>08-02-2019 07:25</td>\n",
       "      <td>568 13th St, Seattle, WA 98101</td>\n",
       "    </tr>\n",
       "    <tr>\n",
       "      <th>12010</th>\n",
       "      <td>248149</td>\n",
       "      <td>USB-C Charging Cable</td>\n",
       "      <td>1</td>\n",
       "      <td>11.95</td>\n",
       "      <td>08-08-2019 12:10</td>\n",
       "      <td>495 Walnut St, San Francisco, CA 94016</td>\n",
       "    </tr>\n",
       "    <tr>\n",
       "      <th>12011</th>\n",
       "      <td>248150</td>\n",
       "      <td>AA Batteries (4-pack)</td>\n",
       "      <td>1</td>\n",
       "      <td>3.84</td>\n",
       "      <td>08/16/19 08:13</td>\n",
       "      <td>738 Park St, Los Angeles, CA 90001</td>\n",
       "    </tr>\n",
       "  </tbody>\n",
       "</table>\n",
       "<p>12011 rows × 6 columns</p>\n",
       "</div>"
      ],
      "text/plain": [
       "            0                           1  2      3                 4  \\\n",
       "1      236670            Wired Headphones  2  11.99    08/31/19 22:21   \n",
       "2      236671  Bose SoundSport Headphones  1  99.99    08/15/19 15:11   \n",
       "3      236672                      iPhone  1    700  08-06-2019 14:40   \n",
       "4      236673       AA Batteries (4-pack)  2   3.84    08/29/19 20:59   \n",
       "5      236674       AA Batteries (4-pack)  2   3.84    08/15/19 19:53   \n",
       "...       ...                         ... ..    ...               ...   \n",
       "12007  248146  Bose SoundSport Headphones  1  99.99    08/29/19 22:19   \n",
       "12008  248147      AAA Batteries (4-pack)  3   2.99    08/31/19 16:26   \n",
       "12009  248148       AA Batteries (4-pack)  1   3.84  08-02-2019 07:25   \n",
       "12010  248149        USB-C Charging Cable  1  11.95  08-08-2019 12:10   \n",
       "12011  248150       AA Batteries (4-pack)  1   3.84    08/16/19 08:13   \n",
       "\n",
       "                                             5  \n",
       "1             359 Spruce St, Seattle, WA 98101  \n",
       "2               492 Ridge St, Dallas, TX 75001  \n",
       "3               149 7th St, Portland, OR 97035  \n",
       "4            631 2nd St, Los Angeles, CA 90001  \n",
       "5         736 14th St, New York City, NY 10001  \n",
       "...                                        ...  \n",
       "12007  868 Hickory St, San Francisco, CA 94016  \n",
       "12008        206 Lakeview St, Boston, MA 02215  \n",
       "12009           568 13th St, Seattle, WA 98101  \n",
       "12010   495 Walnut St, San Francisco, CA 94016  \n",
       "12011       738 Park St, Los Angeles, CA 90001  \n",
       "\n",
       "[12011 rows x 6 columns]"
      ]
     },
     "execution_count": 66,
     "metadata": {},
     "output_type": "execute_result"
    }
   ],
   "source": [
    "df"
   ]
  },
  {
   "cell_type": "code",
   "execution_count": 67,
   "id": "0e87e60e",
   "metadata": {},
   "outputs": [
    {
     "data": {
      "text/plain": [
       "['Order ID',\n",
       " 'Product',\n",
       " 'Quantity Ordered',\n",
       " 'Price Each',\n",
       " 'Order Date',\n",
       " 'Purchase Address']"
      ]
     },
     "execution_count": 67,
     "metadata": {},
     "output_type": "execute_result"
    }
   ],
   "source": [
    "headers"
   ]
  },
  {
   "cell_type": "code",
   "execution_count": 68,
   "id": "58ad9622",
   "metadata": {},
   "outputs": [
    {
     "data": {
      "text/plain": [
       "Int64Index([0, 1, 2, 3, 4, 5], dtype='int64')"
      ]
     },
     "execution_count": 68,
     "metadata": {},
     "output_type": "execute_result"
    }
   ],
   "source": [
    "df.columns"
   ]
  },
  {
   "cell_type": "code",
   "execution_count": 69,
   "id": "68e258a8",
   "metadata": {},
   "outputs": [],
   "source": [
    "df.columns = headers"
   ]
  },
  {
   "cell_type": "code",
   "execution_count": 70,
   "id": "97cb18d3",
   "metadata": {},
   "outputs": [
    {
     "data": {
      "text/html": [
       "<div>\n",
       "<style scoped>\n",
       "    .dataframe tbody tr th:only-of-type {\n",
       "        vertical-align: middle;\n",
       "    }\n",
       "\n",
       "    .dataframe tbody tr th {\n",
       "        vertical-align: top;\n",
       "    }\n",
       "\n",
       "    .dataframe thead th {\n",
       "        text-align: right;\n",
       "    }\n",
       "</style>\n",
       "<table border=\"1\" class=\"dataframe\">\n",
       "  <thead>\n",
       "    <tr style=\"text-align: right;\">\n",
       "      <th></th>\n",
       "      <th>Order ID</th>\n",
       "      <th>Product</th>\n",
       "      <th>Quantity Ordered</th>\n",
       "      <th>Price Each</th>\n",
       "      <th>Order Date</th>\n",
       "      <th>Purchase Address</th>\n",
       "    </tr>\n",
       "  </thead>\n",
       "  <tbody>\n",
       "    <tr>\n",
       "      <th>1</th>\n",
       "      <td>236670</td>\n",
       "      <td>Wired Headphones</td>\n",
       "      <td>2</td>\n",
       "      <td>11.99</td>\n",
       "      <td>08/31/19 22:21</td>\n",
       "      <td>359 Spruce St, Seattle, WA 98101</td>\n",
       "    </tr>\n",
       "    <tr>\n",
       "      <th>2</th>\n",
       "      <td>236671</td>\n",
       "      <td>Bose SoundSport Headphones</td>\n",
       "      <td>1</td>\n",
       "      <td>99.99</td>\n",
       "      <td>08/15/19 15:11</td>\n",
       "      <td>492 Ridge St, Dallas, TX 75001</td>\n",
       "    </tr>\n",
       "    <tr>\n",
       "      <th>3</th>\n",
       "      <td>236672</td>\n",
       "      <td>iPhone</td>\n",
       "      <td>1</td>\n",
       "      <td>700</td>\n",
       "      <td>08-06-2019 14:40</td>\n",
       "      <td>149 7th St, Portland, OR 97035</td>\n",
       "    </tr>\n",
       "    <tr>\n",
       "      <th>4</th>\n",
       "      <td>236673</td>\n",
       "      <td>AA Batteries (4-pack)</td>\n",
       "      <td>2</td>\n",
       "      <td>3.84</td>\n",
       "      <td>08/29/19 20:59</td>\n",
       "      <td>631 2nd St, Los Angeles, CA 90001</td>\n",
       "    </tr>\n",
       "    <tr>\n",
       "      <th>5</th>\n",
       "      <td>236674</td>\n",
       "      <td>AA Batteries (4-pack)</td>\n",
       "      <td>2</td>\n",
       "      <td>3.84</td>\n",
       "      <td>08/15/19 19:53</td>\n",
       "      <td>736 14th St, New York City, NY 10001</td>\n",
       "    </tr>\n",
       "    <tr>\n",
       "      <th>...</th>\n",
       "      <td>...</td>\n",
       "      <td>...</td>\n",
       "      <td>...</td>\n",
       "      <td>...</td>\n",
       "      <td>...</td>\n",
       "      <td>...</td>\n",
       "    </tr>\n",
       "    <tr>\n",
       "      <th>12007</th>\n",
       "      <td>248146</td>\n",
       "      <td>Bose SoundSport Headphones</td>\n",
       "      <td>1</td>\n",
       "      <td>99.99</td>\n",
       "      <td>08/29/19 22:19</td>\n",
       "      <td>868 Hickory St, San Francisco, CA 94016</td>\n",
       "    </tr>\n",
       "    <tr>\n",
       "      <th>12008</th>\n",
       "      <td>248147</td>\n",
       "      <td>AAA Batteries (4-pack)</td>\n",
       "      <td>3</td>\n",
       "      <td>2.99</td>\n",
       "      <td>08/31/19 16:26</td>\n",
       "      <td>206 Lakeview St, Boston, MA 02215</td>\n",
       "    </tr>\n",
       "    <tr>\n",
       "      <th>12009</th>\n",
       "      <td>248148</td>\n",
       "      <td>AA Batteries (4-pack)</td>\n",
       "      <td>1</td>\n",
       "      <td>3.84</td>\n",
       "      <td>08-02-2019 07:25</td>\n",
       "      <td>568 13th St, Seattle, WA 98101</td>\n",
       "    </tr>\n",
       "    <tr>\n",
       "      <th>12010</th>\n",
       "      <td>248149</td>\n",
       "      <td>USB-C Charging Cable</td>\n",
       "      <td>1</td>\n",
       "      <td>11.95</td>\n",
       "      <td>08-08-2019 12:10</td>\n",
       "      <td>495 Walnut St, San Francisco, CA 94016</td>\n",
       "    </tr>\n",
       "    <tr>\n",
       "      <th>12011</th>\n",
       "      <td>248150</td>\n",
       "      <td>AA Batteries (4-pack)</td>\n",
       "      <td>1</td>\n",
       "      <td>3.84</td>\n",
       "      <td>08/16/19 08:13</td>\n",
       "      <td>738 Park St, Los Angeles, CA 90001</td>\n",
       "    </tr>\n",
       "  </tbody>\n",
       "</table>\n",
       "<p>12011 rows × 6 columns</p>\n",
       "</div>"
      ],
      "text/plain": [
       "      Order ID                     Product Quantity Ordered Price Each  \\\n",
       "1       236670            Wired Headphones                2      11.99   \n",
       "2       236671  Bose SoundSport Headphones                1      99.99   \n",
       "3       236672                      iPhone                1        700   \n",
       "4       236673       AA Batteries (4-pack)                2       3.84   \n",
       "5       236674       AA Batteries (4-pack)                2       3.84   \n",
       "...        ...                         ...              ...        ...   \n",
       "12007   248146  Bose SoundSport Headphones                1      99.99   \n",
       "12008   248147      AAA Batteries (4-pack)                3       2.99   \n",
       "12009   248148       AA Batteries (4-pack)                1       3.84   \n",
       "12010   248149        USB-C Charging Cable                1      11.95   \n",
       "12011   248150       AA Batteries (4-pack)                1       3.84   \n",
       "\n",
       "             Order Date                         Purchase Address  \n",
       "1        08/31/19 22:21         359 Spruce St, Seattle, WA 98101  \n",
       "2        08/15/19 15:11           492 Ridge St, Dallas, TX 75001  \n",
       "3      08-06-2019 14:40           149 7th St, Portland, OR 97035  \n",
       "4        08/29/19 20:59        631 2nd St, Los Angeles, CA 90001  \n",
       "5        08/15/19 19:53     736 14th St, New York City, NY 10001  \n",
       "...                 ...                                      ...  \n",
       "12007    08/29/19 22:19  868 Hickory St, San Francisco, CA 94016  \n",
       "12008    08/31/19 16:26        206 Lakeview St, Boston, MA 02215  \n",
       "12009  08-02-2019 07:25           568 13th St, Seattle, WA 98101  \n",
       "12010  08-08-2019 12:10   495 Walnut St, San Francisco, CA 94016  \n",
       "12011    08/16/19 08:13       738 Park St, Los Angeles, CA 90001  \n",
       "\n",
       "[12011 rows x 6 columns]"
      ]
     },
     "execution_count": 70,
     "metadata": {},
     "output_type": "execute_result"
    }
   ],
   "source": [
    "df"
   ]
  },
  {
   "cell_type": "code",
   "execution_count": 71,
   "id": "3a68e72b",
   "metadata": {},
   "outputs": [
    {
     "data": {
      "text/plain": [
       "Order ID            54\n",
       "Product             54\n",
       "Quantity Ordered    54\n",
       "Price Each          54\n",
       "Order Date          54\n",
       "Purchase Address    54\n",
       "dtype: int64"
      ]
     },
     "execution_count": 71,
     "metadata": {},
     "output_type": "execute_result"
    }
   ],
   "source": [
    "df.isnull().sum()"
   ]
  },
  {
   "cell_type": "code",
   "execution_count": 74,
   "id": "5204905d",
   "metadata": {},
   "outputs": [],
   "source": [
    "df.dropna(subset=['Price Each'],axis = 0,inplace= True)"
   ]
  },
  {
   "cell_type": "code",
   "execution_count": 75,
   "id": "6be6ce0b",
   "metadata": {},
   "outputs": [
    {
     "data": {
      "text/plain": [
       "Order ID            0\n",
       "Product             0\n",
       "Quantity Ordered    0\n",
       "Price Each          0\n",
       "Order Date          0\n",
       "Purchase Address    0\n",
       "dtype: int64"
      ]
     },
     "execution_count": 75,
     "metadata": {},
     "output_type": "execute_result"
    }
   ],
   "source": [
    "df.isnull().sum()"
   ]
  },
  {
   "cell_type": "code",
   "execution_count": 76,
   "id": "6a0c0417",
   "metadata": {},
   "outputs": [
    {
     "data": {
      "text/html": [
       "<div>\n",
       "<style scoped>\n",
       "    .dataframe tbody tr th:only-of-type {\n",
       "        vertical-align: middle;\n",
       "    }\n",
       "\n",
       "    .dataframe tbody tr th {\n",
       "        vertical-align: top;\n",
       "    }\n",
       "\n",
       "    .dataframe thead th {\n",
       "        text-align: right;\n",
       "    }\n",
       "</style>\n",
       "<table border=\"1\" class=\"dataframe\">\n",
       "  <thead>\n",
       "    <tr style=\"text-align: right;\">\n",
       "      <th></th>\n",
       "      <th>Order ID</th>\n",
       "      <th>Product</th>\n",
       "      <th>Quantity Ordered</th>\n",
       "      <th>Price Each</th>\n",
       "      <th>Order Date</th>\n",
       "      <th>Purchase Address</th>\n",
       "    </tr>\n",
       "  </thead>\n",
       "  <tbody>\n",
       "    <tr>\n",
       "      <th>1</th>\n",
       "      <td>236670</td>\n",
       "      <td>Wired Headphones</td>\n",
       "      <td>2</td>\n",
       "      <td>11.99</td>\n",
       "      <td>08/31/19 22:21</td>\n",
       "      <td>359 Spruce St, Seattle, WA 98101</td>\n",
       "    </tr>\n",
       "    <tr>\n",
       "      <th>2</th>\n",
       "      <td>236671</td>\n",
       "      <td>Bose SoundSport Headphones</td>\n",
       "      <td>1</td>\n",
       "      <td>99.99</td>\n",
       "      <td>08/15/19 15:11</td>\n",
       "      <td>492 Ridge St, Dallas, TX 75001</td>\n",
       "    </tr>\n",
       "    <tr>\n",
       "      <th>3</th>\n",
       "      <td>236672</td>\n",
       "      <td>iPhone</td>\n",
       "      <td>1</td>\n",
       "      <td>700</td>\n",
       "      <td>08-06-2019 14:40</td>\n",
       "      <td>149 7th St, Portland, OR 97035</td>\n",
       "    </tr>\n",
       "    <tr>\n",
       "      <th>4</th>\n",
       "      <td>236673</td>\n",
       "      <td>AA Batteries (4-pack)</td>\n",
       "      <td>2</td>\n",
       "      <td>3.84</td>\n",
       "      <td>08/29/19 20:59</td>\n",
       "      <td>631 2nd St, Los Angeles, CA 90001</td>\n",
       "    </tr>\n",
       "    <tr>\n",
       "      <th>5</th>\n",
       "      <td>236674</td>\n",
       "      <td>AA Batteries (4-pack)</td>\n",
       "      <td>2</td>\n",
       "      <td>3.84</td>\n",
       "      <td>08/15/19 19:53</td>\n",
       "      <td>736 14th St, New York City, NY 10001</td>\n",
       "    </tr>\n",
       "    <tr>\n",
       "      <th>...</th>\n",
       "      <td>...</td>\n",
       "      <td>...</td>\n",
       "      <td>...</td>\n",
       "      <td>...</td>\n",
       "      <td>...</td>\n",
       "      <td>...</td>\n",
       "    </tr>\n",
       "    <tr>\n",
       "      <th>12007</th>\n",
       "      <td>248146</td>\n",
       "      <td>Bose SoundSport Headphones</td>\n",
       "      <td>1</td>\n",
       "      <td>99.99</td>\n",
       "      <td>08/29/19 22:19</td>\n",
       "      <td>868 Hickory St, San Francisco, CA 94016</td>\n",
       "    </tr>\n",
       "    <tr>\n",
       "      <th>12008</th>\n",
       "      <td>248147</td>\n",
       "      <td>AAA Batteries (4-pack)</td>\n",
       "      <td>3</td>\n",
       "      <td>2.99</td>\n",
       "      <td>08/31/19 16:26</td>\n",
       "      <td>206 Lakeview St, Boston, MA 02215</td>\n",
       "    </tr>\n",
       "    <tr>\n",
       "      <th>12009</th>\n",
       "      <td>248148</td>\n",
       "      <td>AA Batteries (4-pack)</td>\n",
       "      <td>1</td>\n",
       "      <td>3.84</td>\n",
       "      <td>08-02-2019 07:25</td>\n",
       "      <td>568 13th St, Seattle, WA 98101</td>\n",
       "    </tr>\n",
       "    <tr>\n",
       "      <th>12010</th>\n",
       "      <td>248149</td>\n",
       "      <td>USB-C Charging Cable</td>\n",
       "      <td>1</td>\n",
       "      <td>11.95</td>\n",
       "      <td>08-08-2019 12:10</td>\n",
       "      <td>495 Walnut St, San Francisco, CA 94016</td>\n",
       "    </tr>\n",
       "    <tr>\n",
       "      <th>12011</th>\n",
       "      <td>248150</td>\n",
       "      <td>AA Batteries (4-pack)</td>\n",
       "      <td>1</td>\n",
       "      <td>3.84</td>\n",
       "      <td>08/16/19 08:13</td>\n",
       "      <td>738 Park St, Los Angeles, CA 90001</td>\n",
       "    </tr>\n",
       "  </tbody>\n",
       "</table>\n",
       "<p>11957 rows × 6 columns</p>\n",
       "</div>"
      ],
      "text/plain": [
       "      Order ID                     Product Quantity Ordered Price Each  \\\n",
       "1       236670            Wired Headphones                2      11.99   \n",
       "2       236671  Bose SoundSport Headphones                1      99.99   \n",
       "3       236672                      iPhone                1        700   \n",
       "4       236673       AA Batteries (4-pack)                2       3.84   \n",
       "5       236674       AA Batteries (4-pack)                2       3.84   \n",
       "...        ...                         ...              ...        ...   \n",
       "12007   248146  Bose SoundSport Headphones                1      99.99   \n",
       "12008   248147      AAA Batteries (4-pack)                3       2.99   \n",
       "12009   248148       AA Batteries (4-pack)                1       3.84   \n",
       "12010   248149        USB-C Charging Cable                1      11.95   \n",
       "12011   248150       AA Batteries (4-pack)                1       3.84   \n",
       "\n",
       "             Order Date                         Purchase Address  \n",
       "1        08/31/19 22:21         359 Spruce St, Seattle, WA 98101  \n",
       "2        08/15/19 15:11           492 Ridge St, Dallas, TX 75001  \n",
       "3      08-06-2019 14:40           149 7th St, Portland, OR 97035  \n",
       "4        08/29/19 20:59        631 2nd St, Los Angeles, CA 90001  \n",
       "5        08/15/19 19:53     736 14th St, New York City, NY 10001  \n",
       "...                 ...                                      ...  \n",
       "12007    08/29/19 22:19  868 Hickory St, San Francisco, CA 94016  \n",
       "12008    08/31/19 16:26        206 Lakeview St, Boston, MA 02215  \n",
       "12009  08-02-2019 07:25           568 13th St, Seattle, WA 98101  \n",
       "12010  08-08-2019 12:10   495 Walnut St, San Francisco, CA 94016  \n",
       "12011    08/16/19 08:13       738 Park St, Los Angeles, CA 90001  \n",
       "\n",
       "[11957 rows x 6 columns]"
      ]
     },
     "execution_count": 76,
     "metadata": {},
     "output_type": "execute_result"
    }
   ],
   "source": [
    "df"
   ]
  },
  {
   "cell_type": "code",
   "execution_count": 77,
   "id": "ad8ee8a7",
   "metadata": {},
   "outputs": [
    {
     "name": "stdout",
     "output_type": "stream",
     "text": [
      "<class 'pandas.core.frame.DataFrame'>\n",
      "Int64Index: 11957 entries, 1 to 12011\n",
      "Data columns (total 6 columns):\n",
      " #   Column            Non-Null Count  Dtype \n",
      "---  ------            --------------  ----- \n",
      " 0   Order ID          11957 non-null  object\n",
      " 1   Product           11957 non-null  object\n",
      " 2   Quantity Ordered  11957 non-null  object\n",
      " 3   Price Each        11957 non-null  object\n",
      " 4   Order Date        11957 non-null  object\n",
      " 5   Purchase Address  11957 non-null  object\n",
      "dtypes: object(6)\n",
      "memory usage: 653.9+ KB\n"
     ]
    }
   ],
   "source": [
    "df.info()"
   ]
  },
  {
   "cell_type": "code",
   "execution_count": 78,
   "id": "502d102a",
   "metadata": {},
   "outputs": [
    {
     "ename": "TypeError",
     "evalue": "'method' object is not subscriptable",
     "output_type": "error",
     "traceback": [
      "\u001b[1;31m---------------------------------------------------------------------------\u001b[0m",
      "\u001b[1;31mTypeError\u001b[0m                                 Traceback (most recent call last)",
      "Cell \u001b[1;32mIn[78], line 1\u001b[0m\n\u001b[1;32m----> 1\u001b[0m df[\u001b[38;5;124m'\u001b[39m\u001b[38;5;124mPrice Each\u001b[39m\u001b[38;5;124m'\u001b[39m]\u001b[38;5;241m=\u001b[39m\u001b[43mdf\u001b[49m\u001b[43m[\u001b[49m\u001b[38;5;124;43m'\u001b[39;49m\u001b[38;5;124;43mPrice Each\u001b[39;49m\u001b[38;5;124;43m'\u001b[39;49m\u001b[43m]\u001b[49m\u001b[38;5;241;43m.\u001b[39;49m\u001b[43mastype\u001b[49m\u001b[43m[\u001b[49m\u001b[38;5;124;43m'\u001b[39;49m\u001b[38;5;124;43mfloat\u001b[39;49m\u001b[38;5;124;43m'\u001b[39;49m\u001b[43m]\u001b[49m\n",
      "\u001b[1;31mTypeError\u001b[0m: 'method' object is not subscriptable"
     ]
    }
   ],
   "source": [
    "df['Price Each']=df['Price Each'].astype['float']"
   ]
  },
  {
   "cell_type": "code",
   "execution_count": 79,
   "id": "917175f7",
   "metadata": {},
   "outputs": [
    {
     "data": {
      "text/plain": [
       "1        11.99\n",
       "2        99.99\n",
       "3          700\n",
       "4         3.84\n",
       "5         3.84\n",
       "         ...  \n",
       "12007    99.99\n",
       "12008     2.99\n",
       "12009     3.84\n",
       "12010    11.95\n",
       "12011     3.84\n",
       "Name: Price Each, Length: 11957, dtype: object"
      ]
     },
     "execution_count": 79,
     "metadata": {},
     "output_type": "execute_result"
    }
   ],
   "source": [
    "df['Price Each']"
   ]
  },
  {
   "cell_type": "code",
   "execution_count": 32,
   "id": "fc8fae75",
   "metadata": {},
   "outputs": [
    {
     "ename": "ValueError",
     "evalue": "could not convert string to float: 'Price Each'",
     "output_type": "error",
     "traceback": [
      "\u001b[1;31m---------------------------------------------------------------------------\u001b[0m",
      "\u001b[1;31mValueError\u001b[0m                                Traceback (most recent call last)",
      "Cell \u001b[1;32mIn[32], line 1\u001b[0m\n\u001b[1;32m----> 1\u001b[0m \u001b[43mdf\u001b[49m\u001b[43m[\u001b[49m\u001b[38;5;124;43m'\u001b[39;49m\u001b[38;5;124;43mPrice Each\u001b[39;49m\u001b[38;5;124;43m'\u001b[39;49m\u001b[43m]\u001b[49m\u001b[38;5;241;43m.\u001b[39;49m\u001b[43mastype\u001b[49m\u001b[43m(\u001b[49m\u001b[38;5;124;43m'\u001b[39;49m\u001b[38;5;124;43mfloat\u001b[39;49m\u001b[38;5;124;43m'\u001b[39;49m\u001b[43m)\u001b[49m\n",
      "File \u001b[1;32m~\\anaconda3\\lib\\site-packages\\pandas\\core\\generic.py:6240\u001b[0m, in \u001b[0;36mNDFrame.astype\u001b[1;34m(self, dtype, copy, errors)\u001b[0m\n\u001b[0;32m   6233\u001b[0m     results \u001b[38;5;241m=\u001b[39m [\n\u001b[0;32m   6234\u001b[0m         \u001b[38;5;28mself\u001b[39m\u001b[38;5;241m.\u001b[39miloc[:, i]\u001b[38;5;241m.\u001b[39mastype(dtype, copy\u001b[38;5;241m=\u001b[39mcopy)\n\u001b[0;32m   6235\u001b[0m         \u001b[38;5;28;01mfor\u001b[39;00m i \u001b[38;5;129;01min\u001b[39;00m \u001b[38;5;28mrange\u001b[39m(\u001b[38;5;28mlen\u001b[39m(\u001b[38;5;28mself\u001b[39m\u001b[38;5;241m.\u001b[39mcolumns))\n\u001b[0;32m   6236\u001b[0m     ]\n\u001b[0;32m   6238\u001b[0m \u001b[38;5;28;01melse\u001b[39;00m:\n\u001b[0;32m   6239\u001b[0m     \u001b[38;5;66;03m# else, only a single dtype is given\u001b[39;00m\n\u001b[1;32m-> 6240\u001b[0m     new_data \u001b[38;5;241m=\u001b[39m \u001b[38;5;28;43mself\u001b[39;49m\u001b[38;5;241;43m.\u001b[39;49m\u001b[43m_mgr\u001b[49m\u001b[38;5;241;43m.\u001b[39;49m\u001b[43mastype\u001b[49m\u001b[43m(\u001b[49m\u001b[43mdtype\u001b[49m\u001b[38;5;241;43m=\u001b[39;49m\u001b[43mdtype\u001b[49m\u001b[43m,\u001b[49m\u001b[43m \u001b[49m\u001b[43mcopy\u001b[49m\u001b[38;5;241;43m=\u001b[39;49m\u001b[43mcopy\u001b[49m\u001b[43m,\u001b[49m\u001b[43m \u001b[49m\u001b[43merrors\u001b[49m\u001b[38;5;241;43m=\u001b[39;49m\u001b[43merrors\u001b[49m\u001b[43m)\u001b[49m\n\u001b[0;32m   6241\u001b[0m     \u001b[38;5;28;01mreturn\u001b[39;00m \u001b[38;5;28mself\u001b[39m\u001b[38;5;241m.\u001b[39m_constructor(new_data)\u001b[38;5;241m.\u001b[39m__finalize__(\u001b[38;5;28mself\u001b[39m, method\u001b[38;5;241m=\u001b[39m\u001b[38;5;124m\"\u001b[39m\u001b[38;5;124mastype\u001b[39m\u001b[38;5;124m\"\u001b[39m)\n\u001b[0;32m   6243\u001b[0m \u001b[38;5;66;03m# GH 33113: handle empty frame or series\u001b[39;00m\n",
      "File \u001b[1;32m~\\anaconda3\\lib\\site-packages\\pandas\\core\\internals\\managers.py:448\u001b[0m, in \u001b[0;36mBaseBlockManager.astype\u001b[1;34m(self, dtype, copy, errors)\u001b[0m\n\u001b[0;32m    447\u001b[0m \u001b[38;5;28;01mdef\u001b[39;00m \u001b[38;5;21mastype\u001b[39m(\u001b[38;5;28mself\u001b[39m: T, dtype, copy: \u001b[38;5;28mbool\u001b[39m \u001b[38;5;241m=\u001b[39m \u001b[38;5;28;01mFalse\u001b[39;00m, errors: \u001b[38;5;28mstr\u001b[39m \u001b[38;5;241m=\u001b[39m \u001b[38;5;124m\"\u001b[39m\u001b[38;5;124mraise\u001b[39m\u001b[38;5;124m\"\u001b[39m) \u001b[38;5;241m-\u001b[39m\u001b[38;5;241m>\u001b[39m T:\n\u001b[1;32m--> 448\u001b[0m     \u001b[38;5;28;01mreturn\u001b[39;00m \u001b[38;5;28;43mself\u001b[39;49m\u001b[38;5;241;43m.\u001b[39;49m\u001b[43mapply\u001b[49m\u001b[43m(\u001b[49m\u001b[38;5;124;43m\"\u001b[39;49m\u001b[38;5;124;43mastype\u001b[39;49m\u001b[38;5;124;43m\"\u001b[39;49m\u001b[43m,\u001b[49m\u001b[43m \u001b[49m\u001b[43mdtype\u001b[49m\u001b[38;5;241;43m=\u001b[39;49m\u001b[43mdtype\u001b[49m\u001b[43m,\u001b[49m\u001b[43m \u001b[49m\u001b[43mcopy\u001b[49m\u001b[38;5;241;43m=\u001b[39;49m\u001b[43mcopy\u001b[49m\u001b[43m,\u001b[49m\u001b[43m \u001b[49m\u001b[43merrors\u001b[49m\u001b[38;5;241;43m=\u001b[39;49m\u001b[43merrors\u001b[49m\u001b[43m)\u001b[49m\n",
      "File \u001b[1;32m~\\anaconda3\\lib\\site-packages\\pandas\\core\\internals\\managers.py:352\u001b[0m, in \u001b[0;36mBaseBlockManager.apply\u001b[1;34m(self, f, align_keys, ignore_failures, **kwargs)\u001b[0m\n\u001b[0;32m    350\u001b[0m         applied \u001b[38;5;241m=\u001b[39m b\u001b[38;5;241m.\u001b[39mapply(f, \u001b[38;5;241m*\u001b[39m\u001b[38;5;241m*\u001b[39mkwargs)\n\u001b[0;32m    351\u001b[0m     \u001b[38;5;28;01melse\u001b[39;00m:\n\u001b[1;32m--> 352\u001b[0m         applied \u001b[38;5;241m=\u001b[39m \u001b[38;5;28mgetattr\u001b[39m(b, f)(\u001b[38;5;241m*\u001b[39m\u001b[38;5;241m*\u001b[39mkwargs)\n\u001b[0;32m    353\u001b[0m \u001b[38;5;28;01mexcept\u001b[39;00m (\u001b[38;5;167;01mTypeError\u001b[39;00m, \u001b[38;5;167;01mNotImplementedError\u001b[39;00m):\n\u001b[0;32m    354\u001b[0m     \u001b[38;5;28;01mif\u001b[39;00m \u001b[38;5;129;01mnot\u001b[39;00m ignore_failures:\n",
      "File \u001b[1;32m~\\anaconda3\\lib\\site-packages\\pandas\\core\\internals\\blocks.py:526\u001b[0m, in \u001b[0;36mBlock.astype\u001b[1;34m(self, dtype, copy, errors)\u001b[0m\n\u001b[0;32m    508\u001b[0m \u001b[38;5;124;03m\"\"\"\u001b[39;00m\n\u001b[0;32m    509\u001b[0m \u001b[38;5;124;03mCoerce to the new dtype.\u001b[39;00m\n\u001b[0;32m    510\u001b[0m \n\u001b[1;32m   (...)\u001b[0m\n\u001b[0;32m    522\u001b[0m \u001b[38;5;124;03mBlock\u001b[39;00m\n\u001b[0;32m    523\u001b[0m \u001b[38;5;124;03m\"\"\"\u001b[39;00m\n\u001b[0;32m    524\u001b[0m values \u001b[38;5;241m=\u001b[39m \u001b[38;5;28mself\u001b[39m\u001b[38;5;241m.\u001b[39mvalues\n\u001b[1;32m--> 526\u001b[0m new_values \u001b[38;5;241m=\u001b[39m \u001b[43mastype_array_safe\u001b[49m\u001b[43m(\u001b[49m\u001b[43mvalues\u001b[49m\u001b[43m,\u001b[49m\u001b[43m \u001b[49m\u001b[43mdtype\u001b[49m\u001b[43m,\u001b[49m\u001b[43m \u001b[49m\u001b[43mcopy\u001b[49m\u001b[38;5;241;43m=\u001b[39;49m\u001b[43mcopy\u001b[49m\u001b[43m,\u001b[49m\u001b[43m \u001b[49m\u001b[43merrors\u001b[49m\u001b[38;5;241;43m=\u001b[39;49m\u001b[43merrors\u001b[49m\u001b[43m)\u001b[49m\n\u001b[0;32m    528\u001b[0m new_values \u001b[38;5;241m=\u001b[39m maybe_coerce_values(new_values)\n\u001b[0;32m    529\u001b[0m newb \u001b[38;5;241m=\u001b[39m \u001b[38;5;28mself\u001b[39m\u001b[38;5;241m.\u001b[39mmake_block(new_values)\n",
      "File \u001b[1;32m~\\anaconda3\\lib\\site-packages\\pandas\\core\\dtypes\\astype.py:299\u001b[0m, in \u001b[0;36mastype_array_safe\u001b[1;34m(values, dtype, copy, errors)\u001b[0m\n\u001b[0;32m    296\u001b[0m     \u001b[38;5;28;01mreturn\u001b[39;00m values\u001b[38;5;241m.\u001b[39mcopy()\n\u001b[0;32m    298\u001b[0m \u001b[38;5;28;01mtry\u001b[39;00m:\n\u001b[1;32m--> 299\u001b[0m     new_values \u001b[38;5;241m=\u001b[39m \u001b[43mastype_array\u001b[49m\u001b[43m(\u001b[49m\u001b[43mvalues\u001b[49m\u001b[43m,\u001b[49m\u001b[43m \u001b[49m\u001b[43mdtype\u001b[49m\u001b[43m,\u001b[49m\u001b[43m \u001b[49m\u001b[43mcopy\u001b[49m\u001b[38;5;241;43m=\u001b[39;49m\u001b[43mcopy\u001b[49m\u001b[43m)\u001b[49m\n\u001b[0;32m    300\u001b[0m \u001b[38;5;28;01mexcept\u001b[39;00m (\u001b[38;5;167;01mValueError\u001b[39;00m, \u001b[38;5;167;01mTypeError\u001b[39;00m):\n\u001b[0;32m    301\u001b[0m     \u001b[38;5;66;03m# e.g. astype_nansafe can fail on object-dtype of strings\u001b[39;00m\n\u001b[0;32m    302\u001b[0m     \u001b[38;5;66;03m#  trying to convert to float\u001b[39;00m\n\u001b[0;32m    303\u001b[0m     \u001b[38;5;28;01mif\u001b[39;00m errors \u001b[38;5;241m==\u001b[39m \u001b[38;5;124m\"\u001b[39m\u001b[38;5;124mignore\u001b[39m\u001b[38;5;124m\"\u001b[39m:\n",
      "File \u001b[1;32m~\\anaconda3\\lib\\site-packages\\pandas\\core\\dtypes\\astype.py:230\u001b[0m, in \u001b[0;36mastype_array\u001b[1;34m(values, dtype, copy)\u001b[0m\n\u001b[0;32m    227\u001b[0m     values \u001b[38;5;241m=\u001b[39m values\u001b[38;5;241m.\u001b[39mastype(dtype, copy\u001b[38;5;241m=\u001b[39mcopy)\n\u001b[0;32m    229\u001b[0m \u001b[38;5;28;01melse\u001b[39;00m:\n\u001b[1;32m--> 230\u001b[0m     values \u001b[38;5;241m=\u001b[39m \u001b[43mastype_nansafe\u001b[49m\u001b[43m(\u001b[49m\u001b[43mvalues\u001b[49m\u001b[43m,\u001b[49m\u001b[43m \u001b[49m\u001b[43mdtype\u001b[49m\u001b[43m,\u001b[49m\u001b[43m \u001b[49m\u001b[43mcopy\u001b[49m\u001b[38;5;241;43m=\u001b[39;49m\u001b[43mcopy\u001b[49m\u001b[43m)\u001b[49m\n\u001b[0;32m    232\u001b[0m \u001b[38;5;66;03m# in pandas we don't store numpy str dtypes, so convert to object\u001b[39;00m\n\u001b[0;32m    233\u001b[0m \u001b[38;5;28;01mif\u001b[39;00m \u001b[38;5;28misinstance\u001b[39m(dtype, np\u001b[38;5;241m.\u001b[39mdtype) \u001b[38;5;129;01mand\u001b[39;00m \u001b[38;5;28missubclass\u001b[39m(values\u001b[38;5;241m.\u001b[39mdtype\u001b[38;5;241m.\u001b[39mtype, \u001b[38;5;28mstr\u001b[39m):\n",
      "File \u001b[1;32m~\\anaconda3\\lib\\site-packages\\pandas\\core\\dtypes\\astype.py:170\u001b[0m, in \u001b[0;36mastype_nansafe\u001b[1;34m(arr, dtype, copy, skipna)\u001b[0m\n\u001b[0;32m    166\u001b[0m     \u001b[38;5;28;01mraise\u001b[39;00m \u001b[38;5;167;01mValueError\u001b[39;00m(msg)\n\u001b[0;32m    168\u001b[0m \u001b[38;5;28;01mif\u001b[39;00m copy \u001b[38;5;129;01mor\u001b[39;00m is_object_dtype(arr\u001b[38;5;241m.\u001b[39mdtype) \u001b[38;5;129;01mor\u001b[39;00m is_object_dtype(dtype):\n\u001b[0;32m    169\u001b[0m     \u001b[38;5;66;03m# Explicit copy, or required since NumPy can't view from / to object.\u001b[39;00m\n\u001b[1;32m--> 170\u001b[0m     \u001b[38;5;28;01mreturn\u001b[39;00m \u001b[43marr\u001b[49m\u001b[38;5;241;43m.\u001b[39;49m\u001b[43mastype\u001b[49m\u001b[43m(\u001b[49m\u001b[43mdtype\u001b[49m\u001b[43m,\u001b[49m\u001b[43m \u001b[49m\u001b[43mcopy\u001b[49m\u001b[38;5;241;43m=\u001b[39;49m\u001b[38;5;28;43;01mTrue\u001b[39;49;00m\u001b[43m)\u001b[49m\n\u001b[0;32m    172\u001b[0m \u001b[38;5;28;01mreturn\u001b[39;00m arr\u001b[38;5;241m.\u001b[39mastype(dtype, copy\u001b[38;5;241m=\u001b[39mcopy)\n",
      "\u001b[1;31mValueError\u001b[0m: could not convert string to float: 'Price Each'"
     ]
    }
   ],
   "source": [
    "df['Price Each'].astype('float')"
   ]
  },
  {
   "cell_type": "code",
   "execution_count": 34,
   "id": "e55481dc",
   "metadata": {},
   "outputs": [
    {
     "data": {
      "text/plain": [
       "Order ID            object\n",
       "Product             object\n",
       "Quantity Ordered    object\n",
       "Price Each          object\n",
       "Order Date          object\n",
       "Purchase Address    object\n",
       "dtype: object"
      ]
     },
     "execution_count": 34,
     "metadata": {},
     "output_type": "execute_result"
    }
   ],
   "source": [
    "df.dtypes"
   ]
  },
  {
   "cell_type": "code",
   "execution_count": 35,
   "id": "85cdeb84",
   "metadata": {},
   "outputs": [
    {
     "ename": "FileNotFoundError",
     "evalue": "[Errno 2] No such file or directory: '/kaggle/input/jio-mart-product-items/jio_mart_items.csv'",
     "output_type": "error",
     "traceback": [
      "\u001b[1;31m---------------------------------------------------------------------------\u001b[0m",
      "\u001b[1;31mFileNotFoundError\u001b[0m                         Traceback (most recent call last)",
      "Cell \u001b[1;32mIn[35], line 1\u001b[0m\n\u001b[1;32m----> 1\u001b[0m df1 \u001b[38;5;241m=\u001b[39m \u001b[43mpd\u001b[49m\u001b[38;5;241;43m.\u001b[39;49m\u001b[43mread_csv\u001b[49m\u001b[43m(\u001b[49m\u001b[38;5;124;43m'\u001b[39;49m\u001b[38;5;124;43m/kaggle/input/jio-mart-product-items/jio_mart_items.csv\u001b[39;49m\u001b[38;5;124;43m'\u001b[39;49m\u001b[43m)\u001b[49m\n",
      "File \u001b[1;32m~\\anaconda3\\lib\\site-packages\\pandas\\util\\_decorators.py:211\u001b[0m, in \u001b[0;36mdeprecate_kwarg.<locals>._deprecate_kwarg.<locals>.wrapper\u001b[1;34m(*args, **kwargs)\u001b[0m\n\u001b[0;32m    209\u001b[0m     \u001b[38;5;28;01melse\u001b[39;00m:\n\u001b[0;32m    210\u001b[0m         kwargs[new_arg_name] \u001b[38;5;241m=\u001b[39m new_arg_value\n\u001b[1;32m--> 211\u001b[0m \u001b[38;5;28;01mreturn\u001b[39;00m func(\u001b[38;5;241m*\u001b[39margs, \u001b[38;5;241m*\u001b[39m\u001b[38;5;241m*\u001b[39mkwargs)\n",
      "File \u001b[1;32m~\\anaconda3\\lib\\site-packages\\pandas\\util\\_decorators.py:331\u001b[0m, in \u001b[0;36mdeprecate_nonkeyword_arguments.<locals>.decorate.<locals>.wrapper\u001b[1;34m(*args, **kwargs)\u001b[0m\n\u001b[0;32m    325\u001b[0m \u001b[38;5;28;01mif\u001b[39;00m \u001b[38;5;28mlen\u001b[39m(args) \u001b[38;5;241m>\u001b[39m num_allow_args:\n\u001b[0;32m    326\u001b[0m     warnings\u001b[38;5;241m.\u001b[39mwarn(\n\u001b[0;32m    327\u001b[0m         msg\u001b[38;5;241m.\u001b[39mformat(arguments\u001b[38;5;241m=\u001b[39m_format_argument_list(allow_args)),\n\u001b[0;32m    328\u001b[0m         \u001b[38;5;167;01mFutureWarning\u001b[39;00m,\n\u001b[0;32m    329\u001b[0m         stacklevel\u001b[38;5;241m=\u001b[39mfind_stack_level(),\n\u001b[0;32m    330\u001b[0m     )\n\u001b[1;32m--> 331\u001b[0m \u001b[38;5;28;01mreturn\u001b[39;00m func(\u001b[38;5;241m*\u001b[39margs, \u001b[38;5;241m*\u001b[39m\u001b[38;5;241m*\u001b[39mkwargs)\n",
      "File \u001b[1;32m~\\anaconda3\\lib\\site-packages\\pandas\\io\\parsers\\readers.py:950\u001b[0m, in \u001b[0;36mread_csv\u001b[1;34m(filepath_or_buffer, sep, delimiter, header, names, index_col, usecols, squeeze, prefix, mangle_dupe_cols, dtype, engine, converters, true_values, false_values, skipinitialspace, skiprows, skipfooter, nrows, na_values, keep_default_na, na_filter, verbose, skip_blank_lines, parse_dates, infer_datetime_format, keep_date_col, date_parser, dayfirst, cache_dates, iterator, chunksize, compression, thousands, decimal, lineterminator, quotechar, quoting, doublequote, escapechar, comment, encoding, encoding_errors, dialect, error_bad_lines, warn_bad_lines, on_bad_lines, delim_whitespace, low_memory, memory_map, float_precision, storage_options)\u001b[0m\n\u001b[0;32m    935\u001b[0m kwds_defaults \u001b[38;5;241m=\u001b[39m _refine_defaults_read(\n\u001b[0;32m    936\u001b[0m     dialect,\n\u001b[0;32m    937\u001b[0m     delimiter,\n\u001b[1;32m   (...)\u001b[0m\n\u001b[0;32m    946\u001b[0m     defaults\u001b[38;5;241m=\u001b[39m{\u001b[38;5;124m\"\u001b[39m\u001b[38;5;124mdelimiter\u001b[39m\u001b[38;5;124m\"\u001b[39m: \u001b[38;5;124m\"\u001b[39m\u001b[38;5;124m,\u001b[39m\u001b[38;5;124m\"\u001b[39m},\n\u001b[0;32m    947\u001b[0m )\n\u001b[0;32m    948\u001b[0m kwds\u001b[38;5;241m.\u001b[39mupdate(kwds_defaults)\n\u001b[1;32m--> 950\u001b[0m \u001b[38;5;28;01mreturn\u001b[39;00m \u001b[43m_read\u001b[49m\u001b[43m(\u001b[49m\u001b[43mfilepath_or_buffer\u001b[49m\u001b[43m,\u001b[49m\u001b[43m \u001b[49m\u001b[43mkwds\u001b[49m\u001b[43m)\u001b[49m\n",
      "File \u001b[1;32m~\\anaconda3\\lib\\site-packages\\pandas\\io\\parsers\\readers.py:605\u001b[0m, in \u001b[0;36m_read\u001b[1;34m(filepath_or_buffer, kwds)\u001b[0m\n\u001b[0;32m    602\u001b[0m _validate_names(kwds\u001b[38;5;241m.\u001b[39mget(\u001b[38;5;124m\"\u001b[39m\u001b[38;5;124mnames\u001b[39m\u001b[38;5;124m\"\u001b[39m, \u001b[38;5;28;01mNone\u001b[39;00m))\n\u001b[0;32m    604\u001b[0m \u001b[38;5;66;03m# Create the parser.\u001b[39;00m\n\u001b[1;32m--> 605\u001b[0m parser \u001b[38;5;241m=\u001b[39m TextFileReader(filepath_or_buffer, \u001b[38;5;241m*\u001b[39m\u001b[38;5;241m*\u001b[39mkwds)\n\u001b[0;32m    607\u001b[0m \u001b[38;5;28;01mif\u001b[39;00m chunksize \u001b[38;5;129;01mor\u001b[39;00m iterator:\n\u001b[0;32m    608\u001b[0m     \u001b[38;5;28;01mreturn\u001b[39;00m parser\n",
      "File \u001b[1;32m~\\anaconda3\\lib\\site-packages\\pandas\\io\\parsers\\readers.py:1442\u001b[0m, in \u001b[0;36mTextFileReader.__init__\u001b[1;34m(self, f, engine, **kwds)\u001b[0m\n\u001b[0;32m   1439\u001b[0m     \u001b[38;5;28mself\u001b[39m\u001b[38;5;241m.\u001b[39moptions[\u001b[38;5;124m\"\u001b[39m\u001b[38;5;124mhas_index_names\u001b[39m\u001b[38;5;124m\"\u001b[39m] \u001b[38;5;241m=\u001b[39m kwds[\u001b[38;5;124m\"\u001b[39m\u001b[38;5;124mhas_index_names\u001b[39m\u001b[38;5;124m\"\u001b[39m]\n\u001b[0;32m   1441\u001b[0m \u001b[38;5;28mself\u001b[39m\u001b[38;5;241m.\u001b[39mhandles: IOHandles \u001b[38;5;241m|\u001b[39m \u001b[38;5;28;01mNone\u001b[39;00m \u001b[38;5;241m=\u001b[39m \u001b[38;5;28;01mNone\u001b[39;00m\n\u001b[1;32m-> 1442\u001b[0m \u001b[38;5;28mself\u001b[39m\u001b[38;5;241m.\u001b[39m_engine \u001b[38;5;241m=\u001b[39m \u001b[38;5;28;43mself\u001b[39;49m\u001b[38;5;241;43m.\u001b[39;49m\u001b[43m_make_engine\u001b[49m\u001b[43m(\u001b[49m\u001b[43mf\u001b[49m\u001b[43m,\u001b[49m\u001b[43m \u001b[49m\u001b[38;5;28;43mself\u001b[39;49m\u001b[38;5;241;43m.\u001b[39;49m\u001b[43mengine\u001b[49m\u001b[43m)\u001b[49m\n",
      "File \u001b[1;32m~\\anaconda3\\lib\\site-packages\\pandas\\io\\parsers\\readers.py:1735\u001b[0m, in \u001b[0;36mTextFileReader._make_engine\u001b[1;34m(self, f, engine)\u001b[0m\n\u001b[0;32m   1733\u001b[0m     \u001b[38;5;28;01mif\u001b[39;00m \u001b[38;5;124m\"\u001b[39m\u001b[38;5;124mb\u001b[39m\u001b[38;5;124m\"\u001b[39m \u001b[38;5;129;01mnot\u001b[39;00m \u001b[38;5;129;01min\u001b[39;00m mode:\n\u001b[0;32m   1734\u001b[0m         mode \u001b[38;5;241m+\u001b[39m\u001b[38;5;241m=\u001b[39m \u001b[38;5;124m\"\u001b[39m\u001b[38;5;124mb\u001b[39m\u001b[38;5;124m\"\u001b[39m\n\u001b[1;32m-> 1735\u001b[0m \u001b[38;5;28mself\u001b[39m\u001b[38;5;241m.\u001b[39mhandles \u001b[38;5;241m=\u001b[39m \u001b[43mget_handle\u001b[49m\u001b[43m(\u001b[49m\n\u001b[0;32m   1736\u001b[0m \u001b[43m    \u001b[49m\u001b[43mf\u001b[49m\u001b[43m,\u001b[49m\n\u001b[0;32m   1737\u001b[0m \u001b[43m    \u001b[49m\u001b[43mmode\u001b[49m\u001b[43m,\u001b[49m\n\u001b[0;32m   1738\u001b[0m \u001b[43m    \u001b[49m\u001b[43mencoding\u001b[49m\u001b[38;5;241;43m=\u001b[39;49m\u001b[38;5;28;43mself\u001b[39;49m\u001b[38;5;241;43m.\u001b[39;49m\u001b[43moptions\u001b[49m\u001b[38;5;241;43m.\u001b[39;49m\u001b[43mget\u001b[49m\u001b[43m(\u001b[49m\u001b[38;5;124;43m\"\u001b[39;49m\u001b[38;5;124;43mencoding\u001b[39;49m\u001b[38;5;124;43m\"\u001b[39;49m\u001b[43m,\u001b[49m\u001b[43m \u001b[49m\u001b[38;5;28;43;01mNone\u001b[39;49;00m\u001b[43m)\u001b[49m\u001b[43m,\u001b[49m\n\u001b[0;32m   1739\u001b[0m \u001b[43m    \u001b[49m\u001b[43mcompression\u001b[49m\u001b[38;5;241;43m=\u001b[39;49m\u001b[38;5;28;43mself\u001b[39;49m\u001b[38;5;241;43m.\u001b[39;49m\u001b[43moptions\u001b[49m\u001b[38;5;241;43m.\u001b[39;49m\u001b[43mget\u001b[49m\u001b[43m(\u001b[49m\u001b[38;5;124;43m\"\u001b[39;49m\u001b[38;5;124;43mcompression\u001b[39;49m\u001b[38;5;124;43m\"\u001b[39;49m\u001b[43m,\u001b[49m\u001b[43m \u001b[49m\u001b[38;5;28;43;01mNone\u001b[39;49;00m\u001b[43m)\u001b[49m\u001b[43m,\u001b[49m\n\u001b[0;32m   1740\u001b[0m \u001b[43m    \u001b[49m\u001b[43mmemory_map\u001b[49m\u001b[38;5;241;43m=\u001b[39;49m\u001b[38;5;28;43mself\u001b[39;49m\u001b[38;5;241;43m.\u001b[39;49m\u001b[43moptions\u001b[49m\u001b[38;5;241;43m.\u001b[39;49m\u001b[43mget\u001b[49m\u001b[43m(\u001b[49m\u001b[38;5;124;43m\"\u001b[39;49m\u001b[38;5;124;43mmemory_map\u001b[39;49m\u001b[38;5;124;43m\"\u001b[39;49m\u001b[43m,\u001b[49m\u001b[43m \u001b[49m\u001b[38;5;28;43;01mFalse\u001b[39;49;00m\u001b[43m)\u001b[49m\u001b[43m,\u001b[49m\n\u001b[0;32m   1741\u001b[0m \u001b[43m    \u001b[49m\u001b[43mis_text\u001b[49m\u001b[38;5;241;43m=\u001b[39;49m\u001b[43mis_text\u001b[49m\u001b[43m,\u001b[49m\n\u001b[0;32m   1742\u001b[0m \u001b[43m    \u001b[49m\u001b[43merrors\u001b[49m\u001b[38;5;241;43m=\u001b[39;49m\u001b[38;5;28;43mself\u001b[39;49m\u001b[38;5;241;43m.\u001b[39;49m\u001b[43moptions\u001b[49m\u001b[38;5;241;43m.\u001b[39;49m\u001b[43mget\u001b[49m\u001b[43m(\u001b[49m\u001b[38;5;124;43m\"\u001b[39;49m\u001b[38;5;124;43mencoding_errors\u001b[39;49m\u001b[38;5;124;43m\"\u001b[39;49m\u001b[43m,\u001b[49m\u001b[43m \u001b[49m\u001b[38;5;124;43m\"\u001b[39;49m\u001b[38;5;124;43mstrict\u001b[39;49m\u001b[38;5;124;43m\"\u001b[39;49m\u001b[43m)\u001b[49m\u001b[43m,\u001b[49m\n\u001b[0;32m   1743\u001b[0m \u001b[43m    \u001b[49m\u001b[43mstorage_options\u001b[49m\u001b[38;5;241;43m=\u001b[39;49m\u001b[38;5;28;43mself\u001b[39;49m\u001b[38;5;241;43m.\u001b[39;49m\u001b[43moptions\u001b[49m\u001b[38;5;241;43m.\u001b[39;49m\u001b[43mget\u001b[49m\u001b[43m(\u001b[49m\u001b[38;5;124;43m\"\u001b[39;49m\u001b[38;5;124;43mstorage_options\u001b[39;49m\u001b[38;5;124;43m\"\u001b[39;49m\u001b[43m,\u001b[49m\u001b[43m \u001b[49m\u001b[38;5;28;43;01mNone\u001b[39;49;00m\u001b[43m)\u001b[49m\u001b[43m,\u001b[49m\n\u001b[0;32m   1744\u001b[0m \u001b[43m\u001b[49m\u001b[43m)\u001b[49m\n\u001b[0;32m   1745\u001b[0m \u001b[38;5;28;01massert\u001b[39;00m \u001b[38;5;28mself\u001b[39m\u001b[38;5;241m.\u001b[39mhandles \u001b[38;5;129;01mis\u001b[39;00m \u001b[38;5;129;01mnot\u001b[39;00m \u001b[38;5;28;01mNone\u001b[39;00m\n\u001b[0;32m   1746\u001b[0m f \u001b[38;5;241m=\u001b[39m \u001b[38;5;28mself\u001b[39m\u001b[38;5;241m.\u001b[39mhandles\u001b[38;5;241m.\u001b[39mhandle\n",
      "File \u001b[1;32m~\\anaconda3\\lib\\site-packages\\pandas\\io\\common.py:856\u001b[0m, in \u001b[0;36mget_handle\u001b[1;34m(path_or_buf, mode, encoding, compression, memory_map, is_text, errors, storage_options)\u001b[0m\n\u001b[0;32m    851\u001b[0m \u001b[38;5;28;01melif\u001b[39;00m \u001b[38;5;28misinstance\u001b[39m(handle, \u001b[38;5;28mstr\u001b[39m):\n\u001b[0;32m    852\u001b[0m     \u001b[38;5;66;03m# Check whether the filename is to be opened in binary mode.\u001b[39;00m\n\u001b[0;32m    853\u001b[0m     \u001b[38;5;66;03m# Binary mode does not support 'encoding' and 'newline'.\u001b[39;00m\n\u001b[0;32m    854\u001b[0m     \u001b[38;5;28;01mif\u001b[39;00m ioargs\u001b[38;5;241m.\u001b[39mencoding \u001b[38;5;129;01mand\u001b[39;00m \u001b[38;5;124m\"\u001b[39m\u001b[38;5;124mb\u001b[39m\u001b[38;5;124m\"\u001b[39m \u001b[38;5;129;01mnot\u001b[39;00m \u001b[38;5;129;01min\u001b[39;00m ioargs\u001b[38;5;241m.\u001b[39mmode:\n\u001b[0;32m    855\u001b[0m         \u001b[38;5;66;03m# Encoding\u001b[39;00m\n\u001b[1;32m--> 856\u001b[0m         handle \u001b[38;5;241m=\u001b[39m \u001b[38;5;28;43mopen\u001b[39;49m\u001b[43m(\u001b[49m\n\u001b[0;32m    857\u001b[0m \u001b[43m            \u001b[49m\u001b[43mhandle\u001b[49m\u001b[43m,\u001b[49m\n\u001b[0;32m    858\u001b[0m \u001b[43m            \u001b[49m\u001b[43mioargs\u001b[49m\u001b[38;5;241;43m.\u001b[39;49m\u001b[43mmode\u001b[49m\u001b[43m,\u001b[49m\n\u001b[0;32m    859\u001b[0m \u001b[43m            \u001b[49m\u001b[43mencoding\u001b[49m\u001b[38;5;241;43m=\u001b[39;49m\u001b[43mioargs\u001b[49m\u001b[38;5;241;43m.\u001b[39;49m\u001b[43mencoding\u001b[49m\u001b[43m,\u001b[49m\n\u001b[0;32m    860\u001b[0m \u001b[43m            \u001b[49m\u001b[43merrors\u001b[49m\u001b[38;5;241;43m=\u001b[39;49m\u001b[43merrors\u001b[49m\u001b[43m,\u001b[49m\n\u001b[0;32m    861\u001b[0m \u001b[43m            \u001b[49m\u001b[43mnewline\u001b[49m\u001b[38;5;241;43m=\u001b[39;49m\u001b[38;5;124;43m\"\u001b[39;49m\u001b[38;5;124;43m\"\u001b[39;49m\u001b[43m,\u001b[49m\n\u001b[0;32m    862\u001b[0m \u001b[43m        \u001b[49m\u001b[43m)\u001b[49m\n\u001b[0;32m    863\u001b[0m     \u001b[38;5;28;01melse\u001b[39;00m:\n\u001b[0;32m    864\u001b[0m         \u001b[38;5;66;03m# Binary mode\u001b[39;00m\n\u001b[0;32m    865\u001b[0m         handle \u001b[38;5;241m=\u001b[39m \u001b[38;5;28mopen\u001b[39m(handle, ioargs\u001b[38;5;241m.\u001b[39mmode)\n",
      "\u001b[1;31mFileNotFoundError\u001b[0m: [Errno 2] No such file or directory: '/kaggle/input/jio-mart-product-items/jio_mart_items.csv'"
     ]
    }
   ],
   "source": [
    "df1 = pd.read_csv('/kaggle/input/jio-mart-product-items/jio_mart_items.csv')"
   ]
  },
  {
   "cell_type": "code",
   "execution_count": 36,
   "id": "dd541464",
   "metadata": {},
   "outputs": [
    {
     "name": "stderr",
     "output_type": "stream",
     "text": [
      "C:\\Users\\ASUS\\AppData\\Local\\Temp\\ipykernel_11412\\3239397223.py:1: FutureWarning: The default value of regex will change from True to False in a future version. In addition, single character regular expressions will *not* be treated as literal strings when regex=True.\n",
      "  df['Price Each'] = df['Price Each'].str.replace('$', '').str.replace(',', '')\n"
     ]
    }
   ],
   "source": [
    "df['Price Each'] = df['Price Each'].str.replace('$', '').str.replace(',', '')"
   ]
  },
  {
   "cell_type": "code",
   "execution_count": 37,
   "id": "7563558c",
   "metadata": {},
   "outputs": [
    {
     "ename": "ValueError",
     "evalue": "could not convert string to float: 'Price Each'",
     "output_type": "error",
     "traceback": [
      "\u001b[1;31m---------------------------------------------------------------------------\u001b[0m",
      "\u001b[1;31mValueError\u001b[0m                                Traceback (most recent call last)",
      "Cell \u001b[1;32mIn[37], line 1\u001b[0m\n\u001b[1;32m----> 1\u001b[0m df[\u001b[38;5;124m'\u001b[39m\u001b[38;5;124mPrice Each\u001b[39m\u001b[38;5;124m'\u001b[39m] \u001b[38;5;241m=\u001b[39m \u001b[43mdf\u001b[49m\u001b[43m[\u001b[49m\u001b[38;5;124;43m'\u001b[39;49m\u001b[38;5;124;43mPrice Each\u001b[39;49m\u001b[38;5;124;43m'\u001b[39;49m\u001b[43m]\u001b[49m\u001b[38;5;241;43m.\u001b[39;49m\u001b[43mastype\u001b[49m\u001b[43m(\u001b[49m\u001b[38;5;28;43mfloat\u001b[39;49m\u001b[43m)\u001b[49m\n",
      "File \u001b[1;32m~\\anaconda3\\lib\\site-packages\\pandas\\core\\generic.py:6240\u001b[0m, in \u001b[0;36mNDFrame.astype\u001b[1;34m(self, dtype, copy, errors)\u001b[0m\n\u001b[0;32m   6233\u001b[0m     results \u001b[38;5;241m=\u001b[39m [\n\u001b[0;32m   6234\u001b[0m         \u001b[38;5;28mself\u001b[39m\u001b[38;5;241m.\u001b[39miloc[:, i]\u001b[38;5;241m.\u001b[39mastype(dtype, copy\u001b[38;5;241m=\u001b[39mcopy)\n\u001b[0;32m   6235\u001b[0m         \u001b[38;5;28;01mfor\u001b[39;00m i \u001b[38;5;129;01min\u001b[39;00m \u001b[38;5;28mrange\u001b[39m(\u001b[38;5;28mlen\u001b[39m(\u001b[38;5;28mself\u001b[39m\u001b[38;5;241m.\u001b[39mcolumns))\n\u001b[0;32m   6236\u001b[0m     ]\n\u001b[0;32m   6238\u001b[0m \u001b[38;5;28;01melse\u001b[39;00m:\n\u001b[0;32m   6239\u001b[0m     \u001b[38;5;66;03m# else, only a single dtype is given\u001b[39;00m\n\u001b[1;32m-> 6240\u001b[0m     new_data \u001b[38;5;241m=\u001b[39m \u001b[38;5;28;43mself\u001b[39;49m\u001b[38;5;241;43m.\u001b[39;49m\u001b[43m_mgr\u001b[49m\u001b[38;5;241;43m.\u001b[39;49m\u001b[43mastype\u001b[49m\u001b[43m(\u001b[49m\u001b[43mdtype\u001b[49m\u001b[38;5;241;43m=\u001b[39;49m\u001b[43mdtype\u001b[49m\u001b[43m,\u001b[49m\u001b[43m \u001b[49m\u001b[43mcopy\u001b[49m\u001b[38;5;241;43m=\u001b[39;49m\u001b[43mcopy\u001b[49m\u001b[43m,\u001b[49m\u001b[43m \u001b[49m\u001b[43merrors\u001b[49m\u001b[38;5;241;43m=\u001b[39;49m\u001b[43merrors\u001b[49m\u001b[43m)\u001b[49m\n\u001b[0;32m   6241\u001b[0m     \u001b[38;5;28;01mreturn\u001b[39;00m \u001b[38;5;28mself\u001b[39m\u001b[38;5;241m.\u001b[39m_constructor(new_data)\u001b[38;5;241m.\u001b[39m__finalize__(\u001b[38;5;28mself\u001b[39m, method\u001b[38;5;241m=\u001b[39m\u001b[38;5;124m\"\u001b[39m\u001b[38;5;124mastype\u001b[39m\u001b[38;5;124m\"\u001b[39m)\n\u001b[0;32m   6243\u001b[0m \u001b[38;5;66;03m# GH 33113: handle empty frame or series\u001b[39;00m\n",
      "File \u001b[1;32m~\\anaconda3\\lib\\site-packages\\pandas\\core\\internals\\managers.py:448\u001b[0m, in \u001b[0;36mBaseBlockManager.astype\u001b[1;34m(self, dtype, copy, errors)\u001b[0m\n\u001b[0;32m    447\u001b[0m \u001b[38;5;28;01mdef\u001b[39;00m \u001b[38;5;21mastype\u001b[39m(\u001b[38;5;28mself\u001b[39m: T, dtype, copy: \u001b[38;5;28mbool\u001b[39m \u001b[38;5;241m=\u001b[39m \u001b[38;5;28;01mFalse\u001b[39;00m, errors: \u001b[38;5;28mstr\u001b[39m \u001b[38;5;241m=\u001b[39m \u001b[38;5;124m\"\u001b[39m\u001b[38;5;124mraise\u001b[39m\u001b[38;5;124m\"\u001b[39m) \u001b[38;5;241m-\u001b[39m\u001b[38;5;241m>\u001b[39m T:\n\u001b[1;32m--> 448\u001b[0m     \u001b[38;5;28;01mreturn\u001b[39;00m \u001b[38;5;28;43mself\u001b[39;49m\u001b[38;5;241;43m.\u001b[39;49m\u001b[43mapply\u001b[49m\u001b[43m(\u001b[49m\u001b[38;5;124;43m\"\u001b[39;49m\u001b[38;5;124;43mastype\u001b[39;49m\u001b[38;5;124;43m\"\u001b[39;49m\u001b[43m,\u001b[49m\u001b[43m \u001b[49m\u001b[43mdtype\u001b[49m\u001b[38;5;241;43m=\u001b[39;49m\u001b[43mdtype\u001b[49m\u001b[43m,\u001b[49m\u001b[43m \u001b[49m\u001b[43mcopy\u001b[49m\u001b[38;5;241;43m=\u001b[39;49m\u001b[43mcopy\u001b[49m\u001b[43m,\u001b[49m\u001b[43m \u001b[49m\u001b[43merrors\u001b[49m\u001b[38;5;241;43m=\u001b[39;49m\u001b[43merrors\u001b[49m\u001b[43m)\u001b[49m\n",
      "File \u001b[1;32m~\\anaconda3\\lib\\site-packages\\pandas\\core\\internals\\managers.py:352\u001b[0m, in \u001b[0;36mBaseBlockManager.apply\u001b[1;34m(self, f, align_keys, ignore_failures, **kwargs)\u001b[0m\n\u001b[0;32m    350\u001b[0m         applied \u001b[38;5;241m=\u001b[39m b\u001b[38;5;241m.\u001b[39mapply(f, \u001b[38;5;241m*\u001b[39m\u001b[38;5;241m*\u001b[39mkwargs)\n\u001b[0;32m    351\u001b[0m     \u001b[38;5;28;01melse\u001b[39;00m:\n\u001b[1;32m--> 352\u001b[0m         applied \u001b[38;5;241m=\u001b[39m \u001b[38;5;28mgetattr\u001b[39m(b, f)(\u001b[38;5;241m*\u001b[39m\u001b[38;5;241m*\u001b[39mkwargs)\n\u001b[0;32m    353\u001b[0m \u001b[38;5;28;01mexcept\u001b[39;00m (\u001b[38;5;167;01mTypeError\u001b[39;00m, \u001b[38;5;167;01mNotImplementedError\u001b[39;00m):\n\u001b[0;32m    354\u001b[0m     \u001b[38;5;28;01mif\u001b[39;00m \u001b[38;5;129;01mnot\u001b[39;00m ignore_failures:\n",
      "File \u001b[1;32m~\\anaconda3\\lib\\site-packages\\pandas\\core\\internals\\blocks.py:526\u001b[0m, in \u001b[0;36mBlock.astype\u001b[1;34m(self, dtype, copy, errors)\u001b[0m\n\u001b[0;32m    508\u001b[0m \u001b[38;5;124;03m\"\"\"\u001b[39;00m\n\u001b[0;32m    509\u001b[0m \u001b[38;5;124;03mCoerce to the new dtype.\u001b[39;00m\n\u001b[0;32m    510\u001b[0m \n\u001b[1;32m   (...)\u001b[0m\n\u001b[0;32m    522\u001b[0m \u001b[38;5;124;03mBlock\u001b[39;00m\n\u001b[0;32m    523\u001b[0m \u001b[38;5;124;03m\"\"\"\u001b[39;00m\n\u001b[0;32m    524\u001b[0m values \u001b[38;5;241m=\u001b[39m \u001b[38;5;28mself\u001b[39m\u001b[38;5;241m.\u001b[39mvalues\n\u001b[1;32m--> 526\u001b[0m new_values \u001b[38;5;241m=\u001b[39m \u001b[43mastype_array_safe\u001b[49m\u001b[43m(\u001b[49m\u001b[43mvalues\u001b[49m\u001b[43m,\u001b[49m\u001b[43m \u001b[49m\u001b[43mdtype\u001b[49m\u001b[43m,\u001b[49m\u001b[43m \u001b[49m\u001b[43mcopy\u001b[49m\u001b[38;5;241;43m=\u001b[39;49m\u001b[43mcopy\u001b[49m\u001b[43m,\u001b[49m\u001b[43m \u001b[49m\u001b[43merrors\u001b[49m\u001b[38;5;241;43m=\u001b[39;49m\u001b[43merrors\u001b[49m\u001b[43m)\u001b[49m\n\u001b[0;32m    528\u001b[0m new_values \u001b[38;5;241m=\u001b[39m maybe_coerce_values(new_values)\n\u001b[0;32m    529\u001b[0m newb \u001b[38;5;241m=\u001b[39m \u001b[38;5;28mself\u001b[39m\u001b[38;5;241m.\u001b[39mmake_block(new_values)\n",
      "File \u001b[1;32m~\\anaconda3\\lib\\site-packages\\pandas\\core\\dtypes\\astype.py:299\u001b[0m, in \u001b[0;36mastype_array_safe\u001b[1;34m(values, dtype, copy, errors)\u001b[0m\n\u001b[0;32m    296\u001b[0m     \u001b[38;5;28;01mreturn\u001b[39;00m values\u001b[38;5;241m.\u001b[39mcopy()\n\u001b[0;32m    298\u001b[0m \u001b[38;5;28;01mtry\u001b[39;00m:\n\u001b[1;32m--> 299\u001b[0m     new_values \u001b[38;5;241m=\u001b[39m \u001b[43mastype_array\u001b[49m\u001b[43m(\u001b[49m\u001b[43mvalues\u001b[49m\u001b[43m,\u001b[49m\u001b[43m \u001b[49m\u001b[43mdtype\u001b[49m\u001b[43m,\u001b[49m\u001b[43m \u001b[49m\u001b[43mcopy\u001b[49m\u001b[38;5;241;43m=\u001b[39;49m\u001b[43mcopy\u001b[49m\u001b[43m)\u001b[49m\n\u001b[0;32m    300\u001b[0m \u001b[38;5;28;01mexcept\u001b[39;00m (\u001b[38;5;167;01mValueError\u001b[39;00m, \u001b[38;5;167;01mTypeError\u001b[39;00m):\n\u001b[0;32m    301\u001b[0m     \u001b[38;5;66;03m# e.g. astype_nansafe can fail on object-dtype of strings\u001b[39;00m\n\u001b[0;32m    302\u001b[0m     \u001b[38;5;66;03m#  trying to convert to float\u001b[39;00m\n\u001b[0;32m    303\u001b[0m     \u001b[38;5;28;01mif\u001b[39;00m errors \u001b[38;5;241m==\u001b[39m \u001b[38;5;124m\"\u001b[39m\u001b[38;5;124mignore\u001b[39m\u001b[38;5;124m\"\u001b[39m:\n",
      "File \u001b[1;32m~\\anaconda3\\lib\\site-packages\\pandas\\core\\dtypes\\astype.py:230\u001b[0m, in \u001b[0;36mastype_array\u001b[1;34m(values, dtype, copy)\u001b[0m\n\u001b[0;32m    227\u001b[0m     values \u001b[38;5;241m=\u001b[39m values\u001b[38;5;241m.\u001b[39mastype(dtype, copy\u001b[38;5;241m=\u001b[39mcopy)\n\u001b[0;32m    229\u001b[0m \u001b[38;5;28;01melse\u001b[39;00m:\n\u001b[1;32m--> 230\u001b[0m     values \u001b[38;5;241m=\u001b[39m \u001b[43mastype_nansafe\u001b[49m\u001b[43m(\u001b[49m\u001b[43mvalues\u001b[49m\u001b[43m,\u001b[49m\u001b[43m \u001b[49m\u001b[43mdtype\u001b[49m\u001b[43m,\u001b[49m\u001b[43m \u001b[49m\u001b[43mcopy\u001b[49m\u001b[38;5;241;43m=\u001b[39;49m\u001b[43mcopy\u001b[49m\u001b[43m)\u001b[49m\n\u001b[0;32m    232\u001b[0m \u001b[38;5;66;03m# in pandas we don't store numpy str dtypes, so convert to object\u001b[39;00m\n\u001b[0;32m    233\u001b[0m \u001b[38;5;28;01mif\u001b[39;00m \u001b[38;5;28misinstance\u001b[39m(dtype, np\u001b[38;5;241m.\u001b[39mdtype) \u001b[38;5;129;01mand\u001b[39;00m \u001b[38;5;28missubclass\u001b[39m(values\u001b[38;5;241m.\u001b[39mdtype\u001b[38;5;241m.\u001b[39mtype, \u001b[38;5;28mstr\u001b[39m):\n",
      "File \u001b[1;32m~\\anaconda3\\lib\\site-packages\\pandas\\core\\dtypes\\astype.py:170\u001b[0m, in \u001b[0;36mastype_nansafe\u001b[1;34m(arr, dtype, copy, skipna)\u001b[0m\n\u001b[0;32m    166\u001b[0m     \u001b[38;5;28;01mraise\u001b[39;00m \u001b[38;5;167;01mValueError\u001b[39;00m(msg)\n\u001b[0;32m    168\u001b[0m \u001b[38;5;28;01mif\u001b[39;00m copy \u001b[38;5;129;01mor\u001b[39;00m is_object_dtype(arr\u001b[38;5;241m.\u001b[39mdtype) \u001b[38;5;129;01mor\u001b[39;00m is_object_dtype(dtype):\n\u001b[0;32m    169\u001b[0m     \u001b[38;5;66;03m# Explicit copy, or required since NumPy can't view from / to object.\u001b[39;00m\n\u001b[1;32m--> 170\u001b[0m     \u001b[38;5;28;01mreturn\u001b[39;00m \u001b[43marr\u001b[49m\u001b[38;5;241;43m.\u001b[39;49m\u001b[43mastype\u001b[49m\u001b[43m(\u001b[49m\u001b[43mdtype\u001b[49m\u001b[43m,\u001b[49m\u001b[43m \u001b[49m\u001b[43mcopy\u001b[49m\u001b[38;5;241;43m=\u001b[39;49m\u001b[38;5;28;43;01mTrue\u001b[39;49;00m\u001b[43m)\u001b[49m\n\u001b[0;32m    172\u001b[0m \u001b[38;5;28;01mreturn\u001b[39;00m arr\u001b[38;5;241m.\u001b[39mastype(dtype, copy\u001b[38;5;241m=\u001b[39mcopy)\n",
      "\u001b[1;31mValueError\u001b[0m: could not convert string to float: 'Price Each'"
     ]
    }
   ],
   "source": [
    "df['Price Each'] = df['Price Each'].astype(float)"
   ]
  },
  {
   "cell_type": "code",
   "execution_count": 39,
   "id": "8ddd7413",
   "metadata": {},
   "outputs": [
    {
     "ename": "ValueError",
     "evalue": "could not convert string to float: 'Price Each'",
     "output_type": "error",
     "traceback": [
      "\u001b[1;31m---------------------------------------------------------------------------\u001b[0m",
      "\u001b[1;31mValueError\u001b[0m                                Traceback (most recent call last)",
      "Cell \u001b[1;32mIn[39], line 1\u001b[0m\n\u001b[1;32m----> 1\u001b[0m df[\u001b[38;5;124m'\u001b[39m\u001b[38;5;124mPrice Each\u001b[39m\u001b[38;5;124m'\u001b[39m] \u001b[38;5;241m=\u001b[39m \u001b[43mdf\u001b[49m\u001b[43m[\u001b[49m\u001b[38;5;124;43m'\u001b[39;49m\u001b[38;5;124;43mPrice Each\u001b[39;49m\u001b[38;5;124;43m'\u001b[39;49m\u001b[43m]\u001b[49m\u001b[38;5;241;43m.\u001b[39;49m\u001b[43mastype\u001b[49m\u001b[43m(\u001b[49m\u001b[38;5;124;43m'\u001b[39;49m\u001b[38;5;124;43mfloat\u001b[39;49m\u001b[38;5;124;43m'\u001b[39;49m\u001b[43m)\u001b[49m\n",
      "File \u001b[1;32m~\\anaconda3\\lib\\site-packages\\pandas\\core\\generic.py:6240\u001b[0m, in \u001b[0;36mNDFrame.astype\u001b[1;34m(self, dtype, copy, errors)\u001b[0m\n\u001b[0;32m   6233\u001b[0m     results \u001b[38;5;241m=\u001b[39m [\n\u001b[0;32m   6234\u001b[0m         \u001b[38;5;28mself\u001b[39m\u001b[38;5;241m.\u001b[39miloc[:, i]\u001b[38;5;241m.\u001b[39mastype(dtype, copy\u001b[38;5;241m=\u001b[39mcopy)\n\u001b[0;32m   6235\u001b[0m         \u001b[38;5;28;01mfor\u001b[39;00m i \u001b[38;5;129;01min\u001b[39;00m \u001b[38;5;28mrange\u001b[39m(\u001b[38;5;28mlen\u001b[39m(\u001b[38;5;28mself\u001b[39m\u001b[38;5;241m.\u001b[39mcolumns))\n\u001b[0;32m   6236\u001b[0m     ]\n\u001b[0;32m   6238\u001b[0m \u001b[38;5;28;01melse\u001b[39;00m:\n\u001b[0;32m   6239\u001b[0m     \u001b[38;5;66;03m# else, only a single dtype is given\u001b[39;00m\n\u001b[1;32m-> 6240\u001b[0m     new_data \u001b[38;5;241m=\u001b[39m \u001b[38;5;28;43mself\u001b[39;49m\u001b[38;5;241;43m.\u001b[39;49m\u001b[43m_mgr\u001b[49m\u001b[38;5;241;43m.\u001b[39;49m\u001b[43mastype\u001b[49m\u001b[43m(\u001b[49m\u001b[43mdtype\u001b[49m\u001b[38;5;241;43m=\u001b[39;49m\u001b[43mdtype\u001b[49m\u001b[43m,\u001b[49m\u001b[43m \u001b[49m\u001b[43mcopy\u001b[49m\u001b[38;5;241;43m=\u001b[39;49m\u001b[43mcopy\u001b[49m\u001b[43m,\u001b[49m\u001b[43m \u001b[49m\u001b[43merrors\u001b[49m\u001b[38;5;241;43m=\u001b[39;49m\u001b[43merrors\u001b[49m\u001b[43m)\u001b[49m\n\u001b[0;32m   6241\u001b[0m     \u001b[38;5;28;01mreturn\u001b[39;00m \u001b[38;5;28mself\u001b[39m\u001b[38;5;241m.\u001b[39m_constructor(new_data)\u001b[38;5;241m.\u001b[39m__finalize__(\u001b[38;5;28mself\u001b[39m, method\u001b[38;5;241m=\u001b[39m\u001b[38;5;124m\"\u001b[39m\u001b[38;5;124mastype\u001b[39m\u001b[38;5;124m\"\u001b[39m)\n\u001b[0;32m   6243\u001b[0m \u001b[38;5;66;03m# GH 33113: handle empty frame or series\u001b[39;00m\n",
      "File \u001b[1;32m~\\anaconda3\\lib\\site-packages\\pandas\\core\\internals\\managers.py:448\u001b[0m, in \u001b[0;36mBaseBlockManager.astype\u001b[1;34m(self, dtype, copy, errors)\u001b[0m\n\u001b[0;32m    447\u001b[0m \u001b[38;5;28;01mdef\u001b[39;00m \u001b[38;5;21mastype\u001b[39m(\u001b[38;5;28mself\u001b[39m: T, dtype, copy: \u001b[38;5;28mbool\u001b[39m \u001b[38;5;241m=\u001b[39m \u001b[38;5;28;01mFalse\u001b[39;00m, errors: \u001b[38;5;28mstr\u001b[39m \u001b[38;5;241m=\u001b[39m \u001b[38;5;124m\"\u001b[39m\u001b[38;5;124mraise\u001b[39m\u001b[38;5;124m\"\u001b[39m) \u001b[38;5;241m-\u001b[39m\u001b[38;5;241m>\u001b[39m T:\n\u001b[1;32m--> 448\u001b[0m     \u001b[38;5;28;01mreturn\u001b[39;00m \u001b[38;5;28;43mself\u001b[39;49m\u001b[38;5;241;43m.\u001b[39;49m\u001b[43mapply\u001b[49m\u001b[43m(\u001b[49m\u001b[38;5;124;43m\"\u001b[39;49m\u001b[38;5;124;43mastype\u001b[39;49m\u001b[38;5;124;43m\"\u001b[39;49m\u001b[43m,\u001b[49m\u001b[43m \u001b[49m\u001b[43mdtype\u001b[49m\u001b[38;5;241;43m=\u001b[39;49m\u001b[43mdtype\u001b[49m\u001b[43m,\u001b[49m\u001b[43m \u001b[49m\u001b[43mcopy\u001b[49m\u001b[38;5;241;43m=\u001b[39;49m\u001b[43mcopy\u001b[49m\u001b[43m,\u001b[49m\u001b[43m \u001b[49m\u001b[43merrors\u001b[49m\u001b[38;5;241;43m=\u001b[39;49m\u001b[43merrors\u001b[49m\u001b[43m)\u001b[49m\n",
      "File \u001b[1;32m~\\anaconda3\\lib\\site-packages\\pandas\\core\\internals\\managers.py:352\u001b[0m, in \u001b[0;36mBaseBlockManager.apply\u001b[1;34m(self, f, align_keys, ignore_failures, **kwargs)\u001b[0m\n\u001b[0;32m    350\u001b[0m         applied \u001b[38;5;241m=\u001b[39m b\u001b[38;5;241m.\u001b[39mapply(f, \u001b[38;5;241m*\u001b[39m\u001b[38;5;241m*\u001b[39mkwargs)\n\u001b[0;32m    351\u001b[0m     \u001b[38;5;28;01melse\u001b[39;00m:\n\u001b[1;32m--> 352\u001b[0m         applied \u001b[38;5;241m=\u001b[39m \u001b[38;5;28mgetattr\u001b[39m(b, f)(\u001b[38;5;241m*\u001b[39m\u001b[38;5;241m*\u001b[39mkwargs)\n\u001b[0;32m    353\u001b[0m \u001b[38;5;28;01mexcept\u001b[39;00m (\u001b[38;5;167;01mTypeError\u001b[39;00m, \u001b[38;5;167;01mNotImplementedError\u001b[39;00m):\n\u001b[0;32m    354\u001b[0m     \u001b[38;5;28;01mif\u001b[39;00m \u001b[38;5;129;01mnot\u001b[39;00m ignore_failures:\n",
      "File \u001b[1;32m~\\anaconda3\\lib\\site-packages\\pandas\\core\\internals\\blocks.py:526\u001b[0m, in \u001b[0;36mBlock.astype\u001b[1;34m(self, dtype, copy, errors)\u001b[0m\n\u001b[0;32m    508\u001b[0m \u001b[38;5;124;03m\"\"\"\u001b[39;00m\n\u001b[0;32m    509\u001b[0m \u001b[38;5;124;03mCoerce to the new dtype.\u001b[39;00m\n\u001b[0;32m    510\u001b[0m \n\u001b[1;32m   (...)\u001b[0m\n\u001b[0;32m    522\u001b[0m \u001b[38;5;124;03mBlock\u001b[39;00m\n\u001b[0;32m    523\u001b[0m \u001b[38;5;124;03m\"\"\"\u001b[39;00m\n\u001b[0;32m    524\u001b[0m values \u001b[38;5;241m=\u001b[39m \u001b[38;5;28mself\u001b[39m\u001b[38;5;241m.\u001b[39mvalues\n\u001b[1;32m--> 526\u001b[0m new_values \u001b[38;5;241m=\u001b[39m \u001b[43mastype_array_safe\u001b[49m\u001b[43m(\u001b[49m\u001b[43mvalues\u001b[49m\u001b[43m,\u001b[49m\u001b[43m \u001b[49m\u001b[43mdtype\u001b[49m\u001b[43m,\u001b[49m\u001b[43m \u001b[49m\u001b[43mcopy\u001b[49m\u001b[38;5;241;43m=\u001b[39;49m\u001b[43mcopy\u001b[49m\u001b[43m,\u001b[49m\u001b[43m \u001b[49m\u001b[43merrors\u001b[49m\u001b[38;5;241;43m=\u001b[39;49m\u001b[43merrors\u001b[49m\u001b[43m)\u001b[49m\n\u001b[0;32m    528\u001b[0m new_values \u001b[38;5;241m=\u001b[39m maybe_coerce_values(new_values)\n\u001b[0;32m    529\u001b[0m newb \u001b[38;5;241m=\u001b[39m \u001b[38;5;28mself\u001b[39m\u001b[38;5;241m.\u001b[39mmake_block(new_values)\n",
      "File \u001b[1;32m~\\anaconda3\\lib\\site-packages\\pandas\\core\\dtypes\\astype.py:299\u001b[0m, in \u001b[0;36mastype_array_safe\u001b[1;34m(values, dtype, copy, errors)\u001b[0m\n\u001b[0;32m    296\u001b[0m     \u001b[38;5;28;01mreturn\u001b[39;00m values\u001b[38;5;241m.\u001b[39mcopy()\n\u001b[0;32m    298\u001b[0m \u001b[38;5;28;01mtry\u001b[39;00m:\n\u001b[1;32m--> 299\u001b[0m     new_values \u001b[38;5;241m=\u001b[39m \u001b[43mastype_array\u001b[49m\u001b[43m(\u001b[49m\u001b[43mvalues\u001b[49m\u001b[43m,\u001b[49m\u001b[43m \u001b[49m\u001b[43mdtype\u001b[49m\u001b[43m,\u001b[49m\u001b[43m \u001b[49m\u001b[43mcopy\u001b[49m\u001b[38;5;241;43m=\u001b[39;49m\u001b[43mcopy\u001b[49m\u001b[43m)\u001b[49m\n\u001b[0;32m    300\u001b[0m \u001b[38;5;28;01mexcept\u001b[39;00m (\u001b[38;5;167;01mValueError\u001b[39;00m, \u001b[38;5;167;01mTypeError\u001b[39;00m):\n\u001b[0;32m    301\u001b[0m     \u001b[38;5;66;03m# e.g. astype_nansafe can fail on object-dtype of strings\u001b[39;00m\n\u001b[0;32m    302\u001b[0m     \u001b[38;5;66;03m#  trying to convert to float\u001b[39;00m\n\u001b[0;32m    303\u001b[0m     \u001b[38;5;28;01mif\u001b[39;00m errors \u001b[38;5;241m==\u001b[39m \u001b[38;5;124m\"\u001b[39m\u001b[38;5;124mignore\u001b[39m\u001b[38;5;124m\"\u001b[39m:\n",
      "File \u001b[1;32m~\\anaconda3\\lib\\site-packages\\pandas\\core\\dtypes\\astype.py:230\u001b[0m, in \u001b[0;36mastype_array\u001b[1;34m(values, dtype, copy)\u001b[0m\n\u001b[0;32m    227\u001b[0m     values \u001b[38;5;241m=\u001b[39m values\u001b[38;5;241m.\u001b[39mastype(dtype, copy\u001b[38;5;241m=\u001b[39mcopy)\n\u001b[0;32m    229\u001b[0m \u001b[38;5;28;01melse\u001b[39;00m:\n\u001b[1;32m--> 230\u001b[0m     values \u001b[38;5;241m=\u001b[39m \u001b[43mastype_nansafe\u001b[49m\u001b[43m(\u001b[49m\u001b[43mvalues\u001b[49m\u001b[43m,\u001b[49m\u001b[43m \u001b[49m\u001b[43mdtype\u001b[49m\u001b[43m,\u001b[49m\u001b[43m \u001b[49m\u001b[43mcopy\u001b[49m\u001b[38;5;241;43m=\u001b[39;49m\u001b[43mcopy\u001b[49m\u001b[43m)\u001b[49m\n\u001b[0;32m    232\u001b[0m \u001b[38;5;66;03m# in pandas we don't store numpy str dtypes, so convert to object\u001b[39;00m\n\u001b[0;32m    233\u001b[0m \u001b[38;5;28;01mif\u001b[39;00m \u001b[38;5;28misinstance\u001b[39m(dtype, np\u001b[38;5;241m.\u001b[39mdtype) \u001b[38;5;129;01mand\u001b[39;00m \u001b[38;5;28missubclass\u001b[39m(values\u001b[38;5;241m.\u001b[39mdtype\u001b[38;5;241m.\u001b[39mtype, \u001b[38;5;28mstr\u001b[39m):\n",
      "File \u001b[1;32m~\\anaconda3\\lib\\site-packages\\pandas\\core\\dtypes\\astype.py:170\u001b[0m, in \u001b[0;36mastype_nansafe\u001b[1;34m(arr, dtype, copy, skipna)\u001b[0m\n\u001b[0;32m    166\u001b[0m     \u001b[38;5;28;01mraise\u001b[39;00m \u001b[38;5;167;01mValueError\u001b[39;00m(msg)\n\u001b[0;32m    168\u001b[0m \u001b[38;5;28;01mif\u001b[39;00m copy \u001b[38;5;129;01mor\u001b[39;00m is_object_dtype(arr\u001b[38;5;241m.\u001b[39mdtype) \u001b[38;5;129;01mor\u001b[39;00m is_object_dtype(dtype):\n\u001b[0;32m    169\u001b[0m     \u001b[38;5;66;03m# Explicit copy, or required since NumPy can't view from / to object.\u001b[39;00m\n\u001b[1;32m--> 170\u001b[0m     \u001b[38;5;28;01mreturn\u001b[39;00m \u001b[43marr\u001b[49m\u001b[38;5;241;43m.\u001b[39;49m\u001b[43mastype\u001b[49m\u001b[43m(\u001b[49m\u001b[43mdtype\u001b[49m\u001b[43m,\u001b[49m\u001b[43m \u001b[49m\u001b[43mcopy\u001b[49m\u001b[38;5;241;43m=\u001b[39;49m\u001b[38;5;28;43;01mTrue\u001b[39;49;00m\u001b[43m)\u001b[49m\n\u001b[0;32m    172\u001b[0m \u001b[38;5;28;01mreturn\u001b[39;00m arr\u001b[38;5;241m.\u001b[39mastype(dtype, copy\u001b[38;5;241m=\u001b[39mcopy)\n",
      "\u001b[1;31mValueError\u001b[0m: could not convert string to float: 'Price Each'"
     ]
    }
   ],
   "source": [
    "df['Price Each'] = df['Price Each'].astype('float')"
   ]
  },
  {
   "cell_type": "code",
   "execution_count": 40,
   "id": "b0e2f4d2",
   "metadata": {},
   "outputs": [
    {
     "name": "stdout",
     "output_type": "stream",
     "text": [
      "1        True\n",
      "2        True\n",
      "3        True\n",
      "4        True\n",
      "5        True\n",
      "         ... \n",
      "12007    True\n",
      "12008    True\n",
      "12009    True\n",
      "12010    True\n",
      "12011    True\n",
      "Name: Price Each, Length: 11983, dtype: bool\n"
     ]
    }
   ],
   "source": [
    "contains_dollar_sign = df['Price Each'].str.contains('$')\n",
    "print(contains_dollar_sign)"
   ]
  },
  {
   "cell_type": "code",
   "execution_count": 41,
   "id": "d1b91132",
   "metadata": {},
   "outputs": [
    {
     "ename": "ValueError",
     "evalue": "substring not found",
     "output_type": "error",
     "traceback": [
      "\u001b[1;31m---------------------------------------------------------------------------\u001b[0m",
      "\u001b[1;31mValueError\u001b[0m                                Traceback (most recent call last)",
      "Cell \u001b[1;32mIn[41], line 1\u001b[0m\n\u001b[1;32m----> 1\u001b[0m index_of_dollar_sign \u001b[38;5;241m=\u001b[39m \u001b[43mdf\u001b[49m\u001b[43m[\u001b[49m\u001b[38;5;124;43m'\u001b[39;49m\u001b[38;5;124;43mPrice Each\u001b[39;49m\u001b[38;5;124;43m'\u001b[39;49m\u001b[43m]\u001b[49m\u001b[38;5;241;43m.\u001b[39;49m\u001b[43mstr\u001b[49m\u001b[38;5;241;43m.\u001b[39;49m\u001b[43mindex\u001b[49m\u001b[43m(\u001b[49m\u001b[38;5;124;43m'\u001b[39;49m\u001b[38;5;124;43m$\u001b[39;49m\u001b[38;5;124;43m'\u001b[39;49m\u001b[43m)\u001b[49m\n\u001b[0;32m      2\u001b[0m \u001b[38;5;28mprint\u001b[39m(index_of_dollar_sign)\n",
      "File \u001b[1;32m~\\anaconda3\\lib\\site-packages\\pandas\\core\\strings\\accessor.py:129\u001b[0m, in \u001b[0;36mforbid_nonstring_types.<locals>._forbid_nonstring_types.<locals>.wrapper\u001b[1;34m(self, *args, **kwargs)\u001b[0m\n\u001b[0;32m    124\u001b[0m     msg \u001b[38;5;241m=\u001b[39m (\n\u001b[0;32m    125\u001b[0m         \u001b[38;5;124mf\u001b[39m\u001b[38;5;124m\"\u001b[39m\u001b[38;5;124mCannot use .str.\u001b[39m\u001b[38;5;132;01m{\u001b[39;00mfunc_name\u001b[38;5;132;01m}\u001b[39;00m\u001b[38;5;124m with values of \u001b[39m\u001b[38;5;124m\"\u001b[39m\n\u001b[0;32m    126\u001b[0m         \u001b[38;5;124mf\u001b[39m\u001b[38;5;124m\"\u001b[39m\u001b[38;5;124minferred dtype \u001b[39m\u001b[38;5;124m'\u001b[39m\u001b[38;5;132;01m{\u001b[39;00m\u001b[38;5;28mself\u001b[39m\u001b[38;5;241m.\u001b[39m_inferred_dtype\u001b[38;5;132;01m}\u001b[39;00m\u001b[38;5;124m'\u001b[39m\u001b[38;5;124m.\u001b[39m\u001b[38;5;124m\"\u001b[39m\n\u001b[0;32m    127\u001b[0m     )\n\u001b[0;32m    128\u001b[0m     \u001b[38;5;28;01mraise\u001b[39;00m \u001b[38;5;167;01mTypeError\u001b[39;00m(msg)\n\u001b[1;32m--> 129\u001b[0m \u001b[38;5;28;01mreturn\u001b[39;00m func(\u001b[38;5;28mself\u001b[39m, \u001b[38;5;241m*\u001b[39margs, \u001b[38;5;241m*\u001b[39m\u001b[38;5;241m*\u001b[39mkwargs)\n",
      "File \u001b[1;32m~\\anaconda3\\lib\\site-packages\\pandas\\core\\strings\\accessor.py:2849\u001b[0m, in \u001b[0;36mStringMethods.index\u001b[1;34m(self, sub, start, end)\u001b[0m\n\u001b[0;32m   2846\u001b[0m     msg \u001b[38;5;241m=\u001b[39m \u001b[38;5;124mf\u001b[39m\u001b[38;5;124m\"\u001b[39m\u001b[38;5;124mexpected a string object, not \u001b[39m\u001b[38;5;132;01m{\u001b[39;00m\u001b[38;5;28mtype\u001b[39m(sub)\u001b[38;5;241m.\u001b[39m\u001b[38;5;18m__name__\u001b[39m\u001b[38;5;132;01m}\u001b[39;00m\u001b[38;5;124m\"\u001b[39m\n\u001b[0;32m   2847\u001b[0m     \u001b[38;5;28;01mraise\u001b[39;00m \u001b[38;5;167;01mTypeError\u001b[39;00m(msg)\n\u001b[1;32m-> 2849\u001b[0m result \u001b[38;5;241m=\u001b[39m \u001b[38;5;28;43mself\u001b[39;49m\u001b[38;5;241;43m.\u001b[39;49m\u001b[43m_data\u001b[49m\u001b[38;5;241;43m.\u001b[39;49m\u001b[43marray\u001b[49m\u001b[38;5;241;43m.\u001b[39;49m\u001b[43m_str_index\u001b[49m\u001b[43m(\u001b[49m\u001b[43msub\u001b[49m\u001b[43m,\u001b[49m\u001b[43m \u001b[49m\u001b[43mstart\u001b[49m\u001b[38;5;241;43m=\u001b[39;49m\u001b[43mstart\u001b[49m\u001b[43m,\u001b[49m\u001b[43m \u001b[49m\u001b[43mend\u001b[49m\u001b[38;5;241;43m=\u001b[39;49m\u001b[43mend\u001b[49m\u001b[43m)\u001b[49m\n\u001b[0;32m   2850\u001b[0m \u001b[38;5;28;01mreturn\u001b[39;00m \u001b[38;5;28mself\u001b[39m\u001b[38;5;241m.\u001b[39m_wrap_result(result, returns_string\u001b[38;5;241m=\u001b[39m\u001b[38;5;28;01mFalse\u001b[39;00m)\n",
      "File \u001b[1;32m~\\anaconda3\\lib\\site-packages\\pandas\\core\\strings\\object_array.py:264\u001b[0m, in \u001b[0;36mObjectStringArrayMixin._str_index\u001b[1;34m(self, sub, start, end)\u001b[0m\n\u001b[0;32m    262\u001b[0m \u001b[38;5;28;01melse\u001b[39;00m:\n\u001b[0;32m    263\u001b[0m     f \u001b[38;5;241m=\u001b[39m \u001b[38;5;28;01mlambda\u001b[39;00m x: x\u001b[38;5;241m.\u001b[39mindex(sub, start, end)\n\u001b[1;32m--> 264\u001b[0m \u001b[38;5;28;01mreturn\u001b[39;00m \u001b[38;5;28;43mself\u001b[39;49m\u001b[38;5;241;43m.\u001b[39;49m\u001b[43m_str_map\u001b[49m\u001b[43m(\u001b[49m\u001b[43mf\u001b[49m\u001b[43m,\u001b[49m\u001b[43m \u001b[49m\u001b[43mdtype\u001b[49m\u001b[38;5;241;43m=\u001b[39;49m\u001b[38;5;124;43m\"\u001b[39;49m\u001b[38;5;124;43mint64\u001b[39;49m\u001b[38;5;124;43m\"\u001b[39;49m\u001b[43m)\u001b[49m\n",
      "File \u001b[1;32m~\\anaconda3\\lib\\site-packages\\pandas\\core\\strings\\object_array.py:71\u001b[0m, in \u001b[0;36mObjectStringArrayMixin._str_map\u001b[1;34m(self, f, na_value, dtype, convert)\u001b[0m\n\u001b[0;32m     69\u001b[0m map_convert \u001b[38;5;241m=\u001b[39m convert \u001b[38;5;129;01mand\u001b[39;00m \u001b[38;5;129;01mnot\u001b[39;00m np\u001b[38;5;241m.\u001b[39mall(mask)\n\u001b[0;32m     70\u001b[0m \u001b[38;5;28;01mtry\u001b[39;00m:\n\u001b[1;32m---> 71\u001b[0m     result \u001b[38;5;241m=\u001b[39m \u001b[43mlib\u001b[49m\u001b[38;5;241;43m.\u001b[39;49m\u001b[43mmap_infer_mask\u001b[49m\u001b[43m(\u001b[49m\u001b[43marr\u001b[49m\u001b[43m,\u001b[49m\u001b[43m \u001b[49m\u001b[43mf\u001b[49m\u001b[43m,\u001b[49m\u001b[43m \u001b[49m\u001b[43mmask\u001b[49m\u001b[38;5;241;43m.\u001b[39;49m\u001b[43mview\u001b[49m\u001b[43m(\u001b[49m\u001b[43mnp\u001b[49m\u001b[38;5;241;43m.\u001b[39;49m\u001b[43muint8\u001b[49m\u001b[43m)\u001b[49m\u001b[43m,\u001b[49m\u001b[43m \u001b[49m\u001b[43mmap_convert\u001b[49m\u001b[43m)\u001b[49m\n\u001b[0;32m     72\u001b[0m \u001b[38;5;28;01mexcept\u001b[39;00m (\u001b[38;5;167;01mTypeError\u001b[39;00m, \u001b[38;5;167;01mAttributeError\u001b[39;00m) \u001b[38;5;28;01mas\u001b[39;00m err:\n\u001b[0;32m     73\u001b[0m     \u001b[38;5;66;03m# Reraise the exception if callable `f` got wrong number of args.\u001b[39;00m\n\u001b[0;32m     74\u001b[0m     \u001b[38;5;66;03m# The user may want to be warned by this, instead of getting NaN\u001b[39;00m\n\u001b[0;32m     75\u001b[0m     p_err \u001b[38;5;241m=\u001b[39m (\n\u001b[0;32m     76\u001b[0m         \u001b[38;5;124mr\u001b[39m\u001b[38;5;124m\"\u001b[39m\u001b[38;5;124m((takes)|(missing)) (?(2)from \u001b[39m\u001b[38;5;124m\\\u001b[39m\u001b[38;5;124md+ to )?\u001b[39m\u001b[38;5;124m\\\u001b[39m\u001b[38;5;124md+ \u001b[39m\u001b[38;5;124m\"\u001b[39m\n\u001b[0;32m     77\u001b[0m         \u001b[38;5;124mr\u001b[39m\u001b[38;5;124m\"\u001b[39m\u001b[38;5;124m(?(3)required )positional arguments?\u001b[39m\u001b[38;5;124m\"\u001b[39m\n\u001b[0;32m     78\u001b[0m     )\n",
      "File \u001b[1;32m~\\anaconda3\\lib\\site-packages\\pandas\\_libs\\lib.pyx:2876\u001b[0m, in \u001b[0;36mpandas._libs.lib.map_infer_mask\u001b[1;34m()\u001b[0m\n",
      "File \u001b[1;32m~\\anaconda3\\lib\\site-packages\\pandas\\core\\strings\\object_array.py:263\u001b[0m, in \u001b[0;36mObjectStringArrayMixin._str_index.<locals>.<lambda>\u001b[1;34m(x)\u001b[0m\n\u001b[0;32m    261\u001b[0m     f \u001b[38;5;241m=\u001b[39m \u001b[38;5;28;01mlambda\u001b[39;00m x: x\u001b[38;5;241m.\u001b[39mindex(sub, start, end)\n\u001b[0;32m    262\u001b[0m \u001b[38;5;28;01melse\u001b[39;00m:\n\u001b[1;32m--> 263\u001b[0m     f \u001b[38;5;241m=\u001b[39m \u001b[38;5;28;01mlambda\u001b[39;00m x: \u001b[43mx\u001b[49m\u001b[38;5;241;43m.\u001b[39;49m\u001b[43mindex\u001b[49m\u001b[43m(\u001b[49m\u001b[43msub\u001b[49m\u001b[43m,\u001b[49m\u001b[43m \u001b[49m\u001b[43mstart\u001b[49m\u001b[43m,\u001b[49m\u001b[43m \u001b[49m\u001b[43mend\u001b[49m\u001b[43m)\u001b[49m\n\u001b[0;32m    264\u001b[0m \u001b[38;5;28;01mreturn\u001b[39;00m \u001b[38;5;28mself\u001b[39m\u001b[38;5;241m.\u001b[39m_str_map(f, dtype\u001b[38;5;241m=\u001b[39m\u001b[38;5;124m\"\u001b[39m\u001b[38;5;124mint64\u001b[39m\u001b[38;5;124m\"\u001b[39m)\n",
      "\u001b[1;31mValueError\u001b[0m: substring not found"
     ]
    }
   ],
   "source": [
    "index_of_dollar_sign = df['Price Each'].str.index('$')\n",
    "print(index_of_dollar_sign)"
   ]
  },
  {
   "cell_type": "code",
   "execution_count": 45,
   "id": "237deb50",
   "metadata": {},
   "outputs": [
    {
     "name": "stdout",
     "output_type": "stream",
     "text": [
      "1        False\n",
      "2        False\n",
      "3        False\n",
      "4        False\n",
      "5        False\n",
      "         ...  \n",
      "12007    False\n",
      "12008    False\n",
      "12009    False\n",
      "12010    False\n",
      "12011    False\n",
      "Name: Price Each, Length: 11983, dtype: bool\n"
     ]
    }
   ],
   "source": [
    "starts_with_dollar_sign = df['Price Each'].str.startswith(\"int\")\n",
    "print(starts_with_dollar_sign)"
   ]
  },
  {
   "cell_type": "code",
   "execution_count": 46,
   "id": "b0657262",
   "metadata": {},
   "outputs": [
    {
     "name": "stdout",
     "output_type": "stream",
     "text": [
      "Empty DataFrame\n",
      "Columns: [Order ID, Product, Quantity Ordered, Price Each, Order Date, Purchase Address]\n",
      "Index: []\n"
     ]
    }
   ],
   "source": [
    "row = df.loc[df['Price Each'] == 11.99]\n",
    "\n",
    "# Print the row\n",
    "print(row)"
   ]
  },
  {
   "cell_type": "code",
   "execution_count": 53,
   "id": "f0bab9f7",
   "metadata": {},
   "outputs": [
    {
     "name": "stdout",
     "output_type": "stream",
     "text": [
      "[]\n"
     ]
    }
   ],
   "source": [
    "def find_string_value(df, string):\n",
    "  \"\"\"Finds the rows in a Pandas DataFrame where the `Price Each` column contains the specified string value.\n",
    "\n",
    "  Args:\n",
    "    df: A Pandas DataFrame.\n",
    "    string: The string value to search for.\n",
    "\n",
    "  Returns:\n",
    "    A list of row indexes where the `Price Each` column contains the specified string value.\n",
    "  \"\"\"\n",
    "\n",
    "  # Get the rows in the DataFrame where the `Price Each` column contains the specified string value.\n",
    "  string_value_rows = df[df['Price Each'] == string]\n",
    "\n",
    "  # Return a list of row indexes where the `Price Each` column contains the specified string value.\n",
    "  return string_value_rows.index.tolist()\n",
    "\n",
    "string_value_rows = find_string_value(df,\"/,?,q,w,e,r,u,t,y,i,o,p,a,s,d,f,g,h,j,k,l,z,x,c,v,b,n,m,!,@,#,$,%,^,&,*,;,:, \")\n",
    "\n",
    "print(string_value_rows)"
   ]
  },
  {
   "cell_type": "code",
   "execution_count": 54,
   "id": "a953275b",
   "metadata": {},
   "outputs": [
    {
     "data": {
      "text/plain": [
       "<bound method NDFrame._add_numeric_operations.<locals>.mean of 1        11.99\n",
       "2        99.99\n",
       "3        700.0\n",
       "4         3.84\n",
       "5         3.84\n",
       "         ...  \n",
       "12007    99.99\n",
       "12008     2.99\n",
       "12009     3.84\n",
       "12010    11.95\n",
       "12011     3.84\n",
       "Name: Price Each, Length: 11983, dtype: object>"
      ]
     },
     "execution_count": 54,
     "metadata": {},
     "output_type": "execute_result"
    }
   ],
   "source": [
    "df['Price Each'].mean\n"
   ]
  },
  {
   "cell_type": "code",
   "execution_count": 55,
   "id": "e700cddf",
   "metadata": {},
   "outputs": [
    {
     "data": {
      "text/html": [
       "<div>\n",
       "<style scoped>\n",
       "    .dataframe tbody tr th:only-of-type {\n",
       "        vertical-align: middle;\n",
       "    }\n",
       "\n",
       "    .dataframe tbody tr th {\n",
       "        vertical-align: top;\n",
       "    }\n",
       "\n",
       "    .dataframe thead th {\n",
       "        text-align: right;\n",
       "    }\n",
       "</style>\n",
       "<table border=\"1\" class=\"dataframe\">\n",
       "  <thead>\n",
       "    <tr style=\"text-align: right;\">\n",
       "      <th></th>\n",
       "      <th>Order ID</th>\n",
       "      <th>Product</th>\n",
       "      <th>Quantity Ordered</th>\n",
       "      <th>Price Each</th>\n",
       "      <th>Order Date</th>\n",
       "      <th>Purchase Address</th>\n",
       "    </tr>\n",
       "  </thead>\n",
       "  <tbody>\n",
       "    <tr>\n",
       "      <th>1</th>\n",
       "      <td>236670</td>\n",
       "      <td>Wired Headphones</td>\n",
       "      <td>2</td>\n",
       "      <td>11.99</td>\n",
       "      <td>08/31/19 22:21</td>\n",
       "      <td>359 Spruce St, Seattle, WA 98101</td>\n",
       "    </tr>\n",
       "    <tr>\n",
       "      <th>2</th>\n",
       "      <td>236671</td>\n",
       "      <td>Bose SoundSport Headphones</td>\n",
       "      <td>1</td>\n",
       "      <td>99.99</td>\n",
       "      <td>08/15/19 15:11</td>\n",
       "      <td>492 Ridge St, Dallas, TX 75001</td>\n",
       "    </tr>\n",
       "    <tr>\n",
       "      <th>3</th>\n",
       "      <td>236672</td>\n",
       "      <td>iPhone</td>\n",
       "      <td>1</td>\n",
       "      <td>700.0</td>\n",
       "      <td>08/06/19 14:40</td>\n",
       "      <td>149 7th St, Portland, OR 97035</td>\n",
       "    </tr>\n",
       "    <tr>\n",
       "      <th>4</th>\n",
       "      <td>236673</td>\n",
       "      <td>AA Batteries (4-pack)</td>\n",
       "      <td>2</td>\n",
       "      <td>3.84</td>\n",
       "      <td>08/29/19 20:59</td>\n",
       "      <td>631 2nd St, Los Angeles, CA 90001</td>\n",
       "    </tr>\n",
       "    <tr>\n",
       "      <th>5</th>\n",
       "      <td>236674</td>\n",
       "      <td>AA Batteries (4-pack)</td>\n",
       "      <td>2</td>\n",
       "      <td>3.84</td>\n",
       "      <td>08/15/19 19:53</td>\n",
       "      <td>736 14th St, New York City, NY 10001</td>\n",
       "    </tr>\n",
       "    <tr>\n",
       "      <th>...</th>\n",
       "      <td>...</td>\n",
       "      <td>...</td>\n",
       "      <td>...</td>\n",
       "      <td>...</td>\n",
       "      <td>...</td>\n",
       "      <td>...</td>\n",
       "    </tr>\n",
       "    <tr>\n",
       "      <th>12007</th>\n",
       "      <td>248146</td>\n",
       "      <td>Bose SoundSport Headphones</td>\n",
       "      <td>1</td>\n",
       "      <td>99.99</td>\n",
       "      <td>08/29/19 22:19</td>\n",
       "      <td>868 Hickory St, San Francisco, CA 94016</td>\n",
       "    </tr>\n",
       "    <tr>\n",
       "      <th>12008</th>\n",
       "      <td>248147</td>\n",
       "      <td>AAA Batteries (4-pack)</td>\n",
       "      <td>3</td>\n",
       "      <td>2.99</td>\n",
       "      <td>08/31/19 16:26</td>\n",
       "      <td>206 Lakeview St, Boston, MA 02215</td>\n",
       "    </tr>\n",
       "    <tr>\n",
       "      <th>12009</th>\n",
       "      <td>248148</td>\n",
       "      <td>AA Batteries (4-pack)</td>\n",
       "      <td>1</td>\n",
       "      <td>3.84</td>\n",
       "      <td>08/02/19 07:25</td>\n",
       "      <td>568 13th St, Seattle, WA 98101</td>\n",
       "    </tr>\n",
       "    <tr>\n",
       "      <th>12010</th>\n",
       "      <td>248149</td>\n",
       "      <td>USB-C Charging Cable</td>\n",
       "      <td>1</td>\n",
       "      <td>11.95</td>\n",
       "      <td>08/08/19 12:10</td>\n",
       "      <td>495 Walnut St, San Francisco, CA 94016</td>\n",
       "    </tr>\n",
       "    <tr>\n",
       "      <th>12011</th>\n",
       "      <td>248150</td>\n",
       "      <td>AA Batteries (4-pack)</td>\n",
       "      <td>1</td>\n",
       "      <td>3.84</td>\n",
       "      <td>08/16/19 08:13</td>\n",
       "      <td>738 Park St, Los Angeles, CA 90001</td>\n",
       "    </tr>\n",
       "  </tbody>\n",
       "</table>\n",
       "<p>11983 rows × 6 columns</p>\n",
       "</div>"
      ],
      "text/plain": [
       "      Order ID                     Product Quantity Ordered Price Each  \\\n",
       "1       236670            Wired Headphones                2      11.99   \n",
       "2       236671  Bose SoundSport Headphones                1      99.99   \n",
       "3       236672                      iPhone                1      700.0   \n",
       "4       236673       AA Batteries (4-pack)                2       3.84   \n",
       "5       236674       AA Batteries (4-pack)                2       3.84   \n",
       "...        ...                         ...              ...        ...   \n",
       "12007   248146  Bose SoundSport Headphones                1      99.99   \n",
       "12008   248147      AAA Batteries (4-pack)                3       2.99   \n",
       "12009   248148       AA Batteries (4-pack)                1       3.84   \n",
       "12010   248149        USB-C Charging Cable                1      11.95   \n",
       "12011   248150       AA Batteries (4-pack)                1       3.84   \n",
       "\n",
       "           Order Date                         Purchase Address  \n",
       "1      08/31/19 22:21         359 Spruce St, Seattle, WA 98101  \n",
       "2      08/15/19 15:11           492 Ridge St, Dallas, TX 75001  \n",
       "3      08/06/19 14:40           149 7th St, Portland, OR 97035  \n",
       "4      08/29/19 20:59        631 2nd St, Los Angeles, CA 90001  \n",
       "5      08/15/19 19:53     736 14th St, New York City, NY 10001  \n",
       "...               ...                                      ...  \n",
       "12007  08/29/19 22:19  868 Hickory St, San Francisco, CA 94016  \n",
       "12008  08/31/19 16:26        206 Lakeview St, Boston, MA 02215  \n",
       "12009  08/02/19 07:25           568 13th St, Seattle, WA 98101  \n",
       "12010  08/08/19 12:10   495 Walnut St, San Francisco, CA 94016  \n",
       "12011  08/16/19 08:13       738 Park St, Los Angeles, CA 90001  \n",
       "\n",
       "[11983 rows x 6 columns]"
      ]
     },
     "execution_count": 55,
     "metadata": {},
     "output_type": "execute_result"
    }
   ],
   "source": [
    "df"
   ]
  },
  {
   "cell_type": "code",
   "execution_count": 58,
   "id": "1607550f",
   "metadata": {},
   "outputs": [
    {
     "ename": "TypeError",
     "evalue": "Could not convert 11.9999.99700.03.843.8411.99379.99109.9911.991700.0600.03.843.84149.9914.95150.02.9911.95379.992.992.9911.9511.95389.99150.099.9914.953.8411.993.8411.99150.0999.9999.99300.03.84600.03.84150.0700.01700.01700.03.84149.99389.99389.993.8411.95600.0150.02.99150.0150.02.99150.0150.02.993.8411.95999.99700.0150.0600.011.992.99300.0150.03.84150.011.993.84300.011.9511.9511.951700.014.952.992.992.992.9999.992.99300.0389.99389.9914.9514.9511.993.8411.95300.099.993.84149.992.99150.099.9911.9911.99700.03.843.8411.99600.0150.0150.02.992.9999.9914.9511.99149.9914.95389.9911.953.842.99150.014.952.99700.014.95109.99149.9911.9911.9511.993.8411.99600.014.95600.011.9914.9511.95389.993.84999.9911.9511.9511.953.84600.014.9511.9911.9914.952.99149.9911.9511.9914.95150.014.953.84389.992.9911.9911.95109.9914.95150.0400.011.95150.011.99150.011.9999.99300.014.9511.992.993.84150.0109.9911.952.99149.99389.993.843.8411.99150.0600.0389.9911.99300.011.9599.993.8411.9914.95379.9911.9511.99149.9911.99150.011.953.8411.9511.9999.99600.011.9911.9914.95379.9911.95Price Each600150999.993.84379.992.9917001502.99389.9911.9599.99389.991700149.9914.9530014.95999.9911.9511.953.843.8414.9515099.9911.953.843.8415014.95Price Each14.9511.992.992.9911.953.8414.952.992.9911.9911.99999.9914.953.8411.9940011.992.99109.9911.993.84379.9970011.99999.991507002.993.8415099.994003.8411.9511.9914.9514.952.9999.996003.84109.9914.9599.9999.99149.997001503.84379.9911.9515014.95149.9914.95389.99109.9999.993003.8411.993.8415014.952.99149.992.994001507002.992.993.84600379.997002.99999.991700109.9915011.9511.95109.9911.9511.9560011.9514.95999.992.992.9914.953.8411.992.9999.9911.952.9911.95170011.9999.99700109.993.841502.9970014.9514.9511.95379.99300600.0300149.992.991503.843.8414.95389.99150389.9999.99389.99150389.99600150379.99149.99109.9911.991502.9914.9511.9514.952.9999.9911.9914.9514.95149.9914.952.992.993.8414.95700150149.9999.992.993.843.84109.9999.99600.03.84149.99389.9999.9970014.9514.9540011.95149.9999.9914.95379.993.8430011.9599.9930015011.9960011.9911.99379.99600.01503.843.8415014.9511.992.992.9960011.952.991501503.842.99379.9911.99150149.993.8499.9911.9914.953.84700999.9915011.9515011.9915015011.993.84600.02.991503.8415011.9599.9911.952.9914.9511.95389.993002.9999.9911.953.842.99389.9911.99109.9999.99149.9999.99379.99389.99389.9970014.9599.991502.9911.9914.9599.9999.992.9915014.9514.9511.953.842.99149.9911.9540011.9999.9970014.9599.993.847002.9911.9999.993.8430011.9599.9911.953.8460011.95300379.9911.952.992.99389.9911.953.843.8430099.99150109.992.9911.9911.9999.992.9999.99170011.99379.9999.9911.9911.95149.992.993.84149.9914.95379.9960011.99389.9970014.9511.9914.953.843.842.9915099.9999.99999.9960014.9511.99379.9999.992.99379.9915015011.9514.9514.9599.9911.95700149.99170014.952.993.8414.956002.993.8415070011.9914.9511.95999.9911.952.9914.953.84109.9999.9911.951503.84999.99999.991503.8470011.99389.99600.03.8411.953.8411.9999.9911.9514.9514.9514.9599.992.9911.99149.9915015099.99999.99170015060011.9999.9940015030011.951502.99149.993.8411.9530011.9511.9511.9911.99170011.99149.9914.9511.9970011.99109.99389.9911.9911.95600.02.9911.9914.9599.99150379.9960011.95600999.9914.9514.95150150150379.9911.9599.992.9914.952.9911.9914.9515011.9911.993.84149.992.9914.9511.95149.993.8411.99109.9911.9511.953.8411.9599.99149.9911.9914.95109.992.9911.9514.95999.9911.9570011.9514.9511.9511.9514.9530015015011.9515014.9511.992.992.9911.9511.9599.99379.993.8499.9911.95389.9914.9511.99170011.95170011.953.84379.992.99149.992.9911.953.84149.9999.992.9914.9530030011.9511.9514.95150389.9911.992.9914.9599.992.991506002.99170015070015011.9914.952.99300600.0389.99379.996003.8411.99379.99150389.9914.9514.9511.953.843.8411.9511.952.99389.9999.992.9911.9911.9511.99170011.953.8414.9514.953.84389.9911.991502.99389.993.8411.9511.993.8417003.84150379.9999.9911.99379.993.8415011.95400379.9999.991501502.993.8414.9511.95999.9911.9915014.952.992.9914.9511.9599.9911.95389.992.99149.992.99389.99389.993.843002.992.991503.8414.957002.9911.9599.9914.951503.8499.99150379.9970014.95149.993001502.996002.993.843.8411.9911.9511.952.992.9911.99300700600.014.9514.953.8414.9540011.95150149.9999.9930011.9511.9940011.95389.9914.95999.9999.9999.992.992.993.842.9999.997002.991502.9970070014.9514.951700389.9911.9511.952.9915014.95109.9911.9599.9999.9999.993.8417003.843.8499.99600.03.843003.8415015015014.9599.99109.9960011.952.9999.99600.0150999.9914.951503.843.8414.9515014.952.9999.9999.991503.84600.0150149.9915011.95150999.99150379.9914.9511.9511.9599.9914.95149.9911.9960011.9915011.952.9914.95109.9911.9930011.9914.952.9911.953003.84109.992.99149.9914.9514.9511.9911.992.993.843.84379.9914.9511.9599.99999.992.99379.99170011.9514.953.843.842.9917003.8414.9511.95109.9915014.953.8411.993.843.84999.99149.9911.95400109.9930060011.95149.993.8414.952.993.8470014.952.992.9911.9911.992.993.8415014.9515014.9511.993.8460011.95379.992.9999.9999.9999.9911.9911.953.84150600.0149.992.992.99999.9915011.9515014.95300109.9999.99999.991503.842.992.9999.99109.9914.95150149.9911.9911.953.8411.9599.993.8411.9914.9511.953001700600.02.993.8499.9911.992.992.9911.9911.952.9911.99150379.9930011.99149.992.991503.8411.9940011.9511.95999.99149.991503.8411.992.9911.9511.9511.99389.992.9999.9911.9511.9911.9914.953.843.8411.9514.9511.9514.9570011.992.9999.9930014.9511.9530099.99600.099.9914.952.9914.953.843.843.8414.95999.9911.952.99109.991503.8470014.9599.992.9911.9599.993002.9911.952.9911.952.9914.952.992.993.8414.9511.9911.9915099.9970014.9514.952.992.99600149.992.992.992.99149.9999.9960011.9514.9515011.9599.99379.99150389.9970011.9511.95300149.99379.9999.9930099.9911.9914.95149.99389.997003.84149.9999.9930015070011.9917001502.9911.996002.993.842.992.9940011.9914.9511.95150150389.9999.992.9999.9970099.992.9915099.9911.95149.992.992.992.9911.9511.952.992.993.84999.99300389.99389.991700379.9911.99149.9911.99379.9915015030014.951503.84149.992.9960014.95Price Each11.95149.9911.952.99149.99170011.9917003.84389.992.9930060011.9599.9999.9940014.9511.953.8414.95150379.9999.993.8411.99149.9940011.957003.843.8411.953.84170014.9599.9911.95379.9914.9511.9560099.9915011.953.841502.9915014.953.842.993.8411.9560099.9911.95600.03.846002.99379.993.842.99999.997001507002.993.8430014.953.843.842.991700150600149.99109.99389.9911.993.843.84700149.993.84109.993.847003.841700379.9999.992.992.9914.9514.9514.953.84600.02.992.9999.9930014.9511.9511.953.8411.992.9911.9515011.9930011.9970014.9511.95150Price Each2.993.843.843.84149.992.993.842.9914.9515099.9911.95170014.95Price Each60070011.9914.953.84389.9999.993.841503002.99149.9999.9915011.9511.9970099.992.9970011.9599.992.9911.953.84389.9914.953.8430099.992.9914.95149.993.843.84109.9914.953.84149.992.99149.9915014.9515015099.9940099.9911.9915015011.9914.95700389.9970014.95400149.9915015060014.9514.95109.99389.9914.953002.993.8411.9570014.95389.993.84150149.9914.9511.9570011.9911.9914.9599.993.8414.9511.9911.9511.997002.993003002.992.9911.992.99300999.9911.952.9915014.9515011.991503.8414.9570011.9911.99379.9914.9599.9911.9911.9511.952.9911.9911.99149.9911.99999.994003.842.992.99600.03.84379.993.8411.9511.952.9970011.9515011.992.99379.99150600170014.9511.9911.953.8411.9915011.9911.9970011.9511.9511.9911.952.9999.9915014.9560011.99149.99109.9914.9511.99389.9999.9914.9511.9599.9960011.9511.9911.991501700600300389.9970099.99109.992.9970011.99389.99149.99149.992.9914.9517003.8414.9511.953.8414.9511.992.993.8430060011.95379.993.84150600.099.9911.992.99379.992.99150150999.993.8414.9511.9511.9517002.992.9911.9911.9599.992.991502.9914.952.9911.9511.9511.9911.9914.95389.9911.9914.952.9970014.951502.992.99999.992.9970011.953.84389.99109.99999.9911.993.84170014.9515014.9511.953.846003.8411.9930014.9515014.9511.9511.9911.993.84389.9911.992.991503003003.842.9911.992.9911.9911.952.9915060011.9960015099.9911.9911.95389.992.992.992.9911.9517004003.8414.95Price Each60011.9915011.9911.9911.994003.8411.9914.953.8414.9517002.993.842.9914.9514.9511.9514.9514.9511.9514.952.99109.992.9911.9911.9999.993.8470014.9515014.9599.992.991502.992.9917002.9911.953.8414.9511.9511.9999.99149.9999.997006002.993.8499.993.84300389.99389.993.8415011.9515099.9911.9911.957003.846003.841503.842.9960011.953.8440011.9911.9511.9515030070015030099.9911.952.997002.9911.992.9911.993.8414.9511.9530011.95389.9999.992.991502.9914.9511.99109.992.9911.9570014.9511.9511.9530011.9511.992.9915070014.95379.993.8499.99170011.9514.9511.9911.9911.952.99170014.9530014.95389.993.842.99149.99149.99150170099.9914.9511.9570011.95389.992.992.992.993.8499.9915060011.95150389.9911.993.843003.842.99300379.9914.9511.9514.9511.9514.952.993.8411.956003.8411.99109.99999.9911.9914.95389.9940014.9511.993.84170014.95149.9911.95389.9911.95389.992.99170099.992.9914.952.9999.9999.992.993.8411.9511.99379.992.99379.99150149.992.99999.992.993.842.99149.993.84149.9999.99150379.99150379.9911.952.993.8499.9911.992.99170011.95379.992.9914.9511.991503.84389.9999.9915011.952.9914.952.9911.9930011.99149.9914.9511.953.84999.9999.992.9911.9514.95379.9915011.952.99379.9911.95999.99999.9999.99389.99149.992.992.992.9914.9511.9511.9911.9515099.99389.9911.9930014.95109.9911.9911.99379.993.843.841502.9915011.9911.9960099.993003.843.84150389.9911.95389.992.993.8411.95150700150170017002.992.9911.953.843.8411.992.99999.9911.99170011.9514.9511.9514.95379.9915011.9570011.9911.9511.953.8499.997003.84379.9911.9914.95379.9911.9511.9917002.99600389.992.9960014.95379.99389.9911.952.99300149.9914.9511.9511.95999.99109.9911.953.84109.9911.9599.992.9915011.9511.9517003.843.8411.9911.993.84149.9914.9514.95149.9960011.9540011.99379.9911.99170099.9914.9517002.993.8460014.953.8414.953.8414.95149.9999.99600149.993.8499.996003.842.9960011.99109.992.9911.9511.953.8415060011.9599.992.99149.992.9911.9999.9911.95700400109.993.8499.9914.9517003.8470014.9599.992.9911.99700389.9914.952.9914.953.8411.992.9911.9511.993.8460011.9570014.9515014.9599.992.993.8415011.9915011.993.843.84379.99170070070014.95170014.952.992.9911.993.84389.9914.95379.9911.9511.9560011.9511.99389.993.8499.9911.9599.9911.99170099.993.8411.9514.952.993.84170011.993.8414.9515011.9599.99109.9911.9517002.9960011.9999.9914.9514.952.99379.993.8430014.9511.952.993.84379.9911.9915070099.993.847003.8499.9917001502.992.9914.9511.95150300389.9911.9911.9960099.9911.9915099.9960011.9511.993.8411.992.9999.9911.996003.843.843.8415011.9915011.9599.993.8411.953.8440099.9930099.9911.9515015014.952.99149.9914.953.847002.9911.9511.9599.9914.95Price Each14.9511.99379.9915060011.95600.011.9911.95389.99149.99109.9911.99150379.9970011.9911.9511.9999.99109.9911.9930070014.9514.953.84389.9911.991501503.84149.99149.992.993.842.99700379.9911.99149.99999.992.993.8411.9911.9511.9599.993.8411.95379.9914.953.844003.84170099.9911.99379.9960011.9511.99109.9914.9514.9511.99149.9911.95149.9999.9960011.99999.9960011.993.84999.992.99379.9914.953.8414.95379.9970011.9999.992.9911.9911.9514.9511.953.8499.9914.9570014.953.8414.9511.99149.992.991503.841501700109.9911.9911.953.84150149.9911.953.843.841700379.992.9914.95389.9930015011.9511.953.8430011.9515011.9911.992.9911.9570015011.9511.9911.95149.9911.95109.9915099.99999.9999.9999.9914.9515011.9514.9511.953.8411.951503.8411.952.993.8414.952.9911.993.8411.992.99389.9915015011.951700149.9914.953001502.9999.9911.9599.993.842.99Price Each11.9511.953.843.843.8414.9515011.9514.951700170015070011.9599.9914.9514.95150149.99150149.99379.993.84999.9970011.95150600.011.953.84149.9914.95389.993.8460011.9511.9530011.952.99379.9914.9599.9911.99149.992.9999.9999.9911.993.8411.9530014.95999.993.84600379.9911.95109.991502.99379.9911.993.843.8499.992.99149.9911.9911.9511.9515099.997003.8411.95150389.9911.9515011.993.84389.996002.99Price Each14.95149.9911.9514.95150389.993.842.993.84150379.9911.9530011.9999.996002.993.84600.02.992.991502.99389.9911.952.992.99109.9911.95149.9911.9514.952.993.843.8411.9914.95149.992.99149.992.993.84150379.9911.99379.9917002.99300379.9911.9599.9914.952.9970011.9911.9570014.95109.992.99389.9960011.9911.95109.99999.9915015011.95600999.9999.9911.951502.9970011.992.9911.9911.993.842.993.8411.95149.9999.993.843.8414.9514.9514.952.9914.9511.9515011.9514.95Price Each3.843.8411.9514.9599.991700999.9915014.9599.9914.9511.9911.9514.952.992.992.9999.99389.99149.9915014.953.8414.9514.953.84379.9911.99109.9911.9514.953.843.842.9940030099.9930014.953.843.842.99379.9911.9999.9999.9940014.95149.99149.9911.99170017002.992.99379.9911.95170099.99149.9911.99379.99149.993.8411.95379.9911.99379.99149.9914.9511.9511.9960011.9911.9515099.9914.9599.99600600.03.8470011.953.8415060011.9511.9940011.9514.9599.9999.993.843.841503.8414.952.9911.95379.9914.9511.9914.952.993.84109.9999.992.99389.9999.99389.992.9914.952.9915011.9914.95999.9970011.9560011.9530017002.9911.9911.993.8414.9515011.952.99389.9914.9599.993.8499.9911.99150999.991502.993.84379.9999.9960015015011.953.8460099.992.9911.9911.9511.9514.9511.9999.9915030060011.9999.9915014.956002.9999.9911.993001502.9911.9911.95109.9940011.993.843.847003.843.8414.9511.9599.992.992.9930011.9914.9511.9914.952.9914.95389.993.8411.952.9970011.9914.9511.95149.9911.9914.9514.9515011.992.9911.953.8415099.99149.9911.9511.9911.95379.99389.9911.99149.993.8411.9540014.9514.951502.992.99999.9914.957003.8411.95379.99149.9999.9911.952.99150149.99389.99109.993.843.8499.992.993.84389.992.993.843.84389.9914.952.99389.9911.992.9911.95109.9914.9514.95389.9914.95379.99389.9914.953.843.841503.8411.953.84379.9911.993.843.843.8414.95109.9911.95109.9911.953.843.842.99149.991503.84700389.9911.9511.95170099.9999.99400999.9940011.9999.993002.9914.9514.952.99150379.99999.9911.99149.99389.992.9917002.99389.992.99300379.993.8430014.95700379.99149.992.993.8499.992.9914.9514.952.993.84389.9911.9599.99109.9930011.9511.9511.991503.841700700109.9911.992.99109.99600600.03.842.9914.953.84149.9911.992.992.9999.99700389.9914.952.9911.993.8411.993.8411.993.842.99379.9911.99999.99149.9911.992.9911.9515099.993.84150109.99149.99170015015014.952.9914.9511.9917003.843.84389.9930017002.997002.9911.95389.99379.9911.993.843.8411.953.8411.9511.9511.951502.99600.0389.992.9999.99149.9915014.9511.9511.9511.9914.95150600.02.9914.95149.99379.9940011.99389.992.9915011.9960014.9514.953.843.8414.9511.9915015011.9911.9999.992.99389.99700379.9911.9570014.9514.95150389.9999.9914.9511.9915099.992.9911.994004002.9911.9560014.9599.991502.993.8411.9511.993.8411.956001700150389.9999.99170099.99379.99379.99600.099.9999.99379.99379.99379.9911.9511.9560030070099.993.8411.953.8411.9511.9517002.99389.9911.952.9911.95170070014.953.8411.953.8415015011.95149.9970015014.9514.9514.957003.842.993.8411.992.9911.99170011.99149.9911.9570014.9514.9514.9514.95389.997006003.8411.9914.95149.993.8411.99379.993.843.8414.9599.9999.9999.9914.9599.9914.953003.8411.95379.99170015011.9911.952.9911.9911.952.9911.9511.9514.95149.9915099.9999.992.9999.9911.992.99389.9999.997007002.993.84389.992.9914.9514.951503.84149.99109.99170015011.991503.8414.952.993.84379.9914.951503.847006003.843.84999.992.9930011.9960011.9511.9940011.9914.95150170011.9514.9514.95389.992.9970014.95149.99149.9911.951502.9911.95389.9911.9570015011.9511.9511.9511.952.9911.9911.9930014.953.84379.997006002.9914.9530030011.9514.95150389.991506002.9970070014.95150600.02.99379.993.8499.9911.993.843.8411.993.84Price Each11.9511.952.9911.993.8414.953.843003.8414.9515060011.992.9999.9914.952.9911.9511.9914.9511.95109.992.9999.9911.95109.99300379.99109.9914.95379.9999.997001502.992.9911.993.84379.99109.9911.952.99379.9911.9999.996006003.8411.9914.95300999.9911.9999.99300379.9999.99149.99379.993.8460011.9914.951503002.992.992.9911.9530070015099.993.843.8460011.957003.8411.993006003.8499.993.8415011.952.9914.95999.993.8499.9999.993.8414.957002.9970011.992.99150379.9911.9515015099.992.992.993.8499.9911.9530099.9911.9511.9511.953.8411.9911.9599.993.84170011.993.8411.9914.953.84149.9914.953.84150109.99389.9914.9515070014.95600.0170011.95389.9999.9914.95149.99379.9914.95389.992.993.8411.9514.9511.952.9999.992.992.9914.9599.993002.99150149.99600149.9999.9914.9511.953.84109.9911.95150149.9999.993.843.8411.9514.9570014.956003.843.843.8414.9599.99999.992.9914.95389.9911.992.992.992.99379.9914.952.993.8411.953.8499.992.9911.95389.9911.992.9915011.99999.99999.9999.9914.95149.99109.9914.953.842.993.842.9914.9511.992.99379.993.843.842.9999.9915060015099.99389.9970014.953.8411.9511.9930014.9514.953.8411.95389.992.99600.0999.9911.9960099.9911.9911.9911.952.9911.992.9911.9511.9599.9914.95149.9999.9970014.95109.99999.992.9914.953.8414.953.84379.9911.9517003.842.9940099.993.8411.9911.9514.953.84149.991506002.99150150389.99149.9999.9911.9511.9914.953.842.99999.9911.952.9911.992.99600600.011.9599.9914.9511.952.993.8499.99109.991503.843.84150389.9970014.9514.9511.99379.991506007003001502.992.99600.02.9940011.953.8411.993.84149.9911.9540014.9540011.9570011.99170070011.9970011.9599.993.84149.9915011.9570015011.95389.9914.95149.993.84149.9911.9930014.9514.9511.991503.842.99170014.9515011.9911.953.842.992.9914.9514.9514.953.842.9911.9911.992.99379.993.8411.95999.99700170015060014.9511.952.9914.9514.9511.991503.843.84389.9911.9915014.953.8499.99389.9915014.953.8499.9911.9960011.953.8411.992.9911.953.8414.9511.9599.9999.9960015015011.9599.991503.84389.99600149.99389.9911.99389.993.842.993.84999.99300379.992.9999.9911.993.843.8414.9514.9514.95149.99149.9930014.957001700109.9911.952.9911.992.99999.9911.99109.9911.9511.992.9911.9940011.9599.993.842.9999.9911.953.8414.9560011.9911.9915099.9911.9911.9530011.992.992.99999.993.8499.99149.9911.952.99170015015015030011.952.993.846003.8411.99389.991503.8411.99999.99109.9911.95379.9914.95700300389.9911.9914.9570014.9517001503.84379.9911.9911.9915011.951502.9914.9511.99150389.9915014.9511.953.8430014.953.842.99389.9911.9911.95170015011.9511.953.8499.99109.9914.952.99379.9914.9511.99300170014.9511.9511.95150149.9911.9914.953.8414.953.84300999.9999.997002.9911.9911.99600300149.9914.9511.99109.9911.9514.953.843.842.992.993.8414.95379.9914.9511.952.9914.9511.9999.993.843.8411.991502.9911.951503.8411.993.8499.992.99600.0109.9970014.9511.99150389.99389.992.9915014.9511.992.9914.952.993.842.9914.9511.9511.9599.99600.03.8460014.951700150999.993.842.9911.9515011.9914.9514.9514.952.9999.9911.992.99150999.9911.9915014.9515011.9514.95389.9911.9511.9599.9914.9511.99600.011.9911.99999.99379.9970011.9911.993.8499.992.99999.9911.9999.9960099.9911.9911.9599.9999.992.992.9915011.9914.9514.952.9970099.9911.95149.993.84149.9915014.9511.9511.9599.9911.993.84379.9911.9914.953.8417002.992.9914.953.8499.99389.9914.95149.9914.95389.99389.9915011.992.9914.957003002.99379.99300389.9914.9511.9915015011.95149.9911.9511.9911.956002.993.843.843.8470070011.951503.8411.992.9911.952.9911.993.84379.9911.9560040011.9511.9970015099.991503.8414.9511.993.84389.9911.953.8415014.952.9911.99379.9960011.953.8414.9599.9999.99389.993003.84379.992.9914.9599.9999.993.84389.9911.9911.9530011.99149.9970014.95379.9911.953.8414.9514.95389.993.84999.997003.8411.9511.9999.99150149.99149.99149.9915070040014.95999.9911.99389.9911.993.843.843.843.8414.953.8411.95389.99149.993002.9915014.95149.991700600389.99150600.070040011.952.9930015014.95149.9911.9999.9970099.991503.8414.9511.9999.9911.952.99389.9911.9515014.953003.842.9999.9911.992.9911.953.841502.993.84389.992.9911.9999.9915014.9511.952.9999.9911.9514.95379.9911.9915070014.953.8415011.9515070099.9911.95149.9911.992.9911.9511.9999.996003003.842.9999.993.8414.956003.843.8411.952.99149.997007002.993.84109.9911.9914.95999.9911.95389.99999.9917003.84379.9914.9515015099.9911.993.84389.9915014.952.9999.9999.99600.0600999.99379.9970014.9511.9911.9911.95379.9911.9911.953.8411.9911.9911.99389.9914.952.9911.9914.95109.9911.95600.014.95379.993.842.991502.99109.99379.9911.952.9911.993.843.8415015060011.952.992.99999.9911.9570099.99389.9970014.953.84149.9911.9911.952.99389.991502.99379.9914.952.9911.9930011.9511.9599.993.8460011.9540099.9915015011.952.99109.992.9911.95149.9915015099.9911.99379.99149.9911.99389.993.8499.993.8415011.9914.953.84149.9914.95149.9960011.9970011.9511.9511.9999.993.8411.99149.993.8411.9570030030014.95149.993.843.843.84170015011.993003.8411.9914.952.9914.952.9914.953.843.84150999.9914.952.993.8411.993.842.9911.95150389.99149.9911.95389.9999.9915011.95379.992.9911.952.993.8440015011.9540011.952.9914.95389.99109.9911.95389.99379.99149.993.8411.9911.9515011.99389.992.9911.954003.84149.9911.95389.9914.952.9917001502.9914.953.842.992.9911.9911.9511.9511.993.842.992.9911.993001502.9999.99149.993002.9911.991506002.9917003.8414.9514.952.993.8430040011.992.9914.9570011.993.84149.992.99999.992.99149.9911.9514.95600999.99170030060011.953.84379.9914.9515015011.99109.993.8411.9511.9911.9511.951503.8414.9511.993.84150389.9940011.95150389.992.9917002.99389.9911.952.992.9914.95109.99600379.9911.9960030011.9511.9514.95389.99389.9914.9530011.99109.9930011.952.99999.9911.99149.99389.993.8499.996003.8411.99149.9911.95999.99389.9915070011.9911.992.99149.992.993.84389.993002.992.992.9930011.992.9940011.99149.992.991700600.011.95389.9914.9511.993.8411.9511.9514.95149.99109.99149.99379.992.9930099.99999.991700999.9970014.9514.95389.9911.99149.9930015030030011.991506003.8411.9599.9911.95999.9999.993.842.99149.99389.9911.9511.9514.9511.9914.9517001503.8411.95379.99150109.996003.8411.9911.9960014.9511.9514.9511.991700999.99600.0379.9914.9514.9599.9914.9511.9914.952.9911.95400389.99389.9930011.9911.9915014.952.99999.993.842.9917002.993.84999.9914.953.8411.9914.95389.9914.952.9970015011.953.84149.997003.842.99700389.9999.9911.9911.9911.991506003.8414.9560014.9515070011.993.842.9911.95389.9914.9514.9599.993.8470099.992.99379.99600149.9999.9911.952.99109.9911.9515011.9599.9999.992.9911.99109.9911.99109.99109.9911.9970011.957001502.9911.95149.9960011.992.9970011.95379.99109.9911.9599.9911.953.8411.99379.99379.9911.953.84109.9911.95300389.9911.9511.99109.99389.992.9911.9511.9960011.9599.992.992.99379.9914.9514.957002.9911.9911.9599.9999.9911.9914.9514.953.8411.9999.9914.956003002.9999.99150389.9911.9560011.9511.952.9911.9911.9917002.992.99379.9911.95379.99700109.99150600389.9970060011.9914.9514.953.8499.9911.99389.9911.953.8411.952.993.8414.9599.993.8414.957001502.9911.953.8499.99379.99379.9914.953.8411.9915011.9911.99999.9915011.953.8414.953.8411.9911.9914.9514.95379.99999.99149.9914.953.84999.9914.952.9914.9515060030099.992.9999.992.991506002.99150999.993.843002.9960011.993.843.842.9930040011.99300389.9911.99149.99149.9911.99400389.992.992.9911.9514.951503.841501502.997003.8411.99150379.9911.9911.993.841503.8499.9911.992.99389.992.99150150999.99999.9930011.9911.993.84379.993.843.8415014.951503001503.843.84389.993.84150389.99999.993.84999.9914.953.8411.95170011.9511.99389.99400300170011.9911.9911.9914.952.99379.997002.9970011.993.8430014.95999.99150150149.99379.993.8470014.95379.9999.9911.992.9930014.95379.992.9915099.993.8411.996001700149.9911.952.9999.9911.99999.9914.95300150379.99150170011.9511.952.99389.9914.9511.9915070014.95379.99149.9911.991502.99149.9960011.9599.993.8414.9511.9911.9511.953.84600.011.9999.992.9960011.9999.9911.952.9914.9511.9911.952.9915014.95150149.9915014.95389.9999.9960014.952.99149.99170099.99109.9911.993.84379.9999.99109.99389.9970040011.9914.95300389.9999.993.843.843.84149.99149.992.99149.9911.9911.95389.992.993.8414.9560014.9514.95389.9915011.952.991502.9915060011.993.843.8411.9911.953.8411.95170060011.9599.992.99379.992.9999.9911.95999.997002.9930011.953.8430011.9511.993.84109.993.842.9914.95149.9915070014.9514.9511.95700109.9970014.9514.9511.992.9999.9999.9970011.993.8460011.9514.952.9915011.9514.9530014.953.8415011.9911.99170015011.95600.015060011.95149.9999.993.8411.9514.95109.9911.9599.9999.9911.952.99999.99150999.99149.991503.843.84109.9911.952.9940011.99999.99600.014.9599.9999.9914.9511.9999.9911.992.9914.9511.9911.9914.95389.99389.9911.9599.99999.9911.99379.9914.95389.9911.952.9914.95149.99999.9915014.9511.9911.95150150389.9999.99379.992.992.993.84389.9960014.952.9911.9911.953.84700700109.9930011.9911.953.842.9911.992.99600.011.9511.9911.95389.993.8415099.9911.9914.952.99109.9911.99149.9914.95150300150700149.9914.953.843.8414.9511.9999.993.8414.953003.8414.9511.952.9914.952.993.8411.9511.99109.99150600389.993001503.8460099.993.843.8411.9514.952.9911.9514.95149.9914.95389.9960011.95109.99999.9999.9915017002.99150999.9999.996001700999.99999.9911.9999.9914.952.9911.9511.992.99109.9911.992.9911.997002.9940011.9599.9911.953.8411.952.9911.99149.991502.99379.9914.95149.9911.95149.9914.95150149.9960011.99700600379.9999.99389.9911.9999.9911.9911.99150389.993.843.847001503.843.84389.9911.9511.9514.9511.9511.9960015011.9911.957001507003.842.992.9914.9560040011.99300700149.992.99170011.9511.993.8411.9999.993002.9911.95600379.9999.9911.992.9914.9514.9515014.9511.9911.9514.9511.953.847003.843.843.8414.95389.9999.9911.991700389.993.84149.9914.9599.99109.9911.9960099.9911.95109.99389.992.992.992.9914.9511.9511.952.9914.952.99109.99379.996003.843.843.8411.9917003.842.993.84389.99379.9911.9514.9511.99389.993.8499.9911.9911.9930060015014.95389.9911.954003.84700149.992.9914.9511.9514.9511.952.9970060014.953.84379.992.9911.9599.993.8411.9911.9511.9511.95999.9915070011.9511.952.9970011.95149.9911.9514.9514.9511.992.99170011.9914.952.99389.993.8499.991700149.9911.952.99149.992.993.8499.9915014.95379.993.843.843.8414.9599.9915015014.95109.99149.99389.9915014.95389.9914.9511.99379.9911.952.9914.9511.992.997002.9914.953.843.842.99109.9911.99999.991502.993003.8460011.99600149.992.9960011.95300999.992.992.99999.9999.99149.9911.9515014.952.9911.992.993.8415011.95109.99150149.997002.99379.99389.992.9911.9915011.9911.9511.952.9911.952.9999.992.99999.9960011.952.99999.9911.99109.9915060011.9511.99999.9970015011.9599.9911.95109.99109.9914.952.992.9911.952.993.8460011.9514.956003.84389.993.8411.9914.9511.952.9917003.842.9999.9911.9911.9599.9911.95379.99149.99999.9911.992.99150389.9914.9514.953.8460011.952.99170011.9515014.9599.9960011.9514.9530014.952.9911.9511.9514.9511.991700379.99149.992.9914.9511.9911.9911.9599.9911.957003.843.843.8499.9911.95999.9911.9514.952.992.993002.992.9930011.9914.953.843.84999.993.84379.993.8414.9514.9514.95389.9911.9911.952.9970060011.95109.996003.8470011.95389.99109.99379.9970011.9970099.9915015011.9911.9911.992.99170011.952.9914.9511.9599.993.8414.951700149.9911.9511.991502.993.84379.9999.99170040011.9511.9999.991503002.99389.997001501503.842.99999.9999.992.992.993.84999.994007003.8499.99999.993.8460011.9560011.9599.993002.993.8499.99149.9914.95379.993.84149.9911.95149.9914.9570040011.9511.9515011.9517003.843.8414.9530014.9511.9911.9599.99109.992.993.84389.99149.99379.99389.9914.9599.993.8411.9514.9511.993.8411.992.992.9911.99149.992.9999.9911.9911.9511.95109.9911.9914.9560014.95379.9911.952.99389.9911.952.99999.9930015011.9914.953.8499.992.9911.99389.99379.99149.9914.9514.9570011.9911.99170014.9511.9530015011.993.84149.9970011.9911.9511.993.842.993.84999.993.843.8499.992.99170099.9911.952.992.9914.9511.9599.99700149.9914.9514.9599.993.8415011.95149.993.8414.95149.99149.9911.9914.95149.99149.991502.9915011.953.843.84150170030011.953.847006002.9970030099.997002.992.9915099.99600389.9911.95389.99149.9915060011.9599.99389.9911.9914.951502.9999.9917002.9915099.992.993.843002.9911.993.8499.99150149.9911.9960011.99379.992.9911.9930015011.99149.9914.9599.996003.843.8411.9530011.9960011.993.8411.9511.9515070015011.9511.9914.9514.9511.95379.992.99300109.9917002.99389.99109.9917003.84389.9999.9911.9915030030014.9599.99389.99999.99109.9911.951502.996003.8415030015099.9999.99379.9914.952.9999.99999.99379.992.993.841501503.843.8414.9515099.991503.8415099.992.992.99389.99109.9911.9914.9599.99149.992.9911.953003.843.8411.9960014.953.84149.9914.952.9911.9911.993.8499.99379.9915070014.95389.99389.993.8414.9511.951700379.99389.9911.99149.992.9999.9911.9911.9515011.9914.95389.99109.99300999.9911.9915015011.952.9911.9911.9514.953.8411.9960070014.9511.9930099.9911.99149.9915011.953.8414.95379.9960014.954002.992.9914.9514.95109.993003.8411.952.993.841502.997003.8411.9911.9911.9511.9914.953.8460011.95600170099.993.8411.9915011.992.9999.99389.993003.843.8411.952.99999.99389.99109.9914.9511.9515060011.9599.9914.9511.9514.95389.99149.991700379.9911.992.9999.9911.99389.9914.95149.99149.9999.99149.99389.993.8411.99149.99150379.9917002.9911.952.9914.9560011.9911.9514.9511.952.99389.99379.996001700379.993.841503.8414.953.842.993.84149.99389.9911.9599.992.9915011.996006002.99109.9914.9514.95149.992.99Price Each149.9914.951503.843.8499.9914.95149.99379.9914.9599.9911.9514.953.8414.95389.993.843.8499.9911.9511.993.8414.9514.95600.011.9511.952.997003.842.9911.95999.99999.99150389.9911.9570099.99379.9911.9970014.9530099.992.99389.992.99150109.9911.9560099.9911.9515014.953.8411.953.841502.9911.99109.99149.9911.9515099.9911.9915011.9970099.9914.9511.953.842.99700109.991503.84999.993.8411.9911.99999.991503.842.99999.992.9930099.9911.9511.993.8499.9914.95999.9911.95379.9911.99109.9911.992.99999.9911.9511.9911.99300379.9917002.9915015015011.951503.8414.9511.95149.997002.99999.9911.994003.8414.95150379.993.8470015014.953.843.842.992.992.9911.9914.953.8411.9911.9570014.9511.95999.99149.9999.9930011.99389.993002.9911.95149.9911.9515011.993.84150389.992.993.84389.993.842.993.8499.991501501700149.9911.99Price Each600700379.9914.953.8414.953.84999.992.9911.9914.9517002.9911.951501503.8411.95389.99109.9999.9911.95300300149.9911.9914.95149.992.99999.9930099.993.8415060099.9970014.9570014.9514.9599.992.9911.9514.9514.951700389.99389.992.991700150379.9999.9970015014.9514.95149.9911.9970011.9911.9911.9511.99149.992.9915099.9911.9511.95389.9999.996001503.8411.9511.9514.95379.9914.9514.9599.99389.99999.993.8415011.99149.9911.95149.9915011.9514.9511.99150149.9911.993.8470014.9515011.993.84109.9914.95149.99149.9914.9570099.993.84109.9911.99600.0379.99150999.99150149.992.993003.8414.9511.95379.991502.9999.9914.952.9999.99149.993.8414.95170014.95149.9911.953.843.842.9911.9914.95700149.99300379.992.991502.993.8411.9911.99150149.9914.953.8430014.952.99109.9911.9911.95150109.9911.99389.9915011.9511.9999.9914.9511.9511.993.843.8411.9915014.9511.9914.9570070099.9911.9930099.9911.99149.9914.953.8470011.996002.9999.99999.9911.991502.9999.9999.993.8411.952.99389.9911.95379.99700149.9914.9517002.992.9911.95379.9911.9911.993.8411.9511.9911.9999.997004002.9914.953.8414.95999.9915070040014.95389.993.842.99379.993.8411.95999.993.841503.8411.9911.991501502.9911.9914.95389.9914.95170099.9911.951503.842.992.9914.9514.9599.9970014.9514.95149.991503.843003.8415011.992.9911.9530011.9511.952.997001503.8414.9514.953.8411.9911.99379.993.84149.9914.953.843.842.99379.9914.9599.9914.9511.993.8411.95149.9914.9514.9514.9511.993.84600999.9911.95170014.95379.9911.99600389.9914.9511.9999.9911.9915014.953.8414.952.9999.99109.992.99379.99389.9915099.9915011.9915015014.95999.9911.9911.9999.99379.9930017003.84389.9999.9914.9511.9511.95170014.957001501503.84379.9914.9511.9511.9911.9570014.95109.993.8411.9515099.992.993.842.99379.9911.991502.99379.9999.9970011.9911.9960011.993.8414.9511.9511.9511.9599.9915011.9599.993.8499.9911.9914.952.9911.9917003.843.84149.99999.9911.9960099.993.8417003.8499.9911.9511.95109.99150109.9911.992.9911.9514.9511.9915099.9970011.9599.992.993.84149.991503.843.8414.9514.952.9911.992.9911.9940017002.997001502.99109.9911.95149.992.9911.9914.9570011.9915017002.993.843.8414.95600.011.9599.99999.9914.9515011.9914.9514.9511.996003.8411.99150389.99379.992.993003.8411.9570011.9511.95999.992.9911.95600.03.8411.95109.993.8440099.9940011.9515011.99999.99389.9914.95700170011.9599.9911.9514.952.99700379.992.9911.99149.992.9915099.992.99999.991501503.842.99150389.992.9960014.95379.99600.099.99379.9911.952.99149.9999.99109.993.8414.9599.992.991700379.9999.9911.9999.993.843.8499.9911.9570014.9514.9511.95Price Each170015011.9514.9599.9911.9911.9970015015011.952.9911.95389.9911.9599.9911.952.991502.9911.9511.992.992.99389.99109.9970011.95300999.9911.9599.993.842.9911.95389.992.991501503.843.842.992.992.9911.95999.992.992.992.9914.952.99389.993.8411.95379.9911.99389.9914.9514.9511.9914.953.8411.953.84389.993.842.991501503.84600.040060011.9511.9515014.9511.99389.99999.99389.9911.9911.9930011.9960011.9599.993.8411.9999.9914.9599.9914.953.84379.992.9914.9511.9511.95149.99149.991507003002.993.8411.992.993.843.84600.03.847003003003.8411.9915014.9511.95389.99109.9999.99149.992.9911.992.99149.992.9911.95700Price Each3.84150149.9914.952.9911.993.843.843.8414.95600389.9911.99379.9960011.9911.953.8414.953.841501501503.8499.9999.996002.9999.992.993.8414.952.993.8411.9515014.9570015011.95109.9999.993.8499.9911.9540099.9911.95149.99149.9917003.842.993.84389.9911.992.9911.9911.9511.99389.9911.95999.9940011.99170014.952.9914.9560014.9511.95600.014.9511.952.9914.95109.9930014.95379.9914.9511.95149.9915011.9514.95389.99149.9914.9511.95389.9911.9915099.9914.9511.95600.0300170070014.953.8499.99600.011.9514.9514.952.99389.992.99149.993.842.9915014.9599.9911.952.9999.99150389.99170014.95600.03.842.99149.99170060011.9914.9514.95379.9911.99379.99389.9911.99389.9911.95150379.99379.9911.99149.99149.9914.9514.9515011.9514.9511.993.8411.9511.9911.9540011.9511.992.992.9911.9911.9514.9514.9511.9911.9570099.9915099.9914.9514.9599.9914.9515011.95150999.9911.992.9914.9515015011.9914.9530040011.9911.953.84389.991503.842.9914.952.9911.993.84999.9911.952.991502.9911.9911.9514.9599.9911.9999.9911.953.8499.9999.99379.9911.952.9999.99389.993.84999.992.99170099.9914.95999.9914.952.9914.9511.992.993.84150300600.03.8414.95149.9930014.9515011.992.993.842.9911.9514.952.99149.9999.9914.951700170011.95389.99149.997002.991502.9911.9911.9914.952.9911.9515040011.9914.953.8415017003.841502.991503.84149.9911.953.843.84389.9911.953.84999.9911.9911.992.993.8411.9914.9560011.9570014.953.842.99109.99149.993.843.842.9915017002.992.9914.9511.95150389.9915014.953.843.84149.99389.9914.954006002.9914.9511.9511.9915014.953.842.9930015040011.9511.9511.9514.9514.95149.9911.9911.9511.95379.9911.957003.84389.9970011.993.8414.953.8415099.9911.951502.9999.9911.9911.95109.99389.993002.9911.953.8415099.9930017003.8440011.9540014.9514.956002.9970014.9599.9911.95149.9911.956003.84109.99150389.99379.993.84149.997003.84600.011.991503.84109.99170070015011.9915011.9515015011.992.99999.9914.953.8414.953.843.843.8411.9999.9911.95999.993.8411.9517003.842.9970011.95149.992.9914.952.99109.9915011.99149.9914.951503.843.84379.9914.952.99400170099.9914.953.843.8411.9911.951700109.99109.9911.9970011.9911.9511.95379.99150149.9960011.993.8415015011.952.99150150600.011.9930014.9599.9914.9599.991502.99149.9960099.9914.9560011.953.847007002.9999.9911.95379.9911.952.99389.9914.9514.953.843.8411.99109.9911.95150700109.9911.9511.954003.8411.953.8411.951503.84389.99999.9911.9914.952.993.843.843.843.8414.95109.9914.95149.992.9911.9914.952.993.8417002.99149.99109.99999.9914.953.84150379.9999.9911.9511.9514.9599.9911.9911.9514.95389.9914.9599.9914.953.84109.992.9911.953.843.842.9960070014.9515014.9599.99379.9999.9911.9911.9914.9540011.9511.9599.9914.9514.95999.992.9915011.95149.993.8414.952.9911.99600149.9911.99600170011.9999.9970014.95149.9960099.9930099.9911.95149.991502.99389.99600.014.9514.95379.9914.9560011.951700389.9911.9514.952.9911.99999.9911.9515099.993.8499.996002.993001502.993.84600150149.9911.952.992.9911.9599.99Price Each389.992.992.9911.95389.9911.992.9914.952.9914.9511.95149.9999.992.9970015011.993.8415011.9514.952.992.9911.9911.9911.95999.99999.9911.9599.99150379.993.8411.953.842.9914.952.9914.952.997003.84389.992.9970014.9514.95389.991501700389.992.9999.99600999.9914.952.9911.992.993.842.993.8414.9511.9911.9511.9914.95999.9914.953.8411.9511.9511.99300149.9914.953.8411.953.84389.9970014.95150170011.9514.952.99170099.9930011.953.8499.993.8411.953.843.8414.953.8460011.9599.9915011.9511.9514.95109.9914.953.84149.99379.993.8411.95600.011.953.84149.99150600149.99999.9911.993.84389.993.84999.9999.9911.99600.099.99150170011.9999.99999.9914.9514.9511.9911.99389.99999.992.9914.953.843.8411.952.993.8411.993.8414.95Price Each11.9914.9515030015011.993.84600170014.9599.9911.99600.03.8414.953.842.9914.95389.99389.9914.95999.99379.99109.9915011.991502.993.842.996002.9911.952.992.9911.992.99379.993.843.8460099.9915011.95379.992.99149.9911.9511.953.842.99149.99150999.9911.9915011.953.843.84389.993.842.9911.9911.9511.992.991503.8460011.9511.99149.99150109.9911.9511.993.8499.9914.9514.951502.9999.9911.953.8417003.843.843.8499.9911.992.9999.99150389.9911.9515011.992.9914.952.9930014.9560011.951700170014.95999.991502.99389.9960011.9511.991506003.8414.952.992.9915014.95999.99999.9999.993.842.991502.99149.99149.9999.99389.99149.992.99379.992.99150149.9914.953.8411.9514.9511.9511.9515011.95109.9915011.9514.953.842.992.99389.9914.95389.9914.9511.9999.9911.993.8411.9599.9911.992.9915011.9530011.95170011.991503.84109.992.9911.953.8414.9530011.9917003.84379.99149.9911.99999.99999.99379.993.841507007001502.9911.9515014.952.9911.9511.95170099.9915014.9511.992.9911.95999.9911.9511.993.8411.952.994002.9999.99389.9911.993.84389.9999.993.84109.992.9914.9511.99999.9999.992.9999.993.842.993.843.8411.9514.95999.99150389.9911.9914.9599.99149.992.993.84149.9911.997003.8415014.9514.9599.992.991700150149.9915015014.9511.9511.9999.9960099.99379.9911.95300700999.99389.993.8411.992.9911.95150700379.9917002.9911.9911.95389.9999.9911.991503.8411.993.84170015011.9560011.951502.993.84379.9911.9515099.9914.953.84379.9911.9911.9511.9599.99700150150149.9999.9999.99600.060011.9599.99149.99109.9914.9514.952.992.99600.099.9911.992.9999.9970011.99109.99170040011.95379.9914.9540014.9511.9914.9511.9511.9514.9511.993.8499.99379.99389.99379.9915040099.9960099.992.993.843.8499.993.8499.9970014.9599.9930015011.993.842.992.9914.9570014.951503.843.843.84379.9911.9911.95149.9911.992.992.9914.95149.9915011.9511.9511.9570014.9514.9570015011.99109.992.9911.9911.9914.95389.99600170030014.9511.9599.9999.99600149.993.84389.9911.95600600.03.842.9911.95149.9914.952.992.99170011.9599.992.992.99379.991507002.9911.99109.99389.99999.992.9911.9511.956002.9915014.95109.99999.99109.9914.9599.9914.953.8414.95999.991507002.9911.951502.991502.9911.953.8414.9599.9911.95300999.9999.992.99109.991700379.992.99109.9911.9914.953.84389.9915011.952.9914.95389.9911.95150150389.99999.9999.9911.95379.99389.992.9911.9911.9514.95150379.9915099.997001700379.993.8430011.99999.9911.9911.9911.9911.953.841503.843.842.996003.843.84389.9914.953.8499.9999.99149.9911.95379.992.9911.95149.9940011.9511.9514.9511.95149.99999.9960014.9511.992.99389.99600999.9914.9511.9999.9914.95379.992.9911.952.9999.9915014.953.8411.9911.9599.99999.9914.952.9999.9911.9517001700109.992.9970011.9999.9970011.9914.9599.99379.99379.9970014.9599.993.842.993.8411.9599.9911.957002.9911.9999.9911.9511.9914.9511.9911.9999.9911.9911.9511.993007003.842.9999.993.84170017002.99170099.9911.95149.9999.99600149.991700600.014.95600.03.84389.992.9914.953.84700379.993.847003.8411.9511.9914.9515099.9940014.9511.9911.9999.99600.02.9911.9515060070014.952.9914.9540099.993.84109.992.99Price Each2.99389.9911.9915014.9511.95389.9911.9599.993.84999.9911.99379.992.993.8414.95149.99379.993002.99379.993.842.99149.9911.95389.992.993.84999.992.993.84999.9914.95109.9914.952.9911.9511.9599.9915014.9514.953.84389.9914.953.84149.99149.9915099.9911.996003.843.8440070099.9999.991700170099.9911.9914.953.8414.953.846001700379.992.9911.9914.953.842.9911.9570014.9514.9511.95389.9914.951502.992.9999.9911.99999.9930011.95999.9911.9911.9599.99149.9914.9599.9914.952.9911.992.9911.952.9911.95379.994002.99150389.9999.9915014.9560099.992.992.9999.993.8411.9514.9511.9915011.95170014.9511.952.991501502.993.8470011.9570014.953.8460011.9960011.9511.9911.9914.9511.95700379.9911.952.992.99149.9911.992.9960011.9511.9911.95Price Each1503.84150600149.99379.99149.992.9911.9911.9599.9914.9511.9511.9514.9514.953.8411.953.8414.9515015011.992.9911.9914.9511.9511.95149.9911.99170099.9911.951502.993.8411.952.99999.9970014.9514.9511.953.8411.9911.952.9970014.9514.95379.993.8414.9599.9914.9511.9599.99109.992.9914.9511.95109.9914.9515011.992.99149.9911.99389.9960014.95389.991700150149.99999.9915011.953.842.9970014.9570011.992.99149.9911.9914.95149.99389.99999.99150389.993.8414.9560011.953.8414.9599.9914.9511.9514.95150389.9999.9914.95149.9940011.9915011.95149.99170011.99389.993.8411.991502.9914.9515011.9515011.95600.011.99600379.992.99999.9930011.953.8411.95150389.9914.9599.99389.991503.843001503.8411.9914.95389.9999.9970015030011.9999.993.841501503.843.8411.99379.993.843.8411.992.993.84379.992.9914.9514.9511.9970099.9960014.9599.9999.992.9914.95170011.9915011.9917003.8414.95379.992.9960014.9511.99109.9911.95379.9911.9999.9999.9915060014.9560099.9911.9911.992.99999.9915011.9511.9530014.953.842.9970011.99999.9911.9911.9911.952.9914.951502.9999.9915040011.992.9999.993.8430030099.9914.9599.99150149.99109.9911.952.9911.9511.9515014.9570011.9970099.9911.95300109.99300379.9914.951502.9999.992.99600.0389.9999.9911.9930014.953.843.842.9914.95109.99999.9911.952.9911.9511.9511.95700600400170015099.9911.9911.993.84149.99600150300379.991503.842.9911.992.9914.9514.9599.9915011.992.9917002.9999.9999.9911.9914.9514.9511.9511.953.8411.95170040011.953.8499.9915099.9970014.952.99170011.9911.952.9911.9511.953.84389.99149.9911.9914.952.9914.9511.992.9911.953.842.99150389.991700170011.9911.95379.992.993.8414.95109.9911.9911.9511.95700999.9960011.952.9911.99170011.99600149.9911.9517002.9914.952.9911.953.842.9999.9911.95389.9914.953.84170014.95389.991700600170040014.9514.953.8411.957002.99150600.01503.8499.9911.953.8414.95389.9999.993.842.9914.95149.992.993.842.99149.993.8411.95170099.9915011.9514.952.9940011.9911.95600.011.953.8415011.9911.9911.953.84999.99389.99999.9915011.9511.992.9914.952.993.8470014.9515011.993.842.9917001503.8415011.952.991503.8414.95149.9915011.99149.99999.99389.99109.993003.8414.952.993.841503.843.84149.993.84379.991502.99109.9911.9515070014.9511.9560060030011.95109.9911.99149.99149.99600Price Each170030014.953.8411.99Price Each99.9999.9930030011.9511.95700379.9915014.9511.9511.9999.9970014.95149.993.843.84379.993.8414.9511.9914.953.8499.993.84150149.9999.99700149.992.992.992.9915099.992.9911.95379.993.84389.99600.011.9599.992.99389.9911.9914.957001503.8499.99389.9911.99999.9914.953.8499.9911.9960040070014.95170099.9914.9514.9511.9999.9930011.9599.9999.99400700389.992.993.84389.997003.842.9960099.99389.9911.9911.952.993002.997001502.99170014.952.991700389.9915011.993002.9911.9515014.95150389.9911.993.841502.992.9999.9999.9911.9999.9999.9930011.9560099.9911.9570011.992.9914.953.843.8414.9511.99149.9914.9511.9511.99389.9911.9960011.9511.99149.99149.99300999.9914.9511.9514.952.992.9911.952.9911.99389.9914.9514.9514.9511.9514.9514.9514.9599.992.99109.9911.95379.993.843.8411.9514.95109.99149.993.8411.95149.9914.95389.99999.993.8411.953.8499.992.9911.95149.9999.9914.9514.952.993.846002.9999.99170040014.952.9914.9515011.9511.952.9911.952.9999.99600389.9914.952.992.9960011.9514.95379.99389.993.84150149.993.842.9940070014.9511.9999.9914.9514.956002.99109.9999.993.8414.9511.9511.9511.9999.99150149.991501700379.993.8470070030011.952.993.84389.992.9914.95389.993.847003.842.99379.99150300170011.953.84379.993.84149.992.9911.99400109.9911.9511.952.992.9914.952.992.992.9914.95300149.9914.9514.95109.996003.843.8414.95700379.992.9911.9930099.993.842.9911.95999.9911.9911.9911.953.8411.9999.99379.99149.993.842.9940014.95999.99149.993.84379.9914.95379.99109.9911.992.9911.9599.9911.9511.952.9911.952.9914.9514.9511.952.992.9915011.952.992.993.846003.8411.9914.9515014.95999.9914.952.9930011.99379.993.84379.99600149.9915011.9914.95379.9911.9599.992.993.8417002.991700600.03.8414.9599.99379.9915030014.95149.9914.95999.99389.99109.9914.9514.952.99149.993003.8499.9999.99149.99149.99Price Each3.842.9960011.9599.9915070011.95379.9999.99999.9914.95999.9911.952.99150150999.9914.9511.9514.9511.9999.992.997003.8414.952.9914.9599.9999.9914.956002.992.99700389.99999.991501502.9911.953.8415040011.99999.9911.99170011.9911.9511.993004003.8411.9914.953.8499.993.8411.99109.9911.95999.991700600150999.9911.99149.9999.9911.9914.952.99149.992.991507001503.8411.992.9911.993.842.99149.9911.9511.9911.996007002.993006001700700999.9911.9599.9914.9514.9511.992.992.99170040011.993.8499.9911.95149.992.9915011.99700170060011.9914.9599.9911.99700379.99109.9911.953.8499.9960011.9911.991700379.9960030011.9599.9911.99400700149.99109.997003.8414.9514.95389.9915011.993.8411.9911.9511.992.99109.9915040011.952.992.9999.992.9911.9911.95389.9914.95149.992.99170011.9960011.993.843.841503002.993.8440014.951506002.99109.99389.99999.9911.952.993.84150999.9914.9511.9511.9514.9511.95109.9930015014.9511.952.9915011.9911.9914.95109.9999.99700400389.9911.9915070011.9530011.952.9911.952.992.997003.842.9940011.952.99999.992.9999.992.993.8460011.9999.993.8411.9999.9999.99700149.992.9960011.9970014.9530014.9511.9511.9514.9515011.9511.953.8411.9511.9511.99170011.99999.9914.9599.9911.993.8411.992.991502.9999.99389.99999.992.992.9911.99149.9911.9914.95400149.993.843.8411.953.8411.9514.9511.9515015011.99149.993.843.8415011.9911.99700109.9911.9511.95389.99389.992.993003002.9914.9511.992.9911.9914.952.99379.99999.9914.9511.95600.01503.84149.99389.9914.9599.9911.9911.952.9911.9914.9511.952.993.8414.9511.95379.99379.9914.953.8430011.95109.9911.992.9914.953.8499.992.9911.9911.95700109.9911.952.9911.95700389.992.9911.957003.8499.992.992.9911.9511.993.8499.99109.992.9915011.9599.9930014.9511.9514.95170099.9999.9911.953.8499.9914.9515014.9599.992.9914.9514.95389.9911.9514.95149.992.992.993.8411.95379.99150379.9915014.951503.843.8411.95379.99170014.95389.992.9911.95999.9911.9511.9515011.9914.95109.993.842.993002.99170011.9911.9911.9511.9599.992.993.8411.99389.992.9914.95600170014.953.8414.9514.953.8414.95149.993003.8414.95389.992.992.9915060099.9911.9911.9599.9930011.9930070070014.953.8414.95700150389.992.9911.95700700379.9911.9599.9911.953.84389.9915014.9511.991501700170011.99149.9999.993.84300379.99109.992.9999.997003.842.992.9911.953.843.843.8411.9514.9514.9514.953.8499.9911.9914.9514.951501503.843.84300109.99109.9911.993.8411.9515011.99149.9914.953.84150109.99109.993.8499.99300149.99389.99149.9915011.952.9999.9999.99109.9914.9511.953.842.992.993.8411.951700999.99149.9914.9530011.953.8499.9911.953.842.99999.9914.952.9911.99150149.9914.951502.9911.953.8411.992.992.992.992.991502.99379.993.84149.992.9911.993002.9914.9511.951700149.9970011.9911.9911.9515014.9599.9911.992.99300700109.9960011.9599.9911.9511.9511.9570014.95149.992.99389.992.99149.99700Price Each379.9911.99150149.9911.9511.99600.03.84149.9911.9911.993.8440014.9511.9515099.9911.9511.9999.99389.9914.952.9914.95389.99600.03.841700379.992.99109.9917002.9911.95109.99389.9999.992.9960099.9911.9915017002.99600.030011.953.8414.9511.9915011.95999.9914.9515014.95149.991502.991502.9911.993.8499.993.8499.9999.992.99379.99149.991503002.99170014.9599.9999.992.996002.9999.99150379.9911.9514.953.8415011.9514.95700150999.9914.9599.9911.9514.9511.953.84109.9911.953.8411.95389.993.843.8430011.9915011.9914.9511.9911.9915011.99600.0150400109.9914.951700Price Each150149.9911.993.8411.9914.9514.9511.953.8411.993.843.8499.99149.993.8470099.993.842.9911.992.9911.99379.99600.02.992.993.84389.9911.9914.95379.992.9914.9514.95149.993.84389.9911.95379.99379.992.9970014.9514.9540030070011.952.9911.9911.9514.9514.9540011.9514.952.991700149.991503.84389.997003.843.8499.9911.992.993.8440030011.95149.9915060011.9914.95300170011.95150109.993.8460011.95109.99170017001700999.99109.9911.9999.997003.8470014.9570014.9515014.953.846002.993.8411.992.9914.953.843003.842.9999.9914.951700149.9911.954003.8411.953.842.9911.9911.956002.992.9911.9511.993.84379.993.8411.99999.9911.953.84379.993.8417002.9911.95149.993.84389.9999.993.843.843.843.843.842.992.99379.99109.99400150999.993.843.84379.9914.951502.993.843.8414.95149.99389.994003.8414.95379.991700149.992.9999.992.9914.953.8411.99999.99389.993.843.84389.99170014.9514.9511.95170099.993.842.99109.991503003.8411.9915014.9514.953.842.9999.9930070014.952.993.842.993.8417003.8411.9514.9570060060011.9511.953.84389.9911.953.8430014.95379.9914.9511.99389.99999.9999.993.84109.9914.95300700149.9914.953.84300389.9914.9515040011.95150379.993002.993.841502.9960099.992.9911.953.846003.843.8411.9914.95109.9911.99109.9915011.9530060011.95379.997002.99300149.9911.99600.099.993002.9915014.95150389.997003.842.9914.95379.9911.9511.9999.993.842.993.843.8499.9999.99149.993.8411.993.84150150379.992.991501502.9911.95150999.99149.9911.99149.993.841503.84109.99150149.9970014.9570099.9911.99150109.9914.9511.9514.95149.9911.9511.9560011.95999.993.843.84389.9911.9599.992.9911.953.84149.9911.9511.9514.9530015011.9511.992.9911.953.841503.843.843.8411.993.842.993.84Price Each14.95109.9970014.9511.99300150170011.9514.95149.99109.99389.9914.95389.992.9911.9915014.95149.9911.9560070014.951503.843.8470015014.95149.99999.9911.95149.9914.9515014.953.8460099.9999.9914.95700149.9960015011.951502.99999.9999.99149.993.842.9915070014.95109.992.992.99999.9915099.996002.9914.95109.993.8470070011.992.993.8414.95379.9911.9514.953003.843002.9914.953.8414.9517002.9914.9515011.9511.95999.9915070015014.9511.99600.02.993.84389.99149.99149.9960014.953.8414.953003.8411.9917003.8415011.9911.952.992.9999.9914.95600389.9970014.952.9911.953.841503.84149.992.992.992.9999.9999.992.9914.953.8414.95150999.99170011.9911.9999.993.843.843.8411.9514.95379.992.9911.95149.992.9970015060099.9914.95149.99109.9911.9915011.9999.9911.95149.9911.9511.95170014.9599.9914.9514.9511.9599.99999.9915011.9511.9914.953.8411.9514.952.992.9911.9960099.9911.95389.9914.9599.993.843002.9999.9911.952.993002.9911.9515014.953.84700149.9911.99109.9911.95109.9914.9514.9511.951502.9911.956002.9914.9514.9560011.9960011.9999.9999.9999.99999.9914.952.993.8414.9511.9511.9599.9915015040011.9914.9599.993.84170070011.9914.952.991503.847006002.9914.953.8414.9511.993.843.84109.9911.992.992.99389.9917006003.8414.95149.9911.993.8411.99379.9914.9514.9511.9560011.9511.9511.9911.9599.9914.9515014.95149.99600.011.9514.953.84149.9911.9514.9511.95379.9914.95Price Each999.9915011.991503.842.99149.9911.95389.9911.99300600149.9915040011.951700149.9914.9511.9530099.991503.842.992.9911.993.84999.9914.9514.9599.992.9911.9511.951503.8411.993.842.9911.9599.9911.9511.9514.9515011.9914.95999.9914.952.99600.014.9515099.99379.99389.992.9914.95379.99999.9999.9914.9515015011.9911.9570014.9511.9911.9514.9514.9514.95999.99149.9911.95999.993.84300389.993.84170015099.9911.951700149.99379.993.8470099.99700600.014.953.8411.9999.991502.99150149.992.9915070014.9511.9930017001503.8499.997001503.84109.9999.993.8414.95379.9999.9999.9999.99999.99149.9970014.9511.95999.993.8415011.9599.9911.9514.953.843.843.84170099.9914.951503.8499.993.8499.9911.9599.9911.993.8460099.9911.9915014.9511.9999.993.8414.95999.99400150109.9911.9511.957003.8430015099.9999.99379.992.993.8415099.99109.9911.991503.84149.991502.99379.9914.9514.9515011.9511.9599.9999.9999.992.9911.9911.9515011.9511.9914.953.843.8414.95109.9970014.9570011.99379.9999.9940014.95999.9917002.9915011.957003.843002.9999.9911.95379.992.9911.95150170015014.952.9915015015014.95149.9960015011.99109.9911.952.9911.993.8411.9999.99109.99149.991507001503.84999.9940011.9514.9514.95389.99149.993.84150379.9914.9515014.9517003.8415014.95389.9914.953.8470014.95170011.9911.953.8411.9570014.95150149.99149.99149.9914.951502.9960011.9511.9911.9914.9511.95149.99149.9915011.9999.993.8460099.9911.99150389.992.992.9911.9511.992.992.9914.95170015011.95999.9914.9511.95999.9915011.9999.992.99389.9914.9570014.95149.9911.9599.99379.99379.9914.9511.9514.9511.95379.994003.8499.992.99600.07006003.843.846002.99379.99379.9914.9511.95700300379.9999.993003.8414.95400389.991503.84999.9970015014.9514.952.9911.9911.951502.9999.9999.99999.9911.993.8499.99389.992.991502.991506001503.84600.014.95300700379.99379.992.99109.9940099.993.84379.993.8411.9911.997003.8414.952.99150379.993.8499.9911.9511.993.846003.84999.993.84150150149.99999.99700149.993002.9917002.9914.9515011.9599.9911.997003.84150149.9911.99300379.992.9911.9911.99109.997003.84600400700149.992.993.84109.99389.99600.011.99109.9970015011.991502.9999.9940014.95150149.9914.9530099.992.992.9999.9960011.992.992.9999.993.8414.952.99149.99389.9914.953.84109.99379.99600.014.9511.953.84379.992.9914.952.9960011.9914.9515040011.953.8411.9511.9599.993002.992.99379.9999.9911.9999.99400379.9999.993.843.8411.9999.9911.993.8414.9599.9970014.9570070011.95300600389.99109.9911.9999.99389.99170014.952.9914.953.841507002.993.8411.9599.991502.9999.9999.9914.95109.9915011.952.9914.95109.9911.9999.99149.9915011.9914.9514.9511.9970014.9511.9911.99109.9914.9511.9914.9514.9599.991502.992.9911.9515011.95700999.992.99150379.9911.95379.9914.952.99379.99149.9999.99109.99389.991502.9915011.9915011.9960099.99170014.9560011.9514.952.9911.993.842.9915011.997002.9911.993.8499.99999.9915015011.9570014.9514.9514.9560015015011.9930011.992.991503.8411.9917003.84300379.993.8414.9514.9514.9511.99149.9911.99389.9970011.992.993.8414.95150109.992.9999.9914.952.99379.9911.9911.992.9911.95379.9914.9599.9914.9511.9911.9511.9960011.9914.9515011.9960011.9511.952.992.991503.843.842.99400109.9999.99389.99170015011.9911.9511.953002.99170011.9517003.8499.991503.84379.992.99150379.99379.993.8411.9999.9911.9911.9514.9514.95170014.9511.9511.9911.953.8414.9599.9914.95149.9915011.95379.99379.99389.9915011.953.842.993.8414.953.8430011.9511.9915070011.9911.9911.991502.99600.02.99149.9914.9530011.953.84150149.9911.9911.951503.84379.9911.9515015099.9911.953003.8411.9999.993.842.9970015099.9999.9960011.95150389.994006006002.99389.997002.993.843.8411.953.8411.99149.9999.9930099.9911.9999.9970099.99149.9915014.9515099.993.84149.992.991507001502.9911.992.9911.993.847007002.99700149.9911.992.9914.9514.95149.993.84300149.9914.9511.9999.9911.953.843.8470011.953.843.8417001700149.99999.9999.9999.9911.9917001502.9915099.99109.9914.9511.993.841502.992.9911.9511.9511.9599.9911.9511.993.8411.991502.9911.9914.952.9911.9511.952.993.84600.040099.993.8411.9911.95379.9911.9914.9511.9940011.9511.952.99389.993.842.992.9911.9511.95600.0149.993.8499.992.99400170014.9511.953.84109.9911.997003.8411.9511.9514.95389.9999.9911.99999.99389.99170011.99379.9999.993.842.991503.8411.9911.9599.99379.991503.8499.9911.9599.99150170014.952.9911.95150700999.9999.9914.953.8414.95149.99389.99300379.992.9911.9560014.95389.993.843.843.84109.9960011.9911.95170011.9914.9515011.9511.99109.993.84149.99400379.992.9914.9560011.9511.9599.9911.95600.017002.9911.99150109.9915011.95389.9911.9514.95600.011.9911.95389.9970099.992.99379.9911.9515011.9999.992.993.8411.953.84 to numeric",
     "output_type": "error",
     "traceback": [
      "\u001b[1;31m---------------------------------------------------------------------------\u001b[0m",
      "\u001b[1;31mValueError\u001b[0m                                Traceback (most recent call last)",
      "File \u001b[1;32m~\\anaconda3\\lib\\site-packages\\pandas\\core\\nanops.py:1630\u001b[0m, in \u001b[0;36m_ensure_numeric\u001b[1;34m(x)\u001b[0m\n\u001b[0;32m   1629\u001b[0m \u001b[38;5;28;01mtry\u001b[39;00m:\n\u001b[1;32m-> 1630\u001b[0m     x \u001b[38;5;241m=\u001b[39m \u001b[38;5;28;43mfloat\u001b[39;49m\u001b[43m(\u001b[49m\u001b[43mx\u001b[49m\u001b[43m)\u001b[49m\n\u001b[0;32m   1631\u001b[0m \u001b[38;5;28;01mexcept\u001b[39;00m (\u001b[38;5;167;01mTypeError\u001b[39;00m, \u001b[38;5;167;01mValueError\u001b[39;00m):\n\u001b[0;32m   1632\u001b[0m     \u001b[38;5;66;03m# e.g. \"1+1j\" or \"foo\"\u001b[39;00m\n",
      "\u001b[1;31mValueError\u001b[0m: could not convert string to float: '11.9999.99700.03.843.8411.99379.99109.9911.991700.0600.03.843.84149.9914.95150.02.9911.95379.992.992.9911.9511.95389.99150.099.9914.953.8411.993.8411.99150.0999.9999.99300.03.84600.03.84150.0700.01700.01700.03.84149.99389.99389.993.8411.95600.0150.02.99150.0150.02.99150.0150.02.993.8411.95999.99700.0150.0600.011.992.99300.0150.03.84150.011.993.84300.011.9511.9511.951700.014.952.992.992.992.9999.992.99300.0389.99389.9914.9514.9511.993.8411.95300.099.993.84149.992.99150.099.9911.9911.99700.03.843.8411.99600.0150.0150.02.992.9999.9914.9511.99149.9914.95389.9911.953.842.99150.014.952.99700.014.95109.99149.9911.9911.9511.993.8411.99600.014.95600.011.9914.9511.95389.993.84999.9911.9511.9511.953.84600.014.9511.9911.9914.952.99149.9911.9511.9914.95150.014.953.84389.992.9911.9911.95109.9914.95150.0400.011.95150.011.99150.011.9999.99300.014.9511.992.993.84150.0109.9911.952.99149.99389.993.843.8411.99150.0600.0389.9911.99300.011.9599.993.8411.9914.95379.9911.9511.99149.9911.99150.011.953.8411.9511.9999.99600.011.9911.9914.95379.9911.95Price Each600150999.993.84379.992.9917001502.99389.9911.9599.99389.991700149.9914.9530014.95999.9911.9511.953.843.8414.9515099.9911.953.843.8415014.95Price Each14.9511.992.992.9911.953.8414.952.992.9911.9911.99999.9914.953.8411.9940011.992.99109.9911.993.84379.9970011.99999.991507002.993.8415099.994003.8411.9511.9914.9514.952.9999.996003.84109.9914.9599.9999.99149.997001503.84379.9911.9515014.95149.9914.95389.99109.9999.993003.8411.993.8415014.952.99149.992.994001507002.992.993.84600379.997002.99999.991700109.9915011.9511.95109.9911.9511.9560011.9514.95999.992.992.9914.953.8411.992.9999.9911.952.9911.95170011.9999.99700109.993.841502.9970014.9514.9511.95379.99300600.0300149.992.991503.843.8414.95389.99150389.9999.99389.99150389.99600150379.99149.99109.9911.991502.9914.9511.9514.952.9999.9911.9914.9514.95149.9914.952.992.993.8414.95700150149.9999.992.993.843.84109.9999.99600.03.84149.99389.9999.9970014.9514.9540011.95149.9999.9914.95379.993.8430011.9599.9930015011.9960011.9911.99379.99600.01503.843.8415014.9511.992.992.9960011.952.991501503.842.99379.9911.99150149.993.8499.9911.9914.953.84700999.9915011.9515011.9915015011.993.84600.02.991503.8415011.9599.9911.952.9914.9511.95389.993002.9999.9911.953.842.99389.9911.99109.9999.99149.9999.99379.99389.99389.9970014.9599.991502.9911.9914.9599.9999.992.9915014.9514.9511.953.842.99149.9911.9540011.9999.9970014.9599.993.847002.9911.9999.993.8430011.9599.9911.953.8460011.95300379.9911.952.992.99389.9911.953.843.8430099.99150109.992.9911.9911.9999.992.9999.99170011.99379.9999.9911.9911.95149.992.993.84149.9914.95379.9960011.99389.9970014.9511.9914.953.843.842.9915099.9999.99999.9960014.9511.99379.9999.992.99379.9915015011.9514.9514.9599.9911.95700149.99170014.952.993.8414.956002.993.8415070011.9914.9511.95999.9911.952.9914.953.84109.9999.9911.951503.84999.99999.991503.8470011.99389.99600.03.8411.953.8411.9999.9911.9514.9514.9514.9599.992.9911.99149.9915015099.99999.99170015060011.9999.9940015030011.951502.99149.993.8411.9530011.9511.9511.9911.99170011.99149.9914.9511.9970011.99109.99389.9911.9911.95600.02.9911.9914.9599.99150379.9960011.95600999.9914.9514.95150150150379.9911.9599.992.9914.952.9911.9914.9515011.9911.993.84149.992.9914.9511.95149.993.8411.99109.9911.9511.953.8411.9599.99149.9911.9914.95109.992.9911.9514.95999.9911.9570011.9514.9511.9511.9514.9530015015011.9515014.9511.992.992.9911.9511.9599.99379.993.8499.9911.95389.9914.9511.99170011.95170011.953.84379.992.99149.992.9911.953.84149.9999.992.9914.9530030011.9511.9514.95150389.9911.992.9914.9599.992.991506002.99170015070015011.9914.952.99300600.0389.99379.996003.8411.99379.99150389.9914.9514.9511.953.843.8411.9511.952.99389.9999.992.9911.9911.9511.99170011.953.8414.9514.953.84389.9911.991502.99389.993.8411.9511.993.8417003.84150379.9999.9911.99379.993.8415011.95400379.9999.991501502.993.8414.9511.95999.9911.9915014.952.992.9914.9511.9599.9911.95389.992.99149.992.99389.99389.993.843002.992.991503.8414.957002.9911.9599.9914.951503.8499.99150379.9970014.95149.993001502.996002.993.843.8411.9911.9511.952.992.9911.99300700600.014.9514.953.8414.9540011.95150149.9999.9930011.9511.9940011.95389.9914.95999.9999.9999.992.992.993.842.9999.997002.991502.9970070014.9514.951700389.9911.9511.952.9915014.95109.9911.9599.9999.9999.993.8417003.843.8499.99600.03.843003.8415015015014.9599.99109.9960011.952.9999.99600.0150999.9914.951503.843.8414.9515014.952.9999.9999.991503.84600.0150149.9915011.95150999.99150379.9914.9511.9511.9599.9914.95149.9911.9960011.9915011.952.9914.95109.9911.9930011.9914.952.9911.953003.84109.992.99149.9914.9514.9511.9911.992.993.843.84379.9914.9511.9599.99999.992.99379.99170011.9514.953.843.842.9917003.8414.9511.95109.9915014.953.8411.993.843.84999.99149.9911.95400109.9930060011.95149.993.8414.952.993.8470014.952.992.9911.9911.992.993.8415014.9515014.9511.993.8460011.95379.992.9999.9999.9999.9911.9911.953.84150600.0149.992.992.99999.9915011.9515014.95300109.9999.99999.991503.842.992.9999.99109.9914.95150149.9911.9911.953.8411.9599.993.8411.9914.9511.953001700600.02.993.8499.9911.992.992.9911.9911.952.9911.99150379.9930011.99149.992.991503.8411.9940011.9511.95999.99149.991503.8411.992.9911.9511.9511.99389.992.9999.9911.9511.9911.9914.953.843.8411.9514.9511.9514.9570011.992.9999.9930014.9511.9530099.99600.099.9914.952.9914.953.843.843.8414.95999.9911.952.99109.991503.8470014.9599.992.9911.9599.993002.9911.952.9911.952.9914.952.992.993.8414.9511.9911.9915099.9970014.9514.952.992.99600149.992.992.992.99149.9999.9960011.9514.9515011.9599.99379.99150389.9970011.9511.95300149.99379.9999.9930099.9911.9914.95149.99389.997003.84149.9999.9930015070011.9917001502.9911.996002.993.842.992.9940011.9914.9511.95150150389.9999.992.9999.9970099.992.9915099.9911.95149.992.992.992.9911.9511.952.992.993.84999.99300389.99389.991700379.9911.99149.9911.99379.9915015030014.951503.84149.992.9960014.95Price Each11.95149.9911.952.99149.99170011.9917003.84389.992.9930060011.9599.9999.9940014.9511.953.8414.95150379.9999.993.8411.99149.9940011.957003.843.8411.953.84170014.9599.9911.95379.9914.9511.9560099.9915011.953.841502.9915014.953.842.993.8411.9560099.9911.95600.03.846002.99379.993.842.99999.997001507002.993.8430014.953.843.842.991700150600149.99109.99389.9911.993.843.84700149.993.84109.993.847003.841700379.9999.992.992.9914.9514.9514.953.84600.02.992.9999.9930014.9511.9511.953.8411.992.9911.9515011.9930011.9970014.9511.95150Price Each2.993.843.843.84149.992.993.842.9914.9515099.9911.95170014.95Price Each60070011.9914.953.84389.9999.993.841503002.99149.9999.9915011.9511.9970099.992.9970011.9599.992.9911.953.84389.9914.953.8430099.992.9914.95149.993.843.84109.9914.953.84149.992.99149.9915014.9515015099.9940099.9911.9915015011.9914.95700389.9970014.95400149.9915015060014.9514.95109.99389.9914.953002.993.8411.9570014.95389.993.84150149.9914.9511.9570011.9911.9914.9599.993.8414.9511.9911.9511.997002.993003002.992.9911.992.99300999.9911.952.9915014.9515011.991503.8414.9570011.9911.99379.9914.9599.9911.9911.9511.952.9911.9911.99149.9911.99999.994003.842.992.99600.03.84379.993.8411.9511.952.9970011.9515011.992.99379.99150600170014.9511.9911.953.8411.9915011.9911.9970011.9511.9511.9911.952.9999.9915014.9560011.99149.99109.9914.9511.99389.9999.9914.9511.9599.9960011.9511.9911.991501700600300389.9970099.99109.992.9970011.99389.99149.99149.992.9914.9517003.8414.9511.953.8414.9511.992.993.8430060011.95379.993.84150600.099.9911.992.99379.992.99150150999.993.8414.9511.9511.9517002.992.9911.9911.9599.992.991502.9914.952.9911.9511.9511.9911.9914.95389.9911.9914.952.9970014.951502.992.99999.992.9970011.953.84389.99109.99999.9911.993.84170014.9515014.9511.953.846003.8411.9930014.9515014.9511.9511.9911.993.84389.9911.992.991503003003.842.9911.992.9911.9911.952.9915060011.9960015099.9911.9911.95389.992.992.992.9911.9517004003.8414.95Price Each60011.9915011.9911.9911.994003.8411.9914.953.8414.9517002.993.842.9914.9514.9511.9514.9514.9511.9514.952.99109.992.9911.9911.9999.993.8470014.9515014.9599.992.991502.992.9917002.9911.953.8414.9511.9511.9999.99149.9999.997006002.993.8499.993.84300389.99389.993.8415011.9515099.9911.9911.957003.846003.841503.842.9960011.953.8440011.9911.9511.9515030070015030099.9911.952.997002.9911.992.9911.993.8414.9511.9530011.95389.9999.992.991502.9914.9511.99109.992.9911.9570014.9511.9511.9530011.9511.992.9915070014.95379.993.8499.99170011.9514.9511.9911.9911.952.99170014.9530014.95389.993.842.99149.99149.99150170099.9914.9511.9570011.95389.992.992.992.993.8499.9915060011.95150389.9911.993.843003.842.99300379.9914.9511.9514.9511.9514.952.993.8411.956003.8411.99109.99999.9911.9914.95389.9940014.9511.993.84170014.95149.9911.95389.9911.95389.992.99170099.992.9914.952.9999.9999.992.993.8411.9511.99379.992.99379.99150149.992.99999.992.993.842.99149.993.84149.9999.99150379.99150379.9911.952.993.8499.9911.992.99170011.95379.992.9914.9511.991503.84389.9999.9915011.952.9914.952.9911.9930011.99149.9914.9511.953.84999.9999.992.9911.9514.95379.9915011.952.99379.9911.95999.99999.9999.99389.99149.992.992.992.9914.9511.9511.9911.9515099.99389.9911.9930014.95109.9911.9911.99379.993.843.841502.9915011.9911.9960099.993003.843.84150389.9911.95389.992.993.8411.95150700150170017002.992.9911.953.843.8411.992.99999.9911.99170011.9514.9511.9514.95379.9915011.9570011.9911.9511.953.8499.997003.84379.9911.9914.95379.9911.9511.9917002.99600389.992.9960014.95379.99389.9911.952.99300149.9914.9511.9511.95999.99109.9911.953.84109.9911.9599.992.9915011.9511.9517003.843.8411.9911.993.84149.9914.9514.95149.9960011.9540011.99379.9911.99170099.9914.9517002.993.8460014.953.8414.953.8414.95149.9999.99600149.993.8499.996003.842.9960011.99109.992.9911.9511.953.8415060011.9599.992.99149.992.9911.9999.9911.95700400109.993.8499.9914.9517003.8470014.9599.992.9911.99700389.9914.952.9914.953.8411.992.9911.9511.993.8460011.9570014.9515014.9599.992.993.8415011.9915011.993.843.84379.99170070070014.95170014.952.992.9911.993.84389.9914.95379.9911.9511.9560011.9511.99389.993.8499.9911.9599.9911.99170099.993.8411.9514.952.993.84170011.993.8414.9515011.9599.99109.9911.9517002.9960011.9999.9914.9514.952.99379.993.8430014.9511.952.993.84379.9911.9915070099.993.847003.8499.9917001502.992.9914.9511.95150300389.9911.9911.9960099.9911.9915099.9960011.9511.993.8411.992.9999.9911.996003.843.843.8415011.9915011.9599.993.8411.953.8440099.9930099.9911.9515015014.952.99149.9914.953.847002.9911.9511.9599.9914.95Price Each14.9511.99379.9915060011.95600.011.9911.95389.99149.99109.9911.99150379.9970011.9911.9511.9999.99109.9911.9930070014.9514.953.84389.9911.991501503.84149.99149.992.993.842.99700379.9911.99149.99999.992.993.8411.9911.9511.9599.993.8411.95379.9914.953.844003.84170099.9911.99379.9960011.9511.99109.9914.9514.9511.99149.9911.95149.9999.9960011.99999.9960011.993.84999.992.99379.9914.953.8414.95379.9970011.9999.992.9911.9911.9514.9511.953.8499.9914.9570014.953.8414.9511.99149.992.991503.841501700109.9911.9911.953.84150149.9911.953.843.841700379.992.9914.95389.9930015011.9511.953.8430011.9515011.9911.992.9911.9570015011.9511.9911.95149.9911.95109.9915099.99999.9999.9999.9914.9515011.9514.9511.953.8411.951503.8411.952.993.8414.952.9911.993.8411.992.99389.9915015011.951700149.9914.953001502.9999.9911.9599.993.842.99Price Each11.9511.953.843.843.8414.9515011.9514.951700170015070011.9599.9914.9514.95150149.99150149.99379.993.84999.9970011.95150600.011.953.84149.9914.95389.993.8460011.9511.9530011.952.99379.9914.9599.9911.99149.992.9999.9999.9911.993.8411.9530014.95999.993.84600379.9911.95109.991502.99379.9911.993.843.8499.992.99149.9911.9911.9511.9515099.997003.8411.95150389.9911.9515011.993.84389.996002.99Price Each14.95149.9911.9514.95150389.993.842.993.84150379.9911.9530011.9999.996002.993.84600.02.992.991502.99389.9911.952.992.99109.9911.95149.9911.9514.952.993.843.8411.9914.95149.992.99149.992.993.84150379.9911.99379.9917002.99300379.9911.9599.9914.952.9970011.9911.9570014.95109.992.99389.9960011.9911.95109.99999.9915015011.95600999.9999.9911.951502.9970011.992.9911.9911.993.842.993.8411.95149.9999.993.843.8414.9514.9514.952.9914.9511.9515011.9514.95Price Each3.843.8411.9514.9599.991700999.9915014.9599.9914.9511.9911.9514.952.992.992.9999.99389.99149.9915014.953.8414.9514.953.84379.9911.99109.9911.9514.953.843.842.9940030099.9930014.953.843.842.99379.9911.9999.9999.9940014.95149.99149.9911.99170017002.992.99379.9911.95170099.99149.9911.99379.99149.993.8411.95379.9911.99379.99149.9914.9511.9511.9960011.9911.9515099.9914.9599.99600600.03.8470011.953.8415060011.9511.9940011.9514.9599.9999.993.843.841503.8414.952.9911.95379.9914.9511.9914.952.993.84109.9999.992.99389.9999.99389.992.9914.952.9915011.9914.95999.9970011.9560011.9530017002.9911.9911.993.8414.9515011.952.99389.9914.9599.993.8499.9911.99150999.991502.993.84379.9999.9960015015011.953.8460099.992.9911.9911.9511.9514.9511.9999.9915030060011.9999.9915014.956002.9999.9911.993001502.9911.9911.95109.9940011.993.843.847003.843.8414.9511.9599.992.992.9930011.9914.9511.9914.952.9914.95389.993.8411.952.9970011.9914.9511.95149.9911.9914.9514.9515011.992.9911.953.8415099.99149.9911.9511.9911.95379.99389.9911.99149.993.8411.9540014.9514.951502.992.99999.9914.957003.8411.95379.99149.9999.9911.952.99150149.99389.99109.993.843.8499.992.993.84389.992.993.843.84389.9914.952.99389.9911.992.9911.95109.9914.9514.95389.9914.95379.99389.9914.953.843.841503.8411.953.84379.9911.993.843.843.8414.95109.9911.95109.9911.953.843.842.99149.991503.84700389.9911.9511.95170099.9999.99400999.9940011.9999.993002.9914.9514.952.99150379.99999.9911.99149.99389.992.9917002.99389.992.99300379.993.8430014.95700379.99149.992.993.8499.992.9914.9514.952.993.84389.9911.9599.99109.9930011.9511.9511.991503.841700700109.9911.992.99109.99600600.03.842.9914.953.84149.9911.992.992.9999.99700389.9914.952.9911.993.8411.993.8411.993.842.99379.9911.99999.99149.9911.992.9911.9515099.993.84150109.99149.99170015015014.952.9914.9511.9917003.843.84389.9930017002.997002.9911.95389.99379.9911.993.843.8411.953.8411.9511.9511.951502.99600.0389.992.9999.99149.9915014.9511.9511.9511.9914.95150600.02.9914.95149.99379.9940011.99389.992.9915011.9960014.9514.953.843.8414.9511.9915015011.9911.9999.992.99389.99700379.9911.9570014.9514.95150389.9999.9914.9511.9915099.992.9911.994004002.9911.9560014.9599.991502.993.8411.9511.993.8411.956001700150389.9999.99170099.99379.99379.99600.099.9999.99379.99379.99379.9911.9511.9560030070099.993.8411.953.8411.9511.9517002.99389.9911.952.9911.95170070014.953.8411.953.8415015011.95149.9970015014.9514.9514.957003.842.993.8411.992.9911.99170011.99149.9911.9570014.9514.9514.9514.95389.997006003.8411.9914.95149.993.8411.99379.993.843.8414.9599.9999.9999.9914.9599.9914.953003.8411.95379.99170015011.9911.952.9911.9911.952.9911.9511.9514.95149.9915099.9999.992.9999.9911.992.99389.9999.997007002.993.84389.992.9914.9514.951503.84149.99109.99170015011.991503.8414.952.993.84379.9914.951503.847006003.843.84999.992.9930011.9960011.9511.9940011.9914.95150170011.9514.9514.95389.992.9970014.95149.99149.9911.951502.9911.95389.9911.9570015011.9511.9511.9511.952.9911.9911.9930014.953.84379.997006002.9914.9530030011.9514.95150389.991506002.9970070014.95150600.02.99379.993.8499.9911.993.843.8411.993.84Price Each11.9511.952.9911.993.8414.953.843003.8414.9515060011.992.9999.9914.952.9911.9511.9914.9511.95109.992.9999.9911.95109.99300379.99109.9914.95379.9999.997001502.992.9911.993.84379.99109.9911.952.99379.9911.9999.996006003.8411.9914.95300999.9911.9999.99300379.9999.99149.99379.993.8460011.9914.951503002.992.992.9911.9530070015099.993.843.8460011.957003.8411.993006003.8499.993.8415011.952.9914.95999.993.8499.9999.993.8414.957002.9970011.992.99150379.9911.9515015099.992.992.993.8499.9911.9530099.9911.9511.9511.953.8411.9911.9599.993.84170011.993.8411.9914.953.84149.9914.953.84150109.99389.9914.9515070014.95600.0170011.95389.9999.9914.95149.99379.9914.95389.992.993.8411.9514.9511.952.9999.992.992.9914.9599.993002.99150149.99600149.9999.9914.9511.953.84109.9911.95150149.9999.993.843.8411.9514.9570014.956003.843.843.8414.9599.99999.992.9914.95389.9911.992.992.992.99379.9914.952.993.8411.953.8499.992.9911.95389.9911.992.9915011.99999.99999.9999.9914.95149.99109.9914.953.842.993.842.9914.9511.992.99379.993.843.842.9999.9915060015099.99389.9970014.953.8411.9511.9930014.9514.953.8411.95389.992.99600.0999.9911.9960099.9911.9911.9911.952.9911.992.9911.9511.9599.9914.95149.9999.9970014.95109.99999.992.9914.953.8414.953.84379.9911.9517003.842.9940099.993.8411.9911.9514.953.84149.991506002.99150150389.99149.9999.9911.9511.9914.953.842.99999.9911.952.9911.992.99600600.011.9599.9914.9511.952.993.8499.99109.991503.843.84150389.9970014.9514.9511.99379.991506007003001502.992.99600.02.9940011.953.8411.993.84149.9911.9540014.9540011.9570011.99170070011.9970011.9599.993.84149.9915011.9570015011.95389.9914.95149.993.84149.9911.9930014.9514.9511.991503.842.99170014.9515011.9911.953.842.992.9914.9514.9514.953.842.9911.9911.992.99379.993.8411.95999.99700170015060014.9511.952.9914.9514.9511.991503.843.84389.9911.9915014.953.8499.99389.9915014.953.8499.9911.9960011.953.8411.992.9911.953.8414.9511.9599.9999.9960015015011.9599.991503.84389.99600149.99389.9911.99389.993.842.993.84999.99300379.992.9999.9911.993.843.8414.9514.9514.95149.99149.9930014.957001700109.9911.952.9911.992.99999.9911.99109.9911.9511.992.9911.9940011.9599.993.842.9999.9911.953.8414.9560011.9911.9915099.9911.9911.9530011.992.992.99999.993.8499.99149.9911.952.99170015015015030011.952.993.846003.8411.99389.991503.8411.99999.99109.9911.95379.9914.95700300389.9911.9914.9570014.9517001503.84379.9911.9911.9915011.951502.9914.9511.99150389.9915014.9511.953.8430014.953.842.99389.9911.9911.95170015011.9511.953.8499.99109.9914.952.99379.9914.9511.99300170014.9511.9511.95150149.9911.9914.953.8414.953.84300999.9999.997002.9911.9911.99600300149.9914.9511.99109.9911.9514.953.843.842.992.993.8414.95379.9914.9511.952.9914.9511.9999.993.843.8411.991502.9911.951503.8411.993.8499.992.99600.0109.9970014.9511.99150389.99389.992.9915014.9511.992.9914.952.993.842.9914.9511.9511.9599.99600.03.8460014.951700150999.993.842.9911.9515011.9914.9514.9514.952.9999.9911.992.99150999.9911.9915014.9515011.9514.95389.9911.9511.9599.9914.9511.99600.011.9911.99999.99379.9970011.9911.993.8499.992.99999.9911.9999.9960099.9911.9911.9599.9999.992.992.9915011.9914.9514.952.9970099.9911.95149.993.84149.9915014.9511.9511.9599.9911.993.84379.9911.9914.953.8417002.992.9914.953.8499.99389.9914.95149.9914.95389.99389.9915011.992.9914.957003002.99379.99300389.9914.9511.9915015011.95149.9911.9511.9911.956002.993.843.843.8470070011.951503.8411.992.9911.952.9911.993.84379.9911.9560040011.9511.9970015099.991503.8414.9511.993.84389.9911.953.8415014.952.9911.99379.9960011.953.8414.9599.9999.99389.993003.84379.992.9914.9599.9999.993.84389.9911.9911.9530011.99149.9970014.95379.9911.953.8414.9514.95389.993.84999.997003.8411.9511.9999.99150149.99149.99149.9915070040014.95999.9911.99389.9911.993.843.843.843.8414.953.8411.95389.99149.993002.9915014.95149.991700600389.99150600.070040011.952.9930015014.95149.9911.9999.9970099.991503.8414.9511.9999.9911.952.99389.9911.9515014.953003.842.9999.9911.992.9911.953.841502.993.84389.992.9911.9999.9915014.9511.952.9999.9911.9514.95379.9911.9915070014.953.8415011.9515070099.9911.95149.9911.992.9911.9511.9999.996003003.842.9999.993.8414.956003.843.8411.952.99149.997007002.993.84109.9911.9914.95999.9911.95389.99999.9917003.84379.9914.9515015099.9911.993.84389.9915014.952.9999.9999.99600.0600999.99379.9970014.9511.9911.9911.95379.9911.9911.953.8411.9911.9911.99389.9914.952.9911.9914.95109.9911.95600.014.95379.993.842.991502.99109.99379.9911.952.9911.993.843.8415015060011.952.992.99999.9911.9570099.99389.9970014.953.84149.9911.9911.952.99389.991502.99379.9914.952.9911.9930011.9511.9599.993.8460011.9540099.9915015011.952.99109.992.9911.95149.9915015099.9911.99379.99149.9911.99389.993.8499.993.8415011.9914.953.84149.9914.95149.9960011.9970011.9511.9511.9999.993.8411.99149.993.8411.9570030030014.95149.993.843.843.84170015011.993003.8411.9914.952.9914.952.9914.953.843.84150999.9914.952.993.8411.993.842.9911.95150389.99149.9911.95389.9999.9915011.95379.992.9911.952.993.8440015011.9540011.952.9914.95389.99109.9911.95389.99379.99149.993.8411.9911.9515011.99389.992.9911.954003.84149.9911.95389.9914.952.9917001502.9914.953.842.992.9911.9911.9511.9511.993.842.992.9911.993001502.9999.99149.993002.9911.991506002.9917003.8414.9514.952.993.8430040011.992.9914.9570011.993.84149.992.99999.992.99149.9911.9514.95600999.99170030060011.953.84379.9914.9515015011.99109.993.8411.9511.9911.9511.951503.8414.9511.993.84150389.9940011.95150389.992.9917002.99389.9911.952.992.9914.95109.99600379.9911.9960030011.9511.9514.95389.99389.9914.9530011.99109.9930011.952.99999.9911.99149.99389.993.8499.996003.8411.99149.9911.95999.99389.9915070011.9911.992.99149.992.993.84389.993002.992.992.9930011.992.9940011.99149.992.991700600.011.95389.9914.9511.993.8411.9511.9514.95149.99109.99149.99379.992.9930099.99999.991700999.9970014.9514.95389.9911.99149.9930015030030011.991506003.8411.9599.9911.95999.9999.993.842.99149.99389.9911.9511.9514.9511.9914.9517001503.8411.95379.99150109.996003.8411.9911.9960014.9511.9514.9511.991700999.99600.0379.9914.9514.9599.9914.9511.9914.952.9911.95400389.99389.9930011.9911.9915014.952.99999.993.842.9917002.993.84999.9914.953.8411.9914.95389.9914.952.9970015011.953.84149.997003.842.99700389.9999.9911.9911.9911.991506003.8414.9560014.9515070011.993.842.9911.95389.9914.9514.9599.993.8470099.992.99379.99600149.9999.9911.952.99109.9911.9515011.9599.9999.992.9911.99109.9911.99109.99109.9911.9970011.957001502.9911.95149.9960011.992.9970011.95379.99109.9911.9599.9911.953.8411.99379.99379.9911.953.84109.9911.95300389.9911.9511.99109.99389.992.9911.9511.9960011.9599.992.992.99379.9914.9514.957002.9911.9911.9599.9999.9911.9914.9514.953.8411.9999.9914.956003002.9999.99150389.9911.9560011.9511.952.9911.9911.9917002.992.99379.9911.95379.99700109.99150600389.9970060011.9914.9514.953.8499.9911.99389.9911.953.8411.952.993.8414.9599.993.8414.957001502.9911.953.8499.99379.99379.9914.953.8411.9915011.9911.99999.9915011.953.8414.953.8411.9911.9914.9514.95379.99999.99149.9914.953.84999.9914.952.9914.9515060030099.992.9999.992.991506002.99150999.993.843002.9960011.993.843.842.9930040011.99300389.9911.99149.99149.9911.99400389.992.992.9911.9514.951503.841501502.997003.8411.99150379.9911.9911.993.841503.8499.9911.992.99389.992.99150150999.99999.9930011.9911.993.84379.993.843.8415014.951503001503.843.84389.993.84150389.99999.993.84999.9914.953.8411.95170011.9511.99389.99400300170011.9911.9911.9914.952.99379.997002.9970011.993.8430014.95999.99150150149.99379.993.8470014.95379.9999.9911.992.9930014.95379.992.9915099.993.8411.996001700149.9911.952.9999.9911.99999.9914.95300150379.99150170011.9511.952.99389.9914.9511.9915070014.95379.99149.9911.991502.99149.9960011.9599.993.8414.9511.9911.9511.953.84600.011.9999.992.9960011.9999.9911.952.9914.9511.9911.952.9915014.95150149.9915014.95389.9999.9960014.952.99149.99170099.99109.9911.993.84379.9999.99109.99389.9970040011.9914.95300389.9999.993.843.843.84149.99149.992.99149.9911.9911.95389.992.993.8414.9560014.9514.95389.9915011.952.991502.9915060011.993.843.8411.9911.953.8411.95170060011.9599.992.99379.992.9999.9911.95999.997002.9930011.953.8430011.9511.993.84109.993.842.9914.95149.9915070014.9514.9511.95700109.9970014.9514.9511.992.9999.9999.9970011.993.8460011.9514.952.9915011.9514.9530014.953.8415011.9911.99170015011.95600.015060011.95149.9999.993.8411.9514.95109.9911.9599.9999.9911.952.99999.99150999.99149.991503.843.84109.9911.952.9940011.99999.99600.014.9599.9999.9914.9511.9999.9911.992.9914.9511.9911.9914.95389.99389.9911.9599.99999.9911.99379.9914.95389.9911.952.9914.95149.99999.9915014.9511.9911.95150150389.9999.99379.992.992.993.84389.9960014.952.9911.9911.953.84700700109.9930011.9911.953.842.9911.992.99600.011.9511.9911.95389.993.8415099.9911.9914.952.99109.9911.99149.9914.95150300150700149.9914.953.843.8414.9511.9999.993.8414.953003.8414.9511.952.9914.952.993.8411.9511.99109.99150600389.993001503.8460099.993.843.8411.9514.952.9911.9514.95149.9914.95389.9960011.95109.99999.9999.9915017002.99150999.9999.996001700999.99999.9911.9999.9914.952.9911.9511.992.99109.9911.992.9911.997002.9940011.9599.9911.953.8411.952.9911.99149.991502.99379.9914.95149.9911.95149.9914.95150149.9960011.99700600379.9999.99389.9911.9999.9911.9911.99150389.993.843.847001503.843.84389.9911.9511.9514.9511.9511.9960015011.9911.957001507003.842.992.9914.9560040011.99300700149.992.99170011.9511.993.8411.9999.993002.9911.95600379.9999.9911.992.9914.9514.9515014.9511.9911.9514.9511.953.847003.843.843.8414.95389.9999.9911.991700389.993.84149.9914.9599.99109.9911.9960099.9911.95109.99389.992.992.992.9914.9511.9511.952.9914.952.99109.99379.996003.843.843.8411.9917003.842.993.84389.99379.9911.9514.9511.99389.993.8499.9911.9911.9930060015014.95389.9911.954003.84700149.992.9914.9511.9514.9511.952.9970060014.953.84379.992.9911.9599.993.8411.9911.9511.9511.95999.9915070011.9511.952.9970011.95149.9911.9514.9514.9511.992.99170011.9914.952.99389.993.8499.991700149.9911.952.99149.992.993.8499.9915014.95379.993.843.843.8414.9599.9915015014.95109.99149.99389.9915014.95389.9914.9511.99379.9911.952.9914.9511.992.997002.9914.953.843.842.99109.9911.99999.991502.993003.8460011.99600149.992.9960011.95300999.992.992.99999.9999.99149.9911.9515014.952.9911.992.993.8415011.95109.99150149.997002.99379.99389.992.9911.9915011.9911.9511.952.9911.952.9999.992.99999.9960011.952.99999.9911.99109.9915060011.9511.99999.9970015011.9599.9911.95109.99109.9914.952.992.9911.952.993.8460011.9514.956003.84389.993.8411.9914.9511.952.9917003.842.9999.9911.9911.9599.9911.95379.99149.99999.9911.992.99150389.9914.9514.953.8460011.952.99170011.9515014.9599.9960011.9514.9530014.952.9911.9511.9514.9511.991700379.99149.992.9914.9511.9911.9911.9599.9911.957003.843.843.8499.9911.95999.9911.9514.952.992.993002.992.9930011.9914.953.843.84999.993.84379.993.8414.9514.9514.95389.9911.9911.952.9970060011.95109.996003.8470011.95389.99109.99379.9970011.9970099.9915015011.9911.9911.992.99170011.952.9914.9511.9599.993.8414.951700149.9911.9511.991502.993.84379.9999.99170040011.9511.9999.991503002.99389.997001501503.842.99999.9999.992.992.993.84999.994007003.8499.99999.993.8460011.9560011.9599.993002.993.8499.99149.9914.95379.993.84149.9911.95149.9914.9570040011.9511.9515011.9517003.843.8414.9530014.9511.9911.9599.99109.992.993.84389.99149.99379.99389.9914.9599.993.8411.9514.9511.993.8411.992.992.9911.99149.992.9999.9911.9911.9511.95109.9911.9914.9560014.95379.9911.952.99389.9911.952.99999.9930015011.9914.953.8499.992.9911.99389.99379.99149.9914.9514.9570011.9911.99170014.9511.9530015011.993.84149.9970011.9911.9511.993.842.993.84999.993.843.8499.992.99170099.9911.952.992.9914.9511.9599.99700149.9914.9514.9599.993.8415011.95149.993.8414.95149.99149.9911.9914.95149.99149.991502.9915011.953.843.84150170030011.953.847006002.9970030099.997002.992.9915099.99600389.9911.95389.99149.9915060011.9599.99389.9911.9914.951502.9999.9917002.9915099.992.993.843002.9911.993.8499.99150149.9911.9960011.99379.992.9911.9930015011.99149.9914.9599.996003.843.8411.9530011.9960011.993.8411.9511.9515070015011.9511.9914.9514.9511.95379.992.99300109.9917002.99389.99109.9917003.84389.9999.9911.9915030030014.9599.99389.99999.99109.9911.951502.996003.8415030015099.9999.99379.9914.952.9999.99999.99379.992.993.841501503.843.8414.9515099.991503.8415099.992.992.99389.99109.9911.9914.9599.99149.992.9911.953003.843.8411.9960014.953.84149.9914.952.9911.9911.993.8499.99379.9915070014.95389.99389.993.8414.9511.951700379.99389.9911.99149.992.9999.9911.9911.9515011.9914.95389.99109.99300999.9911.9915015011.952.9911.9911.9514.953.8411.9960070014.9511.9930099.9911.99149.9915011.953.8414.95379.9960014.954002.992.9914.9514.95109.993003.8411.952.993.841502.997003.8411.9911.9911.9511.9914.953.8460011.95600170099.993.8411.9915011.992.9999.99389.993003.843.8411.952.99999.99389.99109.9914.9511.9515060011.9599.9914.9511.9514.95389.99149.991700379.9911.992.9999.9911.99389.9914.95149.99149.9999.99149.99389.993.8411.99149.99150379.9917002.9911.952.9914.9560011.9911.9514.9511.952.99389.99379.996001700379.993.841503.8414.953.842.993.84149.99389.9911.9599.992.9915011.996006002.99109.9914.9514.95149.992.99Price Each149.9914.951503.843.8499.9914.95149.99379.9914.9599.9911.9514.953.8414.95389.993.843.8499.9911.9511.993.8414.9514.95600.011.9511.952.997003.842.9911.95999.99999.99150389.9911.9570099.99379.9911.9970014.9530099.992.99389.992.99150109.9911.9560099.9911.9515014.953.8411.953.841502.9911.99109.99149.9911.9515099.9911.9915011.9970099.9914.9511.953.842.99700109.991503.84999.993.8411.9911.99999.991503.842.99999.992.9930099.9911.9511.993.8499.9914.95999.9911.95379.9911.99109.9911.992.99999.9911.9511.9911.99300379.9917002.9915015015011.951503.8414.9511.95149.997002.99999.9911.994003.8414.95150379.993.8470015014.953.843.842.992.992.9911.9914.953.8411.9911.9570014.9511.95999.99149.9999.9930011.99389.993002.9911.95149.9911.9515011.993.84150389.992.993.84389.993.842.993.8499.991501501700149.9911.99Price Each600700379.9914.953.8414.953.84999.992.9911.9914.9517002.9911.951501503.8411.95389.99109.9999.9911.95300300149.9911.9914.95149.992.99999.9930099.993.8415060099.9970014.9570014.9514.9599.992.9911.9514.9514.951700389.99389.992.991700150379.9999.9970015014.9514.95149.9911.9970011.9911.9911.9511.99149.992.9915099.9911.9511.95389.9999.996001503.8411.9511.9514.95379.9914.9514.9599.99389.99999.993.8415011.99149.9911.95149.9915011.9514.9511.99150149.9911.993.8470014.9515011.993.84109.9914.95149.99149.9914.9570099.993.84109.9911.99600.0379.99150999.99150149.992.993003.8414.9511.95379.991502.9999.9914.952.9999.99149.993.8414.95170014.95149.9911.953.843.842.9911.9914.95700149.99300379.992.991502.993.8411.9911.99150149.9914.953.8430014.952.99109.9911.9911.95150109.9911.99389.9915011.9511.9999.9914.9511.9511.993.843.8411.9915014.9511.9914.9570070099.9911.9930099.9911.99149.9914.953.8470011.996002.9999.99999.9911.991502.9999.9999.993.8411.952.99389.9911.95379.99700149.9914.9517002.992.9911.95379.9911.9911.993.8411.9511.9911.9999.997004002.9914.953.8414.95999.9915070040014.95389.993.842.99379.993.8411.95999.993.841503.8411.9911.991501502.9911.9914.95389.9914.95170099.9911.951503.842.992.9914.9514.9599.9970014.9514.95149.991503.843003.8415011.992.9911.9530011.9511.952.997001503.8414.9514.953.8411.9911.99379.993.84149.9914.953.843.842.99379.9914.9599.9914.9511.993.8411.95149.9914.9514.9514.9511.993.84600999.9911.95170014.95379.9911.99600389.9914.9511.9999.9911.9915014.953.8414.952.9999.99109.992.99379.99389.9915099.9915011.9915015014.95999.9911.9911.9999.99379.9930017003.84389.9999.9914.9511.9511.95170014.957001501503.84379.9914.9511.9511.9911.9570014.95109.993.8411.9515099.992.993.842.99379.9911.991502.99379.9999.9970011.9911.9960011.993.8414.9511.9511.9511.9599.9915011.9599.993.8499.9911.9914.952.9911.9917003.843.84149.99999.9911.9960099.993.8417003.8499.9911.9511.95109.99150109.9911.992.9911.9514.9511.9915099.9970011.9599.992.993.84149.991503.843.8414.9514.952.9911.992.9911.9940017002.997001502.99109.9911.95149.992.9911.9914.9570011.9915017002.993.843.8414.95600.011.9599.99999.9914.9515011.9914.9514.9511.996003.8411.99150389.99379.992.993003.8411.9570011.9511.95999.992.9911.95600.03.8411.95109.993.8440099.9940011.9515011.99999.99389.9914.95700170011.9599.9911.9514.952.99700379.992.9911.99149.992.9915099.992.99999.991501503.842.99150389.992.9960014.95379.99600.099.99379.9911.952.99149.9999.99109.993.8414.9599.992.991700379.9999.9911.9999.993.843.8499.9911.9570014.9514.9511.95Price Each170015011.9514.9599.9911.9911.9970015015011.952.9911.95389.9911.9599.9911.952.991502.9911.9511.992.992.99389.99109.9970011.95300999.9911.9599.993.842.9911.95389.992.991501503.843.842.992.992.9911.95999.992.992.992.9914.952.99389.993.8411.95379.9911.99389.9914.9514.9511.9914.953.8411.953.84389.993.842.991501503.84600.040060011.9511.9515014.9511.99389.99999.99389.9911.9911.9930011.9960011.9599.993.8411.9999.9914.9599.9914.953.84379.992.9914.9511.9511.95149.99149.991507003002.993.8411.992.993.843.84600.03.847003003003.8411.9915014.9511.95389.99109.9999.99149.992.9911.992.99149.992.9911.95700Price Each3.84150149.9914.952.9911.993.843.843.8414.95600389.9911.99379.9960011.9911.953.8414.953.841501501503.8499.9999.996002.9999.992.993.8414.952.993.8411.9515014.9570015011.95109.9999.993.8499.9911.9540099.9911.95149.99149.9917003.842.993.84389.9911.992.9911.9911.9511.99389.9911.95999.9940011.99170014.952.9914.9560014.9511.95600.014.9511.952.9914.95109.9930014.95379.9914.9511.95149.9915011.9514.95389.99149.9914.9511.95389.9911.9915099.9914.9511.95600.0300170070014.953.8499.99600.011.9514.9514.952.99389.992.99149.993.842.9915014.9599.9911.952.9999.99150389.99170014.95600.03.842.99149.99170060011.9914.9514.95379.9911.99379.99389.9911.99389.9911.95150379.99379.9911.99149.99149.9914.9514.9515011.9514.9511.993.8411.9511.9911.9540011.9511.992.992.9911.9911.9514.9514.9511.9911.9570099.9915099.9914.9514.9599.9914.9515011.95150999.9911.992.9914.9515015011.9914.9530040011.9911.953.84389.991503.842.9914.952.9911.993.84999.9911.952.991502.9911.9911.9514.9599.9911.9999.9911.953.8499.9999.99379.9911.952.9999.99389.993.84999.992.99170099.9914.95999.9914.952.9914.9511.992.993.84150300600.03.8414.95149.9930014.9515011.992.993.842.9911.9514.952.99149.9999.9914.951700170011.95389.99149.997002.991502.9911.9911.9914.952.9911.9515040011.9914.953.8415017003.841502.991503.84149.9911.953.843.84389.9911.953.84999.9911.9911.992.993.8411.9914.9560011.9570014.953.842.99109.99149.993.843.842.9915017002.992.9914.9511.95150389.9915014.953.843.84149.99389.9914.954006002.9914.9511.9511.9915014.953.842.9930015040011.9511.9511.9514.9514.95149.9911.9911.9511.95379.9911.957003.84389.9970011.993.8414.953.8415099.9911.951502.9999.9911.9911.95109.99389.993002.9911.953.8415099.9930017003.8440011.9540014.9514.956002.9970014.9599.9911.95149.9911.956003.84109.99150389.99379.993.84149.997003.84600.011.991503.84109.99170070015011.9915011.9515015011.992.99999.9914.953.8414.953.843.843.8411.9999.9911.95999.993.8411.9517003.842.9970011.95149.992.9914.952.99109.9915011.99149.9914.951503.843.84379.9914.952.99400170099.9914.953.843.8411.9911.951700109.99109.9911.9970011.9911.9511.95379.99150149.9960011.993.8415015011.952.99150150600.011.9930014.9599.9914.9599.991502.99149.9960099.9914.9560011.953.847007002.9999.9911.95379.9911.952.99389.9914.9514.953.843.8411.99109.9911.95150700109.9911.9511.954003.8411.953.8411.951503.84389.99999.9911.9914.952.993.843.843.843.8414.95109.9914.95149.992.9911.9914.952.993.8417002.99149.99109.99999.9914.953.84150379.9999.9911.9511.9514.9599.9911.9911.9514.95389.9914.9599.9914.953.84109.992.9911.953.843.842.9960070014.9515014.9599.99379.9999.9911.9911.9914.9540011.9511.9599.9914.9514.95999.992.9915011.95149.993.8414.952.9911.99600149.9911.99600170011.9999.9970014.95149.9960099.9930099.9911.95149.991502.99389.99600.014.9514.95379.9914.9560011.951700389.9911.9514.952.9911.99999.9911.9515099.993.8499.996002.993001502.993.84600150149.9911.952.992.9911.9599.99Price Each389.992.992.9911.95389.9911.992.9914.952.9914.9511.95149.9999.992.9970015011.993.8415011.9514.952.992.9911.9911.9911.95999.99999.9911.9599.99150379.993.8411.953.842.9914.952.9914.952.997003.84389.992.9970014.9514.95389.991501700389.992.9999.99600999.9914.952.9911.992.993.842.993.8414.9511.9911.9511.9914.95999.9914.953.8411.9511.9511.99300149.9914.953.8411.953.84389.9970014.95150170011.9514.952.99170099.9930011.953.8499.993.8411.953.843.8414.953.8460011.9599.9915011.9511.9514.95109.9914.953.84149.99379.993.8411.95600.011.953.84149.99150600149.99999.9911.993.84389.993.84999.9999.9911.99600.099.99150170011.9999.99999.9914.9514.9511.9911.99389.99999.992.9914.953.843.8411.952.993.8411.993.8414.95Price Each11.9914.9515030015011.993.84600170014.9599.9911.99600.03.8414.953.842.9914.95389.99389.9914.95999.99379.99109.9915011.991502.993.842.996002.9911.952.992.9911.992.99379.993.843.8460099.9915011.95379.992.99149.9911.9511.953.842.99149.99150999.9911.9915011.953.843.84389.993.842.9911.9911.9511.992.991503.8460011.9511.99149.99150109.9911.9511.993.8499.9914.9514.951502.9999.9911.953.8417003.843.843.8499.9911.992.9999.99150389.9911.9515011.992.9914.952.9930014.9560011.951700170014.95999.991502.99389.9960011.9511.991506003.8414.952.992.9915014.95999.99999.9999.993.842.991502.99149.99149.9999.99389.99149.992.99379.992.99150149.9914.953.8411.9514.9511.9511.9515011.95109.9915011.9514.953.842.992.99389.9914.95389.9914.9511.9999.9911.993.8411.9599.9911.992.9915011.9530011.95170011.991503.84109.992.9911.953.8414.9530011.9917003.84379.99149.9911.99999.99999.99379.993.841507007001502.9911.9515014.952.9911.9511.95170099.9915014.9511.992.9911.95999.9911.9511.993.8411.952.994002.9999.99389.9911.993.84389.9999.993.84109.992.9914.9511.99999.9999.992.9999.993.842.993.843.8411.9514.95999.99150389.9911.9914.9599.99149.992.993.84149.9911.997003.8415014.9514.9599.992.991700150149.9915015014.9511.9511.9999.9960099.99379.9911.95300700999.99389.993.8411.992.9911.95150700379.9917002.9911.9911.95389.9999.9911.991503.8411.993.84170015011.9560011.951502.993.84379.9911.9515099.9914.953.84379.9911.9911.9511.9599.99700150150149.9999.9999.99600.060011.9599.99149.99109.9914.9514.952.992.99600.099.9911.992.9999.9970011.99109.99170040011.95379.9914.9540014.9511.9914.9511.9511.9514.9511.993.8499.99379.99389.99379.9915040099.9960099.992.993.843.8499.993.8499.9970014.9599.9930015011.993.842.992.9914.9570014.951503.843.843.84379.9911.9911.95149.9911.992.992.9914.95149.9915011.9511.9511.9570014.9514.9570015011.99109.992.9911.9911.9914.95389.99600170030014.9511.9599.9999.99600149.993.84389.9911.95600600.03.842.9911.95149.9914.952.992.99170011.9599.992.992.99379.991507002.9911.99109.99389.99999.992.9911.9511.956002.9915014.95109.99999.99109.9914.9599.9914.953.8414.95999.991507002.9911.951502.991502.9911.953.8414.9599.9911.95300999.9999.992.99109.991700379.992.99109.9911.9914.953.84389.9915011.952.9914.95389.9911.95150150389.99999.9999.9911.95379.99389.992.9911.9911.9514.95150379.9915099.997001700379.993.8430011.99999.9911.9911.9911.9911.953.841503.843.842.996003.843.84389.9914.953.8499.9999.99149.9911.95379.992.9911.95149.9940011.9511.9514.9511.95149.99999.9960014.9511.992.99389.99600999.9914.9511.9999.9914.95379.992.9911.952.9999.9915014.953.8411.9911.9599.99999.9914.952.9999.9911.9517001700109.992.9970011.9999.9970011.9914.9599.99379.99379.9970014.9599.993.842.993.8411.9599.9911.957002.9911.9999.9911.9511.9914.9511.9911.9999.9911.9911.9511.993007003.842.9999.993.84170017002.99170099.9911.95149.9999.99600149.991700600.014.95600.03.84389.992.9914.953.84700379.993.847003.8411.9511.9914.9515099.9940014.9511.9911.9999.99600.02.9911.9515060070014.952.9914.9540099.993.84109.992.99Price Each2.99389.9911.9915014.9511.95389.9911.9599.993.84999.9911.99379.992.993.8414.95149.99379.993002.99379.993.842.99149.9911.95389.992.993.84999.992.993.84999.9914.95109.9914.952.9911.9511.9599.9915014.9514.953.84389.9914.953.84149.99149.9915099.9911.996003.843.8440070099.9999.991700170099.9911.9914.953.8414.953.846001700379.992.9911.9914.953.842.9911.9570014.9514.9511.95389.9914.951502.992.9999.9911.99999.9930011.95999.9911.9911.9599.99149.9914.9599.9914.952.9911.992.9911.952.9911.95379.994002.99150389.9999.9915014.9560099.992.992.9999.993.8411.9514.9511.9915011.95170014.9511.952.991501502.993.8470011.9570014.953.8460011.9960011.9511.9911.9914.9511.95700379.9911.952.992.99149.9911.992.9960011.9511.9911.95Price Each1503.84150600149.99379.99149.992.9911.9911.9599.9914.9511.9511.9514.9514.953.8411.953.8414.9515015011.992.9911.9914.9511.9511.95149.9911.99170099.9911.951502.993.8411.952.99999.9970014.9514.9511.953.8411.9911.952.9970014.9514.95379.993.8414.9599.9914.9511.9599.99109.992.9914.9511.95109.9914.9515011.992.99149.9911.99389.9960014.95389.991700150149.99999.9915011.953.842.9970014.9570011.992.99149.9911.9914.95149.99389.99999.99150389.993.8414.9560011.953.8414.9599.9914.9511.9514.95150389.9999.9914.95149.9940011.9915011.95149.99170011.99389.993.8411.991502.9914.9515011.9515011.95600.011.99600379.992.99999.9930011.953.8411.95150389.9914.9599.99389.991503.843001503.8411.9914.95389.9999.9970015030011.9999.993.841501503.843.8411.99379.993.843.8411.992.993.84379.992.9914.9514.9511.9970099.9960014.9599.9999.992.9914.95170011.9915011.9917003.8414.95379.992.9960014.9511.99109.9911.95379.9911.9999.9999.9915060014.9560099.9911.9911.992.99999.9915011.9511.9530014.953.842.9970011.99999.9911.9911.9911.952.9914.951502.9999.9915040011.992.9999.993.8430030099.9914.9599.99150149.99109.9911.952.9911.9511.9515014.9570011.9970099.9911.95300109.99300379.9914.951502.9999.992.99600.0389.9999.9911.9930014.953.843.842.9914.95109.99999.9911.952.9911.9511.9511.95700600400170015099.9911.9911.993.84149.99600150300379.991503.842.9911.992.9914.9514.9599.9915011.992.9917002.9999.9999.9911.9914.9514.9511.9511.953.8411.95170040011.953.8499.9915099.9970014.952.99170011.9911.952.9911.9511.953.84389.99149.9911.9914.952.9914.9511.992.9911.953.842.99150389.991700170011.9911.95379.992.993.8414.95109.9911.9911.9511.95700999.9960011.952.9911.99170011.99600149.9911.9517002.9914.952.9911.953.842.9999.9911.95389.9914.953.84170014.95389.991700600170040014.9514.953.8411.957002.99150600.01503.8499.9911.953.8414.95389.9999.993.842.9914.95149.992.993.842.99149.993.8411.95170099.9915011.9514.952.9940011.9911.95600.011.953.8415011.9911.9911.953.84999.99389.99999.9915011.9511.992.9914.952.993.8470014.9515011.993.842.9917001503.8415011.952.991503.8414.95149.9915011.99149.99999.99389.99109.993003.8414.952.993.841503.843.84149.993.84379.991502.99109.9911.9515070014.9511.9560060030011.95109.9911.99149.99149.99600Price Each170030014.953.8411.99Price Each99.9999.9930030011.9511.95700379.9915014.9511.9511.9999.9970014.95149.993.843.84379.993.8414.9511.9914.953.8499.993.84150149.9999.99700149.992.992.992.9915099.992.9911.95379.993.84389.99600.011.9599.992.99389.9911.9914.957001503.8499.99389.9911.99999.9914.953.8499.9911.9960040070014.95170099.9914.9514.9511.9999.9930011.9599.9999.99400700389.992.993.84389.997003.842.9960099.99389.9911.9911.952.993002.997001502.99170014.952.991700389.9915011.993002.9911.9515014.95150389.9911.993.841502.992.9999.9999.9911.9999.9999.9930011.9560099.9911.9570011.992.9914.953.843.8414.9511.99149.9914.9511.9511.99389.9911.9960011.9511.99149.99149.99300999.9914.9511.9514.952.992.9911.952.9911.99389.9914.9514.9514.9511.9514.9514.9514.9599.992.99109.9911.95379.993.843.8411.9514.95109.99149.993.8411.95149.9914.95389.99999.993.8411.953.8499.992.9911.95149.9999.9914.9514.952.993.846002.9999.99170040014.952.9914.9515011.9511.952.9911.952.9999.99600389.9914.952.992.9960011.9514.95379.99389.993.84150149.993.842.9940070014.9511.9999.9914.9514.956002.99109.9999.993.8414.9511.9511.9511.9999.99150149.991501700379.993.8470070030011.952.993.84389.992.9914.95389.993.847003.842.99379.99150300170011.953.84379.993.84149.992.9911.99400109.9911.9511.952.992.9914.952.992.992.9914.95300149.9914.9514.95109.996003.843.8414.95700379.992.9911.9930099.993.842.9911.95999.9911.9911.9911.953.8411.9999.99379.99149.993.842.9940014.95999.99149.993.84379.9914.95379.99109.9911.992.9911.9599.9911.9511.952.9911.952.9914.9514.9511.952.992.9915011.952.992.993.846003.8411.9914.9515014.95999.9914.952.9930011.99379.993.84379.99600149.9915011.9914.95379.9911.9599.992.993.8417002.991700600.03.8414.9599.99379.9915030014.95149.9914.95999.99389.99109.9914.9514.952.99149.993003.8499.9999.99149.99149.99Price Each3.842.9960011.9599.9915070011.95379.9999.99999.9914.95999.9911.952.99150150999.9914.9511.9514.9511.9999.992.997003.8414.952.9914.9599.9999.9914.956002.992.99700389.99999.991501502.9911.953.8415040011.99999.9911.99170011.9911.9511.993004003.8411.9914.953.8499.993.8411.99109.9911.95999.991700600150999.9911.99149.9999.9911.9914.952.99149.992.991507001503.8411.992.9911.993.842.99149.9911.9511.9911.996007002.993006001700700999.9911.9599.9914.9514.9511.992.992.99170040011.993.8499.9911.95149.992.9915011.99700170060011.9914.9599.9911.99700379.99109.9911.953.8499.9960011.9911.991700379.9960030011.9599.9911.99400700149.99109.997003.8414.9514.95389.9915011.993.8411.9911.9511.992.99109.9915040011.952.992.9999.992.9911.9911.95389.9914.95149.992.99170011.9960011.993.843.841503002.993.8440014.951506002.99109.99389.99999.9911.952.993.84150999.9914.9511.9511.9514.9511.95109.9930015014.9511.952.9915011.9911.9914.95109.9999.99700400389.9911.9915070011.9530011.952.9911.952.992.997003.842.9940011.952.99999.992.9999.992.993.8460011.9999.993.8411.9999.9999.99700149.992.9960011.9970014.9530014.9511.9511.9514.9515011.9511.953.8411.9511.9511.99170011.99999.9914.9599.9911.993.8411.992.991502.9999.99389.99999.992.992.9911.99149.9911.9914.95400149.993.843.8411.953.8411.9514.9511.9515015011.99149.993.843.8415011.9911.99700109.9911.9511.95389.99389.992.993003002.9914.9511.992.9911.9914.952.99379.99999.9914.9511.95600.01503.84149.99389.9914.9599.9911.9911.952.9911.9914.9511.952.993.8414.9511.95379.99379.9914.953.8430011.95109.9911.992.9914.953.8499.992.9911.9911.95700109.9911.952.9911.95700389.992.9911.957003.8499.992.992.9911.9511.993.8499.99109.992.9915011.9599.9930014.9511.9514.95170099.9999.9911.953.8499.9914.9515014.9599.992.9914.9514.95389.9911.9514.95149.992.992.993.8411.95379.99150379.9915014.951503.843.8411.95379.99170014.95389.992.9911.95999.9911.9511.9515011.9914.95109.993.842.993002.99170011.9911.9911.9511.9599.992.993.8411.99389.992.9914.95600170014.953.8414.9514.953.8414.95149.993003.8414.95389.992.992.9915060099.9911.9911.9599.9930011.9930070070014.953.8414.95700150389.992.9911.95700700379.9911.9599.9911.953.84389.9915014.9511.991501700170011.99149.9999.993.84300379.99109.992.9999.997003.842.992.9911.953.843.843.8411.9514.9514.9514.953.8499.9911.9914.9514.951501503.843.84300109.99109.9911.993.8411.9515011.99149.9914.953.84150109.99109.993.8499.99300149.99389.99149.9915011.952.9999.9999.99109.9914.9511.953.842.992.993.8411.951700999.99149.9914.9530011.953.8499.9911.953.842.99999.9914.952.9911.99150149.9914.951502.9911.953.8411.992.992.992.992.991502.99379.993.84149.992.9911.993002.9914.9511.951700149.9970011.9911.9911.9515014.9599.9911.992.99300700109.9960011.9599.9911.9511.9511.9570014.95149.992.99389.992.99149.99700Price Each379.9911.99150149.9911.9511.99600.03.84149.9911.9911.993.8440014.9511.9515099.9911.9511.9999.99389.9914.952.9914.95389.99600.03.841700379.992.99109.9917002.9911.95109.99389.9999.992.9960099.9911.9915017002.99600.030011.953.8414.9511.9915011.95999.9914.9515014.95149.991502.991502.9911.993.8499.993.8499.9999.992.99379.99149.991503002.99170014.9599.9999.992.996002.9999.99150379.9911.9514.953.8415011.9514.95700150999.9914.9599.9911.9514.9511.953.84109.9911.953.8411.95389.993.843.8430011.9915011.9914.9511.9911.9915011.99600.0150400109.9914.951700Price Each150149.9911.993.8411.9914.9514.9511.953.8411.993.843.8499.99149.993.8470099.993.842.9911.992.9911.99379.99600.02.992.993.84389.9911.9914.95379.992.9914.9514.95149.993.84389.9911.95379.99379.992.9970014.9514.9540030070011.952.9911.9911.9514.9514.9540011.9514.952.991700149.991503.84389.997003.843.8499.9911.992.993.8440030011.95149.9915060011.9914.95300170011.95150109.993.8460011.95109.99170017001700999.99109.9911.9999.997003.8470014.9570014.9515014.953.846002.993.8411.992.9914.953.843003.842.9999.9914.951700149.9911.954003.8411.953.842.9911.9911.956002.992.9911.9511.993.84379.993.8411.99999.9911.953.84379.993.8417002.9911.95149.993.84389.9999.993.843.843.843.843.842.992.99379.99109.99400150999.993.843.84379.9914.951502.993.843.8414.95149.99389.994003.8414.95379.991700149.992.9999.992.9914.953.8411.99999.99389.993.843.84389.99170014.9514.9511.95170099.993.842.99109.991503003.8411.9915014.9514.953.842.9999.9930070014.952.993.842.993.8417003.8411.9514.9570060060011.9511.953.84389.9911.953.8430014.95379.9914.9511.99389.99999.9999.993.84109.9914.95300700149.9914.953.84300389.9914.9515040011.95150379.993002.993.841502.9960099.992.9911.953.846003.843.8411.9914.95109.9911.99109.9915011.9530060011.95379.997002.99300149.9911.99600.099.993002.9915014.95150389.997003.842.9914.95379.9911.9511.9999.993.842.993.843.8499.9999.99149.993.8411.993.84150150379.992.991501502.9911.95150999.99149.9911.99149.993.841503.84109.99150149.9970014.9570099.9911.99150109.9914.9511.9514.95149.9911.9511.9560011.95999.993.843.84389.9911.9599.992.9911.953.84149.9911.9511.9514.9530015011.9511.992.9911.953.841503.843.843.8411.993.842.993.84Price Each14.95109.9970014.9511.99300150170011.9514.95149.99109.99389.9914.95389.992.9911.9915014.95149.9911.9560070014.951503.843.8470015014.95149.99999.9911.95149.9914.9515014.953.8460099.9999.9914.95700149.9960015011.951502.99999.9999.99149.993.842.9915070014.95109.992.992.99999.9915099.996002.9914.95109.993.8470070011.992.993.8414.95379.9911.9514.953003.843002.9914.953.8414.9517002.9914.9515011.9511.95999.9915070015014.9511.99600.02.993.84389.99149.99149.9960014.953.8414.953003.8411.9917003.8415011.9911.952.992.9999.9914.95600389.9970014.952.9911.953.841503.84149.992.992.992.9999.9999.992.9914.953.8414.95150999.99170011.9911.9999.993.843.843.8411.9514.95379.992.9911.95149.992.9970015060099.9914.95149.99109.9911.9915011.9999.9911.95149.9911.9511.95170014.9599.9914.9514.9511.9599.99999.9915011.9511.9914.953.8411.9514.952.992.9911.9960099.9911.95389.9914.9599.993.843002.9999.9911.952.993002.9911.9515014.953.84700149.9911.99109.9911.95109.9914.9514.9511.951502.9911.956002.9914.9514.9560011.9960011.9999.9999.9999.99999.9914.952.993.8414.9511.9511.9599.9915015040011.9914.9599.993.84170070011.9914.952.991503.847006002.9914.953.8414.9511.993.843.84109.9911.992.992.99389.9917006003.8414.95149.9911.993.8411.99379.9914.9514.9511.9560011.9511.9511.9911.9599.9914.9515014.95149.99600.011.9514.953.84149.9911.9514.9511.95379.9914.95Price Each999.9915011.991503.842.99149.9911.95389.9911.99300600149.9915040011.951700149.9914.9511.9530099.991503.842.992.9911.993.84999.9914.9514.9599.992.9911.9511.951503.8411.993.842.9911.9599.9911.9511.9514.9515011.9914.95999.9914.952.99600.014.9515099.99379.99389.992.9914.95379.99999.9999.9914.9515015011.9911.9570014.9511.9911.9514.9514.9514.95999.99149.9911.95999.993.84300389.993.84170015099.9911.951700149.99379.993.8470099.99700600.014.953.8411.9999.991502.99150149.992.9915070014.9511.9930017001503.8499.997001503.84109.9999.993.8414.95379.9999.9999.9999.99999.99149.9970014.9511.95999.993.8415011.9599.9911.9514.953.843.843.84170099.9914.951503.8499.993.8499.9911.9599.9911.993.8460099.9911.9915014.9511.9999.993.8414.95999.99400150109.9911.9511.957003.8430015099.9999.99379.992.993.8415099.99109.9911.991503.84149.991502.99379.9914.9514.9515011.9511.9599.9999.9999.992.9911.9911.9515011.9511.9914.953.843.8414.95109.9970014.9570011.99379.9999.9940014.95999.9917002.9915011.957003.843002.9999.9911.95379.992.9911.95150170015014.952.9915015015014.95149.9960015011.99109.9911.952.9911.993.8411.9999.99109.99149.991507001503.84999.9940011.9514.9514.95389.99149.993.84150379.9914.9515014.9517003.8415014.95389.9914.953.8470014.95170011.9911.953.8411.9570014.95150149.99149.99149.9914.951502.9960011.9511.9911.9914.9511.95149.99149.9915011.9999.993.8460099.9911.99150389.992.992.9911.9511.992.992.9914.95170015011.95999.9914.9511.95999.9915011.9999.992.99389.9914.9570014.95149.9911.9599.99379.99379.9914.9511.9514.9511.95379.994003.8499.992.99600.07006003.843.846002.99379.99379.9914.9511.95700300379.9999.993003.8414.95400389.991503.84999.9970015014.9514.952.9911.9911.951502.9999.9999.99999.9911.993.8499.99389.992.991502.991506001503.84600.014.95300700379.99379.992.99109.9940099.993.84379.993.8411.9911.997003.8414.952.99150379.993.8499.9911.9511.993.846003.84999.993.84150150149.99999.99700149.993002.9917002.9914.9515011.9599.9911.997003.84150149.9911.99300379.992.9911.9911.99109.997003.84600400700149.992.993.84109.99389.99600.011.99109.9970015011.991502.9999.9940014.95150149.9914.9530099.992.992.9999.9960011.992.992.9999.993.8414.952.99149.99389.9914.953.84109.99379.99600.014.9511.953.84379.992.9914.952.9960011.9914.9515040011.953.8411.9511.9599.993002.992.99379.9999.9911.9999.99400379.9999.993.843.8411.9999.9911.993.8414.9599.9970014.9570070011.95300600389.99109.9911.9999.99389.99170014.952.9914.953.841507002.993.8411.9599.991502.9999.9999.9914.95109.9915011.952.9914.95109.9911.9999.99149.9915011.9914.9514.9511.9970014.9511.9911.99109.9914.9511.9914.9514.9599.991502.992.9911.9515011.95700999.992.99150379.9911.95379.9914.952.99379.99149.9999.99109.99389.991502.9915011.9915011.9960099.99170014.9560011.9514.952.9911.993.842.9915011.997002.9911.993.8499.99999.9915015011.9570014.9514.9514.9560015015011.9930011.992.991503.8411.9917003.84300379.993.8414.9514.9514.9511.99149.9911.99389.9970011.992.993.8414.95150109.992.9999.9914.952.99379.9911.9911.992.9911.95379.9914.9599.9914.9511.9911.9511.9960011.9914.9515011.9960011.9511.952.992.991503.843.842.99400109.9999.99389.99170015011.9911.9511.953002.99170011.9517003.8499.991503.84379.992.99150379.99379.993.8411.9999.9911.9911.9514.9514.95170014.9511.9511.9911.953.8414.9599.9914.95149.9915011.95379.99379.99389.9915011.953.842.993.8414.953.8430011.9511.9915070011.9911.9911.991502.99600.02.99149.9914.9530011.953.84150149.9911.9911.951503.84379.9911.9515015099.9911.953003.8411.9999.993.842.9970015099.9999.9960011.95150389.994006006002.99389.997002.993.843.8411.953.8411.99149.9999.9930099.9911.9999.9970099.99149.9915014.9515099.993.84149.992.991507001502.9911.992.9911.993.847007002.99700149.9911.992.9914.9514.95149.993.84300149.9914.9511.9999.9911.953.843.8470011.953.843.8417001700149.99999.9999.9999.9911.9917001502.9915099.99109.9914.9511.993.841502.992.9911.9511.9511.9599.9911.9511.993.8411.991502.9911.9914.952.9911.9511.952.993.84600.040099.993.8411.9911.95379.9911.9914.9511.9940011.9511.952.99389.993.842.992.9911.9511.95600.0149.993.8499.992.99400170014.9511.953.84109.9911.997003.8411.9511.9514.95389.9999.9911.99999.99389.99170011.99379.9999.993.842.991503.8411.9911.9599.99379.991503.8499.9911.9599.99150170014.952.9911.95150700999.9999.9914.953.8414.95149.99389.99300379.992.9911.9560014.95389.993.843.843.84109.9960011.9911.95170011.9914.9515011.9511.99109.993.84149.99400379.992.9914.9560011.9511.9599.9911.95600.017002.9911.99150109.9915011.95389.9911.9514.95600.011.9911.95389.9970099.992.99379.9911.9515011.9999.992.993.8411.953.84'",
      "\nDuring handling of the above exception, another exception occurred:\n",
      "\u001b[1;31mValueError\u001b[0m                                Traceback (most recent call last)",
      "File \u001b[1;32m~\\anaconda3\\lib\\site-packages\\pandas\\core\\nanops.py:1634\u001b[0m, in \u001b[0;36m_ensure_numeric\u001b[1;34m(x)\u001b[0m\n\u001b[0;32m   1633\u001b[0m \u001b[38;5;28;01mtry\u001b[39;00m:\n\u001b[1;32m-> 1634\u001b[0m     x \u001b[38;5;241m=\u001b[39m \u001b[38;5;28;43mcomplex\u001b[39;49m\u001b[43m(\u001b[49m\u001b[43mx\u001b[49m\u001b[43m)\u001b[49m\n\u001b[0;32m   1635\u001b[0m \u001b[38;5;28;01mexcept\u001b[39;00m \u001b[38;5;167;01mValueError\u001b[39;00m \u001b[38;5;28;01mas\u001b[39;00m err:\n\u001b[0;32m   1636\u001b[0m     \u001b[38;5;66;03m# e.g. \"foo\"\u001b[39;00m\n",
      "\u001b[1;31mValueError\u001b[0m: complex() arg is a malformed string",
      "\nThe above exception was the direct cause of the following exception:\n",
      "\u001b[1;31mTypeError\u001b[0m                                 Traceback (most recent call last)",
      "Cell \u001b[1;32mIn[58], line 1\u001b[0m\n\u001b[1;32m----> 1\u001b[0m df1\u001b[38;5;241m=\u001b[39m \u001b[43mdf\u001b[49m\u001b[43m[\u001b[49m\u001b[38;5;124;43m'\u001b[39;49m\u001b[38;5;124;43mPrice Each\u001b[39;49m\u001b[38;5;124;43m'\u001b[39;49m\u001b[43m]\u001b[49m\u001b[38;5;241;43m.\u001b[39;49m\u001b[43mmean\u001b[49m\u001b[43m(\u001b[49m\u001b[43maxis\u001b[49m\u001b[38;5;241;43m=\u001b[39;49m\u001b[38;5;241;43m0\u001b[39;49m\u001b[43m)\u001b[49m\n",
      "File \u001b[1;32m~\\anaconda3\\lib\\site-packages\\pandas\\core\\generic.py:11847\u001b[0m, in \u001b[0;36mNDFrame._add_numeric_operations.<locals>.mean\u001b[1;34m(self, axis, skipna, level, numeric_only, **kwargs)\u001b[0m\n\u001b[0;32m  11829\u001b[0m \u001b[38;5;129m@doc\u001b[39m(\n\u001b[0;32m  11830\u001b[0m     _num_doc,\n\u001b[0;32m  11831\u001b[0m     desc\u001b[38;5;241m=\u001b[39m\u001b[38;5;124m\"\u001b[39m\u001b[38;5;124mReturn the mean of the values over the requested axis.\u001b[39m\u001b[38;5;124m\"\u001b[39m,\n\u001b[1;32m   (...)\u001b[0m\n\u001b[0;32m  11845\u001b[0m     \u001b[38;5;241m*\u001b[39m\u001b[38;5;241m*\u001b[39mkwargs,\n\u001b[0;32m  11846\u001b[0m ):\n\u001b[1;32m> 11847\u001b[0m     \u001b[38;5;28;01mreturn\u001b[39;00m NDFrame\u001b[38;5;241m.\u001b[39mmean(\u001b[38;5;28mself\u001b[39m, axis, skipna, level, numeric_only, \u001b[38;5;241m*\u001b[39m\u001b[38;5;241m*\u001b[39mkwargs)\n",
      "File \u001b[1;32m~\\anaconda3\\lib\\site-packages\\pandas\\core\\generic.py:11401\u001b[0m, in \u001b[0;36mNDFrame.mean\u001b[1;34m(self, axis, skipna, level, numeric_only, **kwargs)\u001b[0m\n\u001b[0;32m  11393\u001b[0m \u001b[38;5;28;01mdef\u001b[39;00m \u001b[38;5;21mmean\u001b[39m(\n\u001b[0;32m  11394\u001b[0m     \u001b[38;5;28mself\u001b[39m,\n\u001b[0;32m  11395\u001b[0m     axis: Axis \u001b[38;5;241m|\u001b[39m \u001b[38;5;28;01mNone\u001b[39;00m \u001b[38;5;241m|\u001b[39m lib\u001b[38;5;241m.\u001b[39mNoDefault \u001b[38;5;241m=\u001b[39m lib\u001b[38;5;241m.\u001b[39mno_default,\n\u001b[1;32m   (...)\u001b[0m\n\u001b[0;32m  11399\u001b[0m     \u001b[38;5;241m*\u001b[39m\u001b[38;5;241m*\u001b[39mkwargs,\n\u001b[0;32m  11400\u001b[0m ) \u001b[38;5;241m-\u001b[39m\u001b[38;5;241m>\u001b[39m Series \u001b[38;5;241m|\u001b[39m \u001b[38;5;28mfloat\u001b[39m:\n\u001b[1;32m> 11401\u001b[0m     \u001b[38;5;28;01mreturn\u001b[39;00m \u001b[38;5;28mself\u001b[39m\u001b[38;5;241m.\u001b[39m_stat_function(\n\u001b[0;32m  11402\u001b[0m         \u001b[38;5;124m\"\u001b[39m\u001b[38;5;124mmean\u001b[39m\u001b[38;5;124m\"\u001b[39m, nanops\u001b[38;5;241m.\u001b[39mnanmean, axis, skipna, level, numeric_only, \u001b[38;5;241m*\u001b[39m\u001b[38;5;241m*\u001b[39mkwargs\n\u001b[0;32m  11403\u001b[0m     )\n",
      "File \u001b[1;32m~\\anaconda3\\lib\\site-packages\\pandas\\core\\generic.py:11353\u001b[0m, in \u001b[0;36mNDFrame._stat_function\u001b[1;34m(self, name, func, axis, skipna, level, numeric_only, **kwargs)\u001b[0m\n\u001b[0;32m  11343\u001b[0m     warnings\u001b[38;5;241m.\u001b[39mwarn(\n\u001b[0;32m  11344\u001b[0m         \u001b[38;5;124m\"\u001b[39m\u001b[38;5;124mUsing the level keyword in DataFrame and Series aggregations is \u001b[39m\u001b[38;5;124m\"\u001b[39m\n\u001b[0;32m  11345\u001b[0m         \u001b[38;5;124m\"\u001b[39m\u001b[38;5;124mdeprecated and will be removed in a future version. Use groupby \u001b[39m\u001b[38;5;124m\"\u001b[39m\n\u001b[1;32m   (...)\u001b[0m\n\u001b[0;32m  11348\u001b[0m         stacklevel\u001b[38;5;241m=\u001b[39mfind_stack_level(),\n\u001b[0;32m  11349\u001b[0m     )\n\u001b[0;32m  11350\u001b[0m     \u001b[38;5;28;01mreturn\u001b[39;00m \u001b[38;5;28mself\u001b[39m\u001b[38;5;241m.\u001b[39m_agg_by_level(\n\u001b[0;32m  11351\u001b[0m         name, axis\u001b[38;5;241m=\u001b[39maxis, level\u001b[38;5;241m=\u001b[39mlevel, skipna\u001b[38;5;241m=\u001b[39mskipna, numeric_only\u001b[38;5;241m=\u001b[39mnumeric_only\n\u001b[0;32m  11352\u001b[0m     )\n\u001b[1;32m> 11353\u001b[0m \u001b[38;5;28;01mreturn\u001b[39;00m \u001b[38;5;28;43mself\u001b[39;49m\u001b[38;5;241;43m.\u001b[39;49m\u001b[43m_reduce\u001b[49m\u001b[43m(\u001b[49m\n\u001b[0;32m  11354\u001b[0m \u001b[43m    \u001b[49m\u001b[43mfunc\u001b[49m\u001b[43m,\u001b[49m\u001b[43m \u001b[49m\u001b[43mname\u001b[49m\u001b[38;5;241;43m=\u001b[39;49m\u001b[43mname\u001b[49m\u001b[43m,\u001b[49m\u001b[43m \u001b[49m\u001b[43maxis\u001b[49m\u001b[38;5;241;43m=\u001b[39;49m\u001b[43maxis\u001b[49m\u001b[43m,\u001b[49m\u001b[43m \u001b[49m\u001b[43mskipna\u001b[49m\u001b[38;5;241;43m=\u001b[39;49m\u001b[43mskipna\u001b[49m\u001b[43m,\u001b[49m\u001b[43m \u001b[49m\u001b[43mnumeric_only\u001b[49m\u001b[38;5;241;43m=\u001b[39;49m\u001b[43mnumeric_only\u001b[49m\n\u001b[0;32m  11355\u001b[0m \u001b[43m\u001b[49m\u001b[43m)\u001b[49m\n",
      "File \u001b[1;32m~\\anaconda3\\lib\\site-packages\\pandas\\core\\series.py:4816\u001b[0m, in \u001b[0;36mSeries._reduce\u001b[1;34m(self, op, name, axis, skipna, numeric_only, filter_type, **kwds)\u001b[0m\n\u001b[0;32m   4812\u001b[0m     \u001b[38;5;28;01mraise\u001b[39;00m \u001b[38;5;167;01mNotImplementedError\u001b[39;00m(\n\u001b[0;32m   4813\u001b[0m         \u001b[38;5;124mf\u001b[39m\u001b[38;5;124m\"\u001b[39m\u001b[38;5;124mSeries.\u001b[39m\u001b[38;5;132;01m{\u001b[39;00mname\u001b[38;5;132;01m}\u001b[39;00m\u001b[38;5;124m does not implement \u001b[39m\u001b[38;5;132;01m{\u001b[39;00mkwd_name\u001b[38;5;132;01m}\u001b[39;00m\u001b[38;5;124m.\u001b[39m\u001b[38;5;124m\"\u001b[39m\n\u001b[0;32m   4814\u001b[0m     )\n\u001b[0;32m   4815\u001b[0m \u001b[38;5;28;01mwith\u001b[39;00m np\u001b[38;5;241m.\u001b[39merrstate(\u001b[38;5;28mall\u001b[39m\u001b[38;5;241m=\u001b[39m\u001b[38;5;124m\"\u001b[39m\u001b[38;5;124mignore\u001b[39m\u001b[38;5;124m\"\u001b[39m):\n\u001b[1;32m-> 4816\u001b[0m     \u001b[38;5;28;01mreturn\u001b[39;00m op(delegate, skipna\u001b[38;5;241m=\u001b[39mskipna, \u001b[38;5;241m*\u001b[39m\u001b[38;5;241m*\u001b[39mkwds)\n",
      "File \u001b[1;32m~\\anaconda3\\lib\\site-packages\\pandas\\core\\nanops.py:93\u001b[0m, in \u001b[0;36mdisallow.__call__.<locals>._f\u001b[1;34m(*args, **kwargs)\u001b[0m\n\u001b[0;32m     91\u001b[0m \u001b[38;5;28;01mtry\u001b[39;00m:\n\u001b[0;32m     92\u001b[0m     \u001b[38;5;28;01mwith\u001b[39;00m np\u001b[38;5;241m.\u001b[39merrstate(invalid\u001b[38;5;241m=\u001b[39m\u001b[38;5;124m\"\u001b[39m\u001b[38;5;124mignore\u001b[39m\u001b[38;5;124m\"\u001b[39m):\n\u001b[1;32m---> 93\u001b[0m         \u001b[38;5;28;01mreturn\u001b[39;00m f(\u001b[38;5;241m*\u001b[39margs, \u001b[38;5;241m*\u001b[39m\u001b[38;5;241m*\u001b[39mkwargs)\n\u001b[0;32m     94\u001b[0m \u001b[38;5;28;01mexcept\u001b[39;00m \u001b[38;5;167;01mValueError\u001b[39;00m \u001b[38;5;28;01mas\u001b[39;00m e:\n\u001b[0;32m     95\u001b[0m     \u001b[38;5;66;03m# we want to transform an object array\u001b[39;00m\n\u001b[0;32m     96\u001b[0m     \u001b[38;5;66;03m# ValueError message to the more typical TypeError\u001b[39;00m\n\u001b[0;32m     97\u001b[0m     \u001b[38;5;66;03m# e.g. this is normally a disallowed function on\u001b[39;00m\n\u001b[0;32m     98\u001b[0m     \u001b[38;5;66;03m# object arrays that contain strings\u001b[39;00m\n\u001b[0;32m     99\u001b[0m     \u001b[38;5;28;01mif\u001b[39;00m is_object_dtype(args[\u001b[38;5;241m0\u001b[39m]):\n",
      "File \u001b[1;32m~\\anaconda3\\lib\\site-packages\\pandas\\core\\nanops.py:155\u001b[0m, in \u001b[0;36mbottleneck_switch.__call__.<locals>.f\u001b[1;34m(values, axis, skipna, **kwds)\u001b[0m\n\u001b[0;32m    153\u001b[0m         result \u001b[38;5;241m=\u001b[39m alt(values, axis\u001b[38;5;241m=\u001b[39maxis, skipna\u001b[38;5;241m=\u001b[39mskipna, \u001b[38;5;241m*\u001b[39m\u001b[38;5;241m*\u001b[39mkwds)\n\u001b[0;32m    154\u001b[0m \u001b[38;5;28;01melse\u001b[39;00m:\n\u001b[1;32m--> 155\u001b[0m     result \u001b[38;5;241m=\u001b[39m alt(values, axis\u001b[38;5;241m=\u001b[39maxis, skipna\u001b[38;5;241m=\u001b[39mskipna, \u001b[38;5;241m*\u001b[39m\u001b[38;5;241m*\u001b[39mkwds)\n\u001b[0;32m    157\u001b[0m \u001b[38;5;28;01mreturn\u001b[39;00m result\n",
      "File \u001b[1;32m~\\anaconda3\\lib\\site-packages\\pandas\\core\\nanops.py:418\u001b[0m, in \u001b[0;36m_datetimelike_compat.<locals>.new_func\u001b[1;34m(values, axis, skipna, mask, **kwargs)\u001b[0m\n\u001b[0;32m    415\u001b[0m \u001b[38;5;28;01mif\u001b[39;00m datetimelike \u001b[38;5;129;01mand\u001b[39;00m mask \u001b[38;5;129;01mis\u001b[39;00m \u001b[38;5;28;01mNone\u001b[39;00m:\n\u001b[0;32m    416\u001b[0m     mask \u001b[38;5;241m=\u001b[39m isna(values)\n\u001b[1;32m--> 418\u001b[0m result \u001b[38;5;241m=\u001b[39m func(values, axis\u001b[38;5;241m=\u001b[39maxis, skipna\u001b[38;5;241m=\u001b[39mskipna, mask\u001b[38;5;241m=\u001b[39mmask, \u001b[38;5;241m*\u001b[39m\u001b[38;5;241m*\u001b[39mkwargs)\n\u001b[0;32m    420\u001b[0m \u001b[38;5;28;01mif\u001b[39;00m datetimelike:\n\u001b[0;32m    421\u001b[0m     result \u001b[38;5;241m=\u001b[39m _wrap_results(result, orig_values\u001b[38;5;241m.\u001b[39mdtype, fill_value\u001b[38;5;241m=\u001b[39miNaT)\n",
      "File \u001b[1;32m~\\anaconda3\\lib\\site-packages\\pandas\\core\\nanops.py:706\u001b[0m, in \u001b[0;36mnanmean\u001b[1;34m(values, axis, skipna, mask)\u001b[0m\n\u001b[0;32m    703\u001b[0m     dtype_count \u001b[38;5;241m=\u001b[39m dtype\n\u001b[0;32m    705\u001b[0m count \u001b[38;5;241m=\u001b[39m _get_counts(values\u001b[38;5;241m.\u001b[39mshape, mask, axis, dtype\u001b[38;5;241m=\u001b[39mdtype_count)\n\u001b[1;32m--> 706\u001b[0m the_sum \u001b[38;5;241m=\u001b[39m \u001b[43m_ensure_numeric\u001b[49m\u001b[43m(\u001b[49m\u001b[43mvalues\u001b[49m\u001b[38;5;241;43m.\u001b[39;49m\u001b[43msum\u001b[49m\u001b[43m(\u001b[49m\u001b[43maxis\u001b[49m\u001b[43m,\u001b[49m\u001b[43m \u001b[49m\u001b[43mdtype\u001b[49m\u001b[38;5;241;43m=\u001b[39;49m\u001b[43mdtype_sum\u001b[49m\u001b[43m)\u001b[49m\u001b[43m)\u001b[49m\n\u001b[0;32m    708\u001b[0m \u001b[38;5;28;01mif\u001b[39;00m axis \u001b[38;5;129;01mis\u001b[39;00m \u001b[38;5;129;01mnot\u001b[39;00m \u001b[38;5;28;01mNone\u001b[39;00m \u001b[38;5;129;01mand\u001b[39;00m \u001b[38;5;28mgetattr\u001b[39m(the_sum, \u001b[38;5;124m\"\u001b[39m\u001b[38;5;124mndim\u001b[39m\u001b[38;5;124m\"\u001b[39m, \u001b[38;5;28;01mFalse\u001b[39;00m):\n\u001b[0;32m    709\u001b[0m     count \u001b[38;5;241m=\u001b[39m cast(np\u001b[38;5;241m.\u001b[39mndarray, count)\n",
      "File \u001b[1;32m~\\anaconda3\\lib\\site-packages\\pandas\\core\\nanops.py:1637\u001b[0m, in \u001b[0;36m_ensure_numeric\u001b[1;34m(x)\u001b[0m\n\u001b[0;32m   1634\u001b[0m             x \u001b[38;5;241m=\u001b[39m \u001b[38;5;28mcomplex\u001b[39m(x)\n\u001b[0;32m   1635\u001b[0m         \u001b[38;5;28;01mexcept\u001b[39;00m \u001b[38;5;167;01mValueError\u001b[39;00m \u001b[38;5;28;01mas\u001b[39;00m err:\n\u001b[0;32m   1636\u001b[0m             \u001b[38;5;66;03m# e.g. \"foo\"\u001b[39;00m\n\u001b[1;32m-> 1637\u001b[0m             \u001b[38;5;28;01mraise\u001b[39;00m \u001b[38;5;167;01mTypeError\u001b[39;00m(\u001b[38;5;124mf\u001b[39m\u001b[38;5;124m\"\u001b[39m\u001b[38;5;124mCould not convert \u001b[39m\u001b[38;5;132;01m{\u001b[39;00mx\u001b[38;5;132;01m}\u001b[39;00m\u001b[38;5;124m to numeric\u001b[39m\u001b[38;5;124m\"\u001b[39m) \u001b[38;5;28;01mfrom\u001b[39;00m \u001b[38;5;21;01merr\u001b[39;00m\n\u001b[0;32m   1638\u001b[0m \u001b[38;5;28;01mreturn\u001b[39;00m x\n",
      "\u001b[1;31mTypeError\u001b[0m: Could not convert 11.9999.99700.03.843.8411.99379.99109.9911.991700.0600.03.843.84149.9914.95150.02.9911.95379.992.992.9911.9511.95389.99150.099.9914.953.8411.993.8411.99150.0999.9999.99300.03.84600.03.84150.0700.01700.01700.03.84149.99389.99389.993.8411.95600.0150.02.99150.0150.02.99150.0150.02.993.8411.95999.99700.0150.0600.011.992.99300.0150.03.84150.011.993.84300.011.9511.9511.951700.014.952.992.992.992.9999.992.99300.0389.99389.9914.9514.9511.993.8411.95300.099.993.84149.992.99150.099.9911.9911.99700.03.843.8411.99600.0150.0150.02.992.9999.9914.9511.99149.9914.95389.9911.953.842.99150.014.952.99700.014.95109.99149.9911.9911.9511.993.8411.99600.014.95600.011.9914.9511.95389.993.84999.9911.9511.9511.953.84600.014.9511.9911.9914.952.99149.9911.9511.9914.95150.014.953.84389.992.9911.9911.95109.9914.95150.0400.011.95150.011.99150.011.9999.99300.014.9511.992.993.84150.0109.9911.952.99149.99389.993.843.8411.99150.0600.0389.9911.99300.011.9599.993.8411.9914.95379.9911.9511.99149.9911.99150.011.953.8411.9511.9999.99600.011.9911.9914.95379.9911.95Price Each600150999.993.84379.992.9917001502.99389.9911.9599.99389.991700149.9914.9530014.95999.9911.9511.953.843.8414.9515099.9911.953.843.8415014.95Price Each14.9511.992.992.9911.953.8414.952.992.9911.9911.99999.9914.953.8411.9940011.992.99109.9911.993.84379.9970011.99999.991507002.993.8415099.994003.8411.9511.9914.9514.952.9999.996003.84109.9914.9599.9999.99149.997001503.84379.9911.9515014.95149.9914.95389.99109.9999.993003.8411.993.8415014.952.99149.992.994001507002.992.993.84600379.997002.99999.991700109.9915011.9511.95109.9911.9511.9560011.9514.95999.992.992.9914.953.8411.992.9999.9911.952.9911.95170011.9999.99700109.993.841502.9970014.9514.9511.95379.99300600.0300149.992.991503.843.8414.95389.99150389.9999.99389.99150389.99600150379.99149.99109.9911.991502.9914.9511.9514.952.9999.9911.9914.9514.95149.9914.952.992.993.8414.95700150149.9999.992.993.843.84109.9999.99600.03.84149.99389.9999.9970014.9514.9540011.95149.9999.9914.95379.993.8430011.9599.9930015011.9960011.9911.99379.99600.01503.843.8415014.9511.992.992.9960011.952.991501503.842.99379.9911.99150149.993.8499.9911.9914.953.84700999.9915011.9515011.9915015011.993.84600.02.991503.8415011.9599.9911.952.9914.9511.95389.993002.9999.9911.953.842.99389.9911.99109.9999.99149.9999.99379.99389.99389.9970014.9599.991502.9911.9914.9599.9999.992.9915014.9514.9511.953.842.99149.9911.9540011.9999.9970014.9599.993.847002.9911.9999.993.8430011.9599.9911.953.8460011.95300379.9911.952.992.99389.9911.953.843.8430099.99150109.992.9911.9911.9999.992.9999.99170011.99379.9999.9911.9911.95149.992.993.84149.9914.95379.9960011.99389.9970014.9511.9914.953.843.842.9915099.9999.99999.9960014.9511.99379.9999.992.99379.9915015011.9514.9514.9599.9911.95700149.99170014.952.993.8414.956002.993.8415070011.9914.9511.95999.9911.952.9914.953.84109.9999.9911.951503.84999.99999.991503.8470011.99389.99600.03.8411.953.8411.9999.9911.9514.9514.9514.9599.992.9911.99149.9915015099.99999.99170015060011.9999.9940015030011.951502.99149.993.8411.9530011.9511.9511.9911.99170011.99149.9914.9511.9970011.99109.99389.9911.9911.95600.02.9911.9914.9599.99150379.9960011.95600999.9914.9514.95150150150379.9911.9599.992.9914.952.9911.9914.9515011.9911.993.84149.992.9914.9511.95149.993.8411.99109.9911.9511.953.8411.9599.99149.9911.9914.95109.992.9911.9514.95999.9911.9570011.9514.9511.9511.9514.9530015015011.9515014.9511.992.992.9911.9511.9599.99379.993.8499.9911.95389.9914.9511.99170011.95170011.953.84379.992.99149.992.9911.953.84149.9999.992.9914.9530030011.9511.9514.95150389.9911.992.9914.9599.992.991506002.99170015070015011.9914.952.99300600.0389.99379.996003.8411.99379.99150389.9914.9514.9511.953.843.8411.9511.952.99389.9999.992.9911.9911.9511.99170011.953.8414.9514.953.84389.9911.991502.99389.993.8411.9511.993.8417003.84150379.9999.9911.99379.993.8415011.95400379.9999.991501502.993.8414.9511.95999.9911.9915014.952.992.9914.9511.9599.9911.95389.992.99149.992.99389.99389.993.843002.992.991503.8414.957002.9911.9599.9914.951503.8499.99150379.9970014.95149.993001502.996002.993.843.8411.9911.9511.952.992.9911.99300700600.014.9514.953.8414.9540011.95150149.9999.9930011.9511.9940011.95389.9914.95999.9999.9999.992.992.993.842.9999.997002.991502.9970070014.9514.951700389.9911.9511.952.9915014.95109.9911.9599.9999.9999.993.8417003.843.8499.99600.03.843003.8415015015014.9599.99109.9960011.952.9999.99600.0150999.9914.951503.843.8414.9515014.952.9999.9999.991503.84600.0150149.9915011.95150999.99150379.9914.9511.9511.9599.9914.95149.9911.9960011.9915011.952.9914.95109.9911.9930011.9914.952.9911.953003.84109.992.99149.9914.9514.9511.9911.992.993.843.84379.9914.9511.9599.99999.992.99379.99170011.9514.953.843.842.9917003.8414.9511.95109.9915014.953.8411.993.843.84999.99149.9911.95400109.9930060011.95149.993.8414.952.993.8470014.952.992.9911.9911.992.993.8415014.9515014.9511.993.8460011.95379.992.9999.9999.9999.9911.9911.953.84150600.0149.992.992.99999.9915011.9515014.95300109.9999.99999.991503.842.992.9999.99109.9914.95150149.9911.9911.953.8411.9599.993.8411.9914.9511.953001700600.02.993.8499.9911.992.992.9911.9911.952.9911.99150379.9930011.99149.992.991503.8411.9940011.9511.95999.99149.991503.8411.992.9911.9511.9511.99389.992.9999.9911.9511.9911.9914.953.843.8411.9514.9511.9514.9570011.992.9999.9930014.9511.9530099.99600.099.9914.952.9914.953.843.843.8414.95999.9911.952.99109.991503.8470014.9599.992.9911.9599.993002.9911.952.9911.952.9914.952.992.993.8414.9511.9911.9915099.9970014.9514.952.992.99600149.992.992.992.99149.9999.9960011.9514.9515011.9599.99379.99150389.9970011.9511.95300149.99379.9999.9930099.9911.9914.95149.99389.997003.84149.9999.9930015070011.9917001502.9911.996002.993.842.992.9940011.9914.9511.95150150389.9999.992.9999.9970099.992.9915099.9911.95149.992.992.992.9911.9511.952.992.993.84999.99300389.99389.991700379.9911.99149.9911.99379.9915015030014.951503.84149.992.9960014.95Price Each11.95149.9911.952.99149.99170011.9917003.84389.992.9930060011.9599.9999.9940014.9511.953.8414.95150379.9999.993.8411.99149.9940011.957003.843.8411.953.84170014.9599.9911.95379.9914.9511.9560099.9915011.953.841502.9915014.953.842.993.8411.9560099.9911.95600.03.846002.99379.993.842.99999.997001507002.993.8430014.953.843.842.991700150600149.99109.99389.9911.993.843.84700149.993.84109.993.847003.841700379.9999.992.992.9914.9514.9514.953.84600.02.992.9999.9930014.9511.9511.953.8411.992.9911.9515011.9930011.9970014.9511.95150Price Each2.993.843.843.84149.992.993.842.9914.9515099.9911.95170014.95Price Each60070011.9914.953.84389.9999.993.841503002.99149.9999.9915011.9511.9970099.992.9970011.9599.992.9911.953.84389.9914.953.8430099.992.9914.95149.993.843.84109.9914.953.84149.992.99149.9915014.9515015099.9940099.9911.9915015011.9914.95700389.9970014.95400149.9915015060014.9514.95109.99389.9914.953002.993.8411.9570014.95389.993.84150149.9914.9511.9570011.9911.9914.9599.993.8414.9511.9911.9511.997002.993003002.992.9911.992.99300999.9911.952.9915014.9515011.991503.8414.9570011.9911.99379.9914.9599.9911.9911.9511.952.9911.9911.99149.9911.99999.994003.842.992.99600.03.84379.993.8411.9511.952.9970011.9515011.992.99379.99150600170014.9511.9911.953.8411.9915011.9911.9970011.9511.9511.9911.952.9999.9915014.9560011.99149.99109.9914.9511.99389.9999.9914.9511.9599.9960011.9511.9911.991501700600300389.9970099.99109.992.9970011.99389.99149.99149.992.9914.9517003.8414.9511.953.8414.9511.992.993.8430060011.95379.993.84150600.099.9911.992.99379.992.99150150999.993.8414.9511.9511.9517002.992.9911.9911.9599.992.991502.9914.952.9911.9511.9511.9911.9914.95389.9911.9914.952.9970014.951502.992.99999.992.9970011.953.84389.99109.99999.9911.993.84170014.9515014.9511.953.846003.8411.9930014.9515014.9511.9511.9911.993.84389.9911.992.991503003003.842.9911.992.9911.9911.952.9915060011.9960015099.9911.9911.95389.992.992.992.9911.9517004003.8414.95Price Each60011.9915011.9911.9911.994003.8411.9914.953.8414.9517002.993.842.9914.9514.9511.9514.9514.9511.9514.952.99109.992.9911.9911.9999.993.8470014.9515014.9599.992.991502.992.9917002.9911.953.8414.9511.9511.9999.99149.9999.997006002.993.8499.993.84300389.99389.993.8415011.9515099.9911.9911.957003.846003.841503.842.9960011.953.8440011.9911.9511.9515030070015030099.9911.952.997002.9911.992.9911.993.8414.9511.9530011.95389.9999.992.991502.9914.9511.99109.992.9911.9570014.9511.9511.9530011.9511.992.9915070014.95379.993.8499.99170011.9514.9511.9911.9911.952.99170014.9530014.95389.993.842.99149.99149.99150170099.9914.9511.9570011.95389.992.992.992.993.8499.9915060011.95150389.9911.993.843003.842.99300379.9914.9511.9514.9511.9514.952.993.8411.956003.8411.99109.99999.9911.9914.95389.9940014.9511.993.84170014.95149.9911.95389.9911.95389.992.99170099.992.9914.952.9999.9999.992.993.8411.9511.99379.992.99379.99150149.992.99999.992.993.842.99149.993.84149.9999.99150379.99150379.9911.952.993.8499.9911.992.99170011.95379.992.9914.9511.991503.84389.9999.9915011.952.9914.952.9911.9930011.99149.9914.9511.953.84999.9999.992.9911.9514.95379.9915011.952.99379.9911.95999.99999.9999.99389.99149.992.992.992.9914.9511.9511.9911.9515099.99389.9911.9930014.95109.9911.9911.99379.993.843.841502.9915011.9911.9960099.993003.843.84150389.9911.95389.992.993.8411.95150700150170017002.992.9911.953.843.8411.992.99999.9911.99170011.9514.9511.9514.95379.9915011.9570011.9911.9511.953.8499.997003.84379.9911.9914.95379.9911.9511.9917002.99600389.992.9960014.95379.99389.9911.952.99300149.9914.9511.9511.95999.99109.9911.953.84109.9911.9599.992.9915011.9511.9517003.843.8411.9911.993.84149.9914.9514.95149.9960011.9540011.99379.9911.99170099.9914.9517002.993.8460014.953.8414.953.8414.95149.9999.99600149.993.8499.996003.842.9960011.99109.992.9911.9511.953.8415060011.9599.992.99149.992.9911.9999.9911.95700400109.993.8499.9914.9517003.8470014.9599.992.9911.99700389.9914.952.9914.953.8411.992.9911.9511.993.8460011.9570014.9515014.9599.992.993.8415011.9915011.993.843.84379.99170070070014.95170014.952.992.9911.993.84389.9914.95379.9911.9511.9560011.9511.99389.993.8499.9911.9599.9911.99170099.993.8411.9514.952.993.84170011.993.8414.9515011.9599.99109.9911.9517002.9960011.9999.9914.9514.952.99379.993.8430014.9511.952.993.84379.9911.9915070099.993.847003.8499.9917001502.992.9914.9511.95150300389.9911.9911.9960099.9911.9915099.9960011.9511.993.8411.992.9999.9911.996003.843.843.8415011.9915011.9599.993.8411.953.8440099.9930099.9911.9515015014.952.99149.9914.953.847002.9911.9511.9599.9914.95Price Each14.9511.99379.9915060011.95600.011.9911.95389.99149.99109.9911.99150379.9970011.9911.9511.9999.99109.9911.9930070014.9514.953.84389.9911.991501503.84149.99149.992.993.842.99700379.9911.99149.99999.992.993.8411.9911.9511.9599.993.8411.95379.9914.953.844003.84170099.9911.99379.9960011.9511.99109.9914.9514.9511.99149.9911.95149.9999.9960011.99999.9960011.993.84999.992.99379.9914.953.8414.95379.9970011.9999.992.9911.9911.9514.9511.953.8499.9914.9570014.953.8414.9511.99149.992.991503.841501700109.9911.9911.953.84150149.9911.953.843.841700379.992.9914.95389.9930015011.9511.953.8430011.9515011.9911.992.9911.9570015011.9511.9911.95149.9911.95109.9915099.99999.9999.9999.9914.9515011.9514.9511.953.8411.951503.8411.952.993.8414.952.9911.993.8411.992.99389.9915015011.951700149.9914.953001502.9999.9911.9599.993.842.99Price Each11.9511.953.843.843.8414.9515011.9514.951700170015070011.9599.9914.9514.95150149.99150149.99379.993.84999.9970011.95150600.011.953.84149.9914.95389.993.8460011.9511.9530011.952.99379.9914.9599.9911.99149.992.9999.9999.9911.993.8411.9530014.95999.993.84600379.9911.95109.991502.99379.9911.993.843.8499.992.99149.9911.9911.9511.9515099.997003.8411.95150389.9911.9515011.993.84389.996002.99Price Each14.95149.9911.9514.95150389.993.842.993.84150379.9911.9530011.9999.996002.993.84600.02.992.991502.99389.9911.952.992.99109.9911.95149.9911.9514.952.993.843.8411.9914.95149.992.99149.992.993.84150379.9911.99379.9917002.99300379.9911.9599.9914.952.9970011.9911.9570014.95109.992.99389.9960011.9911.95109.99999.9915015011.95600999.9999.9911.951502.9970011.992.9911.9911.993.842.993.8411.95149.9999.993.843.8414.9514.9514.952.9914.9511.9515011.9514.95Price Each3.843.8411.9514.9599.991700999.9915014.9599.9914.9511.9911.9514.952.992.992.9999.99389.99149.9915014.953.8414.9514.953.84379.9911.99109.9911.9514.953.843.842.9940030099.9930014.953.843.842.99379.9911.9999.9999.9940014.95149.99149.9911.99170017002.992.99379.9911.95170099.99149.9911.99379.99149.993.8411.95379.9911.99379.99149.9914.9511.9511.9960011.9911.9515099.9914.9599.99600600.03.8470011.953.8415060011.9511.9940011.9514.9599.9999.993.843.841503.8414.952.9911.95379.9914.9511.9914.952.993.84109.9999.992.99389.9999.99389.992.9914.952.9915011.9914.95999.9970011.9560011.9530017002.9911.9911.993.8414.9515011.952.99389.9914.9599.993.8499.9911.99150999.991502.993.84379.9999.9960015015011.953.8460099.992.9911.9911.9511.9514.9511.9999.9915030060011.9999.9915014.956002.9999.9911.993001502.9911.9911.95109.9940011.993.843.847003.843.8414.9511.9599.992.992.9930011.9914.9511.9914.952.9914.95389.993.8411.952.9970011.9914.9511.95149.9911.9914.9514.9515011.992.9911.953.8415099.99149.9911.9511.9911.95379.99389.9911.99149.993.8411.9540014.9514.951502.992.99999.9914.957003.8411.95379.99149.9999.9911.952.99150149.99389.99109.993.843.8499.992.993.84389.992.993.843.84389.9914.952.99389.9911.992.9911.95109.9914.9514.95389.9914.95379.99389.9914.953.843.841503.8411.953.84379.9911.993.843.843.8414.95109.9911.95109.9911.953.843.842.99149.991503.84700389.9911.9511.95170099.9999.99400999.9940011.9999.993002.9914.9514.952.99150379.99999.9911.99149.99389.992.9917002.99389.992.99300379.993.8430014.95700379.99149.992.993.8499.992.9914.9514.952.993.84389.9911.9599.99109.9930011.9511.9511.991503.841700700109.9911.992.99109.99600600.03.842.9914.953.84149.9911.992.992.9999.99700389.9914.952.9911.993.8411.993.8411.993.842.99379.9911.99999.99149.9911.992.9911.9515099.993.84150109.99149.99170015015014.952.9914.9511.9917003.843.84389.9930017002.997002.9911.95389.99379.9911.993.843.8411.953.8411.9511.9511.951502.99600.0389.992.9999.99149.9915014.9511.9511.9511.9914.95150600.02.9914.95149.99379.9940011.99389.992.9915011.9960014.9514.953.843.8414.9511.9915015011.9911.9999.992.99389.99700379.9911.9570014.9514.95150389.9999.9914.9511.9915099.992.9911.994004002.9911.9560014.9599.991502.993.8411.9511.993.8411.956001700150389.9999.99170099.99379.99379.99600.099.9999.99379.99379.99379.9911.9511.9560030070099.993.8411.953.8411.9511.9517002.99389.9911.952.9911.95170070014.953.8411.953.8415015011.95149.9970015014.9514.9514.957003.842.993.8411.992.9911.99170011.99149.9911.9570014.9514.9514.9514.95389.997006003.8411.9914.95149.993.8411.99379.993.843.8414.9599.9999.9999.9914.9599.9914.953003.8411.95379.99170015011.9911.952.9911.9911.952.9911.9511.9514.95149.9915099.9999.992.9999.9911.992.99389.9999.997007002.993.84389.992.9914.9514.951503.84149.99109.99170015011.991503.8414.952.993.84379.9914.951503.847006003.843.84999.992.9930011.9960011.9511.9940011.9914.95150170011.9514.9514.95389.992.9970014.95149.99149.9911.951502.9911.95389.9911.9570015011.9511.9511.9511.952.9911.9911.9930014.953.84379.997006002.9914.9530030011.9514.95150389.991506002.9970070014.95150600.02.99379.993.8499.9911.993.843.8411.993.84Price Each11.9511.952.9911.993.8414.953.843003.8414.9515060011.992.9999.9914.952.9911.9511.9914.9511.95109.992.9999.9911.95109.99300379.99109.9914.95379.9999.997001502.992.9911.993.84379.99109.9911.952.99379.9911.9999.996006003.8411.9914.95300999.9911.9999.99300379.9999.99149.99379.993.8460011.9914.951503002.992.992.9911.9530070015099.993.843.8460011.957003.8411.993006003.8499.993.8415011.952.9914.95999.993.8499.9999.993.8414.957002.9970011.992.99150379.9911.9515015099.992.992.993.8499.9911.9530099.9911.9511.9511.953.8411.9911.9599.993.84170011.993.8411.9914.953.84149.9914.953.84150109.99389.9914.9515070014.95600.0170011.95389.9999.9914.95149.99379.9914.95389.992.993.8411.9514.9511.952.9999.992.992.9914.9599.993002.99150149.99600149.9999.9914.9511.953.84109.9911.95150149.9999.993.843.8411.9514.9570014.956003.843.843.8414.9599.99999.992.9914.95389.9911.992.992.992.99379.9914.952.993.8411.953.8499.992.9911.95389.9911.992.9915011.99999.99999.9999.9914.95149.99109.9914.953.842.993.842.9914.9511.992.99379.993.843.842.9999.9915060015099.99389.9970014.953.8411.9511.9930014.9514.953.8411.95389.992.99600.0999.9911.9960099.9911.9911.9911.952.9911.992.9911.9511.9599.9914.95149.9999.9970014.95109.99999.992.9914.953.8414.953.84379.9911.9517003.842.9940099.993.8411.9911.9514.953.84149.991506002.99150150389.99149.9999.9911.9511.9914.953.842.99999.9911.952.9911.992.99600600.011.9599.9914.9511.952.993.8499.99109.991503.843.84150389.9970014.9514.9511.99379.991506007003001502.992.99600.02.9940011.953.8411.993.84149.9911.9540014.9540011.9570011.99170070011.9970011.9599.993.84149.9915011.9570015011.95389.9914.95149.993.84149.9911.9930014.9514.9511.991503.842.99170014.9515011.9911.953.842.992.9914.9514.9514.953.842.9911.9911.992.99379.993.8411.95999.99700170015060014.9511.952.9914.9514.9511.991503.843.84389.9911.9915014.953.8499.99389.9915014.953.8499.9911.9960011.953.8411.992.9911.953.8414.9511.9599.9999.9960015015011.9599.991503.84389.99600149.99389.9911.99389.993.842.993.84999.99300379.992.9999.9911.993.843.8414.9514.9514.95149.99149.9930014.957001700109.9911.952.9911.992.99999.9911.99109.9911.9511.992.9911.9940011.9599.993.842.9999.9911.953.8414.9560011.9911.9915099.9911.9911.9530011.992.992.99999.993.8499.99149.9911.952.99170015015015030011.952.993.846003.8411.99389.991503.8411.99999.99109.9911.95379.9914.95700300389.9911.9914.9570014.9517001503.84379.9911.9911.9915011.951502.9914.9511.99150389.9915014.9511.953.8430014.953.842.99389.9911.9911.95170015011.9511.953.8499.99109.9914.952.99379.9914.9511.99300170014.9511.9511.95150149.9911.9914.953.8414.953.84300999.9999.997002.9911.9911.99600300149.9914.9511.99109.9911.9514.953.843.842.992.993.8414.95379.9914.9511.952.9914.9511.9999.993.843.8411.991502.9911.951503.8411.993.8499.992.99600.0109.9970014.9511.99150389.99389.992.9915014.9511.992.9914.952.993.842.9914.9511.9511.9599.99600.03.8460014.951700150999.993.842.9911.9515011.9914.9514.9514.952.9999.9911.992.99150999.9911.9915014.9515011.9514.95389.9911.9511.9599.9914.9511.99600.011.9911.99999.99379.9970011.9911.993.8499.992.99999.9911.9999.9960099.9911.9911.9599.9999.992.992.9915011.9914.9514.952.9970099.9911.95149.993.84149.9915014.9511.9511.9599.9911.993.84379.9911.9914.953.8417002.992.9914.953.8499.99389.9914.95149.9914.95389.99389.9915011.992.9914.957003002.99379.99300389.9914.9511.9915015011.95149.9911.9511.9911.956002.993.843.843.8470070011.951503.8411.992.9911.952.9911.993.84379.9911.9560040011.9511.9970015099.991503.8414.9511.993.84389.9911.953.8415014.952.9911.99379.9960011.953.8414.9599.9999.99389.993003.84379.992.9914.9599.9999.993.84389.9911.9911.9530011.99149.9970014.95379.9911.953.8414.9514.95389.993.84999.997003.8411.9511.9999.99150149.99149.99149.9915070040014.95999.9911.99389.9911.993.843.843.843.8414.953.8411.95389.99149.993002.9915014.95149.991700600389.99150600.070040011.952.9930015014.95149.9911.9999.9970099.991503.8414.9511.9999.9911.952.99389.9911.9515014.953003.842.9999.9911.992.9911.953.841502.993.84389.992.9911.9999.9915014.9511.952.9999.9911.9514.95379.9911.9915070014.953.8415011.9515070099.9911.95149.9911.992.9911.9511.9999.996003003.842.9999.993.8414.956003.843.8411.952.99149.997007002.993.84109.9911.9914.95999.9911.95389.99999.9917003.84379.9914.9515015099.9911.993.84389.9915014.952.9999.9999.99600.0600999.99379.9970014.9511.9911.9911.95379.9911.9911.953.8411.9911.9911.99389.9914.952.9911.9914.95109.9911.95600.014.95379.993.842.991502.99109.99379.9911.952.9911.993.843.8415015060011.952.992.99999.9911.9570099.99389.9970014.953.84149.9911.9911.952.99389.991502.99379.9914.952.9911.9930011.9511.9599.993.8460011.9540099.9915015011.952.99109.992.9911.95149.9915015099.9911.99379.99149.9911.99389.993.8499.993.8415011.9914.953.84149.9914.95149.9960011.9970011.9511.9511.9999.993.8411.99149.993.8411.9570030030014.95149.993.843.843.84170015011.993003.8411.9914.952.9914.952.9914.953.843.84150999.9914.952.993.8411.993.842.9911.95150389.99149.9911.95389.9999.9915011.95379.992.9911.952.993.8440015011.9540011.952.9914.95389.99109.9911.95389.99379.99149.993.8411.9911.9515011.99389.992.9911.954003.84149.9911.95389.9914.952.9917001502.9914.953.842.992.9911.9911.9511.9511.993.842.992.9911.993001502.9999.99149.993002.9911.991506002.9917003.8414.9514.952.993.8430040011.992.9914.9570011.993.84149.992.99999.992.99149.9911.9514.95600999.99170030060011.953.84379.9914.9515015011.99109.993.8411.9511.9911.9511.951503.8414.9511.993.84150389.9940011.95150389.992.9917002.99389.9911.952.992.9914.95109.99600379.9911.9960030011.9511.9514.95389.99389.9914.9530011.99109.9930011.952.99999.9911.99149.99389.993.8499.996003.8411.99149.9911.95999.99389.9915070011.9911.992.99149.992.993.84389.993002.992.992.9930011.992.9940011.99149.992.991700600.011.95389.9914.9511.993.8411.9511.9514.95149.99109.99149.99379.992.9930099.99999.991700999.9970014.9514.95389.9911.99149.9930015030030011.991506003.8411.9599.9911.95999.9999.993.842.99149.99389.9911.9511.9514.9511.9914.9517001503.8411.95379.99150109.996003.8411.9911.9960014.9511.9514.9511.991700999.99600.0379.9914.9514.9599.9914.9511.9914.952.9911.95400389.99389.9930011.9911.9915014.952.99999.993.842.9917002.993.84999.9914.953.8411.9914.95389.9914.952.9970015011.953.84149.997003.842.99700389.9999.9911.9911.9911.991506003.8414.9560014.9515070011.993.842.9911.95389.9914.9514.9599.993.8470099.992.99379.99600149.9999.9911.952.99109.9911.9515011.9599.9999.992.9911.99109.9911.99109.99109.9911.9970011.957001502.9911.95149.9960011.992.9970011.95379.99109.9911.9599.9911.953.8411.99379.99379.9911.953.84109.9911.95300389.9911.9511.99109.99389.992.9911.9511.9960011.9599.992.992.99379.9914.9514.957002.9911.9911.9599.9999.9911.9914.9514.953.8411.9999.9914.956003002.9999.99150389.9911.9560011.9511.952.9911.9911.9917002.992.99379.9911.95379.99700109.99150600389.9970060011.9914.9514.953.8499.9911.99389.9911.953.8411.952.993.8414.9599.993.8414.957001502.9911.953.8499.99379.99379.9914.953.8411.9915011.9911.99999.9915011.953.8414.953.8411.9911.9914.9514.95379.99999.99149.9914.953.84999.9914.952.9914.9515060030099.992.9999.992.991506002.99150999.993.843002.9960011.993.843.842.9930040011.99300389.9911.99149.99149.9911.99400389.992.992.9911.9514.951503.841501502.997003.8411.99150379.9911.9911.993.841503.8499.9911.992.99389.992.99150150999.99999.9930011.9911.993.84379.993.843.8415014.951503001503.843.84389.993.84150389.99999.993.84999.9914.953.8411.95170011.9511.99389.99400300170011.9911.9911.9914.952.99379.997002.9970011.993.8430014.95999.99150150149.99379.993.8470014.95379.9999.9911.992.9930014.95379.992.9915099.993.8411.996001700149.9911.952.9999.9911.99999.9914.95300150379.99150170011.9511.952.99389.9914.9511.9915070014.95379.99149.9911.991502.99149.9960011.9599.993.8414.9511.9911.9511.953.84600.011.9999.992.9960011.9999.9911.952.9914.9511.9911.952.9915014.95150149.9915014.95389.9999.9960014.952.99149.99170099.99109.9911.993.84379.9999.99109.99389.9970040011.9914.95300389.9999.993.843.843.84149.99149.992.99149.9911.9911.95389.992.993.8414.9560014.9514.95389.9915011.952.991502.9915060011.993.843.8411.9911.953.8411.95170060011.9599.992.99379.992.9999.9911.95999.997002.9930011.953.8430011.9511.993.84109.993.842.9914.95149.9915070014.9514.9511.95700109.9970014.9514.9511.992.9999.9999.9970011.993.8460011.9514.952.9915011.9514.9530014.953.8415011.9911.99170015011.95600.015060011.95149.9999.993.8411.9514.95109.9911.9599.9999.9911.952.99999.99150999.99149.991503.843.84109.9911.952.9940011.99999.99600.014.9599.9999.9914.9511.9999.9911.992.9914.9511.9911.9914.95389.99389.9911.9599.99999.9911.99379.9914.95389.9911.952.9914.95149.99999.9915014.9511.9911.95150150389.9999.99379.992.992.993.84389.9960014.952.9911.9911.953.84700700109.9930011.9911.953.842.9911.992.99600.011.9511.9911.95389.993.8415099.9911.9914.952.99109.9911.99149.9914.95150300150700149.9914.953.843.8414.9511.9999.993.8414.953003.8414.9511.952.9914.952.993.8411.9511.99109.99150600389.993001503.8460099.993.843.8411.9514.952.9911.9514.95149.9914.95389.9960011.95109.99999.9999.9915017002.99150999.9999.996001700999.99999.9911.9999.9914.952.9911.9511.992.99109.9911.992.9911.997002.9940011.9599.9911.953.8411.952.9911.99149.991502.99379.9914.95149.9911.95149.9914.95150149.9960011.99700600379.9999.99389.9911.9999.9911.9911.99150389.993.843.847001503.843.84389.9911.9511.9514.9511.9511.9960015011.9911.957001507003.842.992.9914.9560040011.99300700149.992.99170011.9511.993.8411.9999.993002.9911.95600379.9999.9911.992.9914.9514.9515014.9511.9911.9514.9511.953.847003.843.843.8414.95389.9999.9911.991700389.993.84149.9914.9599.99109.9911.9960099.9911.95109.99389.992.992.992.9914.9511.9511.952.9914.952.99109.99379.996003.843.843.8411.9917003.842.993.84389.99379.9911.9514.9511.99389.993.8499.9911.9911.9930060015014.95389.9911.954003.84700149.992.9914.9511.9514.9511.952.9970060014.953.84379.992.9911.9599.993.8411.9911.9511.9511.95999.9915070011.9511.952.9970011.95149.9911.9514.9514.9511.992.99170011.9914.952.99389.993.8499.991700149.9911.952.99149.992.993.8499.9915014.95379.993.843.843.8414.9599.9915015014.95109.99149.99389.9915014.95389.9914.9511.99379.9911.952.9914.9511.992.997002.9914.953.843.842.99109.9911.99999.991502.993003.8460011.99600149.992.9960011.95300999.992.992.99999.9999.99149.9911.9515014.952.9911.992.993.8415011.95109.99150149.997002.99379.99389.992.9911.9915011.9911.9511.952.9911.952.9999.992.99999.9960011.952.99999.9911.99109.9915060011.9511.99999.9970015011.9599.9911.95109.99109.9914.952.992.9911.952.993.8460011.9514.956003.84389.993.8411.9914.9511.952.9917003.842.9999.9911.9911.9599.9911.95379.99149.99999.9911.992.99150389.9914.9514.953.8460011.952.99170011.9515014.9599.9960011.9514.9530014.952.9911.9511.9514.9511.991700379.99149.992.9914.9511.9911.9911.9599.9911.957003.843.843.8499.9911.95999.9911.9514.952.992.993002.992.9930011.9914.953.843.84999.993.84379.993.8414.9514.9514.95389.9911.9911.952.9970060011.95109.996003.8470011.95389.99109.99379.9970011.9970099.9915015011.9911.9911.992.99170011.952.9914.9511.9599.993.8414.951700149.9911.9511.991502.993.84379.9999.99170040011.9511.9999.991503002.99389.997001501503.842.99999.9999.992.992.993.84999.994007003.8499.99999.993.8460011.9560011.9599.993002.993.8499.99149.9914.95379.993.84149.9911.95149.9914.9570040011.9511.9515011.9517003.843.8414.9530014.9511.9911.9599.99109.992.993.84389.99149.99379.99389.9914.9599.993.8411.9514.9511.993.8411.992.992.9911.99149.992.9999.9911.9911.9511.95109.9911.9914.9560014.95379.9911.952.99389.9911.952.99999.9930015011.9914.953.8499.992.9911.99389.99379.99149.9914.9514.9570011.9911.99170014.9511.9530015011.993.84149.9970011.9911.9511.993.842.993.84999.993.843.8499.992.99170099.9911.952.992.9914.9511.9599.99700149.9914.9514.9599.993.8415011.95149.993.8414.95149.99149.9911.9914.95149.99149.991502.9915011.953.843.84150170030011.953.847006002.9970030099.997002.992.9915099.99600389.9911.95389.99149.9915060011.9599.99389.9911.9914.951502.9999.9917002.9915099.992.993.843002.9911.993.8499.99150149.9911.9960011.99379.992.9911.9930015011.99149.9914.9599.996003.843.8411.9530011.9960011.993.8411.9511.9515070015011.9511.9914.9514.9511.95379.992.99300109.9917002.99389.99109.9917003.84389.9999.9911.9915030030014.9599.99389.99999.99109.9911.951502.996003.8415030015099.9999.99379.9914.952.9999.99999.99379.992.993.841501503.843.8414.9515099.991503.8415099.992.992.99389.99109.9911.9914.9599.99149.992.9911.953003.843.8411.9960014.953.84149.9914.952.9911.9911.993.8499.99379.9915070014.95389.99389.993.8414.9511.951700379.99389.9911.99149.992.9999.9911.9911.9515011.9914.95389.99109.99300999.9911.9915015011.952.9911.9911.9514.953.8411.9960070014.9511.9930099.9911.99149.9915011.953.8414.95379.9960014.954002.992.9914.9514.95109.993003.8411.952.993.841502.997003.8411.9911.9911.9511.9914.953.8460011.95600170099.993.8411.9915011.992.9999.99389.993003.843.8411.952.99999.99389.99109.9914.9511.9515060011.9599.9914.9511.9514.95389.99149.991700379.9911.992.9999.9911.99389.9914.95149.99149.9999.99149.99389.993.8411.99149.99150379.9917002.9911.952.9914.9560011.9911.9514.9511.952.99389.99379.996001700379.993.841503.8414.953.842.993.84149.99389.9911.9599.992.9915011.996006002.99109.9914.9514.95149.992.99Price Each149.9914.951503.843.8499.9914.95149.99379.9914.9599.9911.9514.953.8414.95389.993.843.8499.9911.9511.993.8414.9514.95600.011.9511.952.997003.842.9911.95999.99999.99150389.9911.9570099.99379.9911.9970014.9530099.992.99389.992.99150109.9911.9560099.9911.9515014.953.8411.953.841502.9911.99109.99149.9911.9515099.9911.9915011.9970099.9914.9511.953.842.99700109.991503.84999.993.8411.9911.99999.991503.842.99999.992.9930099.9911.9511.993.8499.9914.95999.9911.95379.9911.99109.9911.992.99999.9911.9511.9911.99300379.9917002.9915015015011.951503.8414.9511.95149.997002.99999.9911.994003.8414.95150379.993.8470015014.953.843.842.992.992.9911.9914.953.8411.9911.9570014.9511.95999.99149.9999.9930011.99389.993002.9911.95149.9911.9515011.993.84150389.992.993.84389.993.842.993.8499.991501501700149.9911.99Price Each600700379.9914.953.8414.953.84999.992.9911.9914.9517002.9911.951501503.8411.95389.99109.9999.9911.95300300149.9911.9914.95149.992.99999.9930099.993.8415060099.9970014.9570014.9514.9599.992.9911.9514.9514.951700389.99389.992.991700150379.9999.9970015014.9514.95149.9911.9970011.9911.9911.9511.99149.992.9915099.9911.9511.95389.9999.996001503.8411.9511.9514.95379.9914.9514.9599.99389.99999.993.8415011.99149.9911.95149.9915011.9514.9511.99150149.9911.993.8470014.9515011.993.84109.9914.95149.99149.9914.9570099.993.84109.9911.99600.0379.99150999.99150149.992.993003.8414.9511.95379.991502.9999.9914.952.9999.99149.993.8414.95170014.95149.9911.953.843.842.9911.9914.95700149.99300379.992.991502.993.8411.9911.99150149.9914.953.8430014.952.99109.9911.9911.95150109.9911.99389.9915011.9511.9999.9914.9511.9511.993.843.8411.9915014.9511.9914.9570070099.9911.9930099.9911.99149.9914.953.8470011.996002.9999.99999.9911.991502.9999.9999.993.8411.952.99389.9911.95379.99700149.9914.9517002.992.9911.95379.9911.9911.993.8411.9511.9911.9999.997004002.9914.953.8414.95999.9915070040014.95389.993.842.99379.993.8411.95999.993.841503.8411.9911.991501502.9911.9914.95389.9914.95170099.9911.951503.842.992.9914.9514.9599.9970014.9514.95149.991503.843003.8415011.992.9911.9530011.9511.952.997001503.8414.9514.953.8411.9911.99379.993.84149.9914.953.843.842.99379.9914.9599.9914.9511.993.8411.95149.9914.9514.9514.9511.993.84600999.9911.95170014.95379.9911.99600389.9914.9511.9999.9911.9915014.953.8414.952.9999.99109.992.99379.99389.9915099.9915011.9915015014.95999.9911.9911.9999.99379.9930017003.84389.9999.9914.9511.9511.95170014.957001501503.84379.9914.9511.9511.9911.9570014.95109.993.8411.9515099.992.993.842.99379.9911.991502.99379.9999.9970011.9911.9960011.993.8414.9511.9511.9511.9599.9915011.9599.993.8499.9911.9914.952.9911.9917003.843.84149.99999.9911.9960099.993.8417003.8499.9911.9511.95109.99150109.9911.992.9911.9514.9511.9915099.9970011.9599.992.993.84149.991503.843.8414.9514.952.9911.992.9911.9940017002.997001502.99109.9911.95149.992.9911.9914.9570011.9915017002.993.843.8414.95600.011.9599.99999.9914.9515011.9914.9514.9511.996003.8411.99150389.99379.992.993003.8411.9570011.9511.95999.992.9911.95600.03.8411.95109.993.8440099.9940011.9515011.99999.99389.9914.95700170011.9599.9911.9514.952.99700379.992.9911.99149.992.9915099.992.99999.991501503.842.99150389.992.9960014.95379.99600.099.99379.9911.952.99149.9999.99109.993.8414.9599.992.991700379.9999.9911.9999.993.843.8499.9911.9570014.9514.9511.95Price Each170015011.9514.9599.9911.9911.9970015015011.952.9911.95389.9911.9599.9911.952.991502.9911.9511.992.992.99389.99109.9970011.95300999.9911.9599.993.842.9911.95389.992.991501503.843.842.992.992.9911.95999.992.992.992.9914.952.99389.993.8411.95379.9911.99389.9914.9514.9511.9914.953.8411.953.84389.993.842.991501503.84600.040060011.9511.9515014.9511.99389.99999.99389.9911.9911.9930011.9960011.9599.993.8411.9999.9914.9599.9914.953.84379.992.9914.9511.9511.95149.99149.991507003002.993.8411.992.993.843.84600.03.847003003003.8411.9915014.9511.95389.99109.9999.99149.992.9911.992.99149.992.9911.95700Price Each3.84150149.9914.952.9911.993.843.843.8414.95600389.9911.99379.9960011.9911.953.8414.953.841501501503.8499.9999.996002.9999.992.993.8414.952.993.8411.9515014.9570015011.95109.9999.993.8499.9911.9540099.9911.95149.99149.9917003.842.993.84389.9911.992.9911.9911.9511.99389.9911.95999.9940011.99170014.952.9914.9560014.9511.95600.014.9511.952.9914.95109.9930014.95379.9914.9511.95149.9915011.9514.95389.99149.9914.9511.95389.9911.9915099.9914.9511.95600.0300170070014.953.8499.99600.011.9514.9514.952.99389.992.99149.993.842.9915014.9599.9911.952.9999.99150389.99170014.95600.03.842.99149.99170060011.9914.9514.95379.9911.99379.99389.9911.99389.9911.95150379.99379.9911.99149.99149.9914.9514.9515011.9514.9511.993.8411.9511.9911.9540011.9511.992.992.9911.9911.9514.9514.9511.9911.9570099.9915099.9914.9514.9599.9914.9515011.95150999.9911.992.9914.9515015011.9914.9530040011.9911.953.84389.991503.842.9914.952.9911.993.84999.9911.952.991502.9911.9911.9514.9599.9911.9999.9911.953.8499.9999.99379.9911.952.9999.99389.993.84999.992.99170099.9914.95999.9914.952.9914.9511.992.993.84150300600.03.8414.95149.9930014.9515011.992.993.842.9911.9514.952.99149.9999.9914.951700170011.95389.99149.997002.991502.9911.9911.9914.952.9911.9515040011.9914.953.8415017003.841502.991503.84149.9911.953.843.84389.9911.953.84999.9911.9911.992.993.8411.9914.9560011.9570014.953.842.99109.99149.993.843.842.9915017002.992.9914.9511.95150389.9915014.953.843.84149.99389.9914.954006002.9914.9511.9511.9915014.953.842.9930015040011.9511.9511.9514.9514.95149.9911.9911.9511.95379.9911.957003.84389.9970011.993.8414.953.8415099.9911.951502.9999.9911.9911.95109.99389.993002.9911.953.8415099.9930017003.8440011.9540014.9514.956002.9970014.9599.9911.95149.9911.956003.84109.99150389.99379.993.84149.997003.84600.011.991503.84109.99170070015011.9915011.9515015011.992.99999.9914.953.8414.953.843.843.8411.9999.9911.95999.993.8411.9517003.842.9970011.95149.992.9914.952.99109.9915011.99149.9914.951503.843.84379.9914.952.99400170099.9914.953.843.8411.9911.951700109.99109.9911.9970011.9911.9511.95379.99150149.9960011.993.8415015011.952.99150150600.011.9930014.9599.9914.9599.991502.99149.9960099.9914.9560011.953.847007002.9999.9911.95379.9911.952.99389.9914.9514.953.843.8411.99109.9911.95150700109.9911.9511.954003.8411.953.8411.951503.84389.99999.9911.9914.952.993.843.843.843.8414.95109.9914.95149.992.9911.9914.952.993.8417002.99149.99109.99999.9914.953.84150379.9999.9911.9511.9514.9599.9911.9911.9514.95389.9914.9599.9914.953.84109.992.9911.953.843.842.9960070014.9515014.9599.99379.9999.9911.9911.9914.9540011.9511.9599.9914.9514.95999.992.9915011.95149.993.8414.952.9911.99600149.9911.99600170011.9999.9970014.95149.9960099.9930099.9911.95149.991502.99389.99600.014.9514.95379.9914.9560011.951700389.9911.9514.952.9911.99999.9911.9515099.993.8499.996002.993001502.993.84600150149.9911.952.992.9911.9599.99Price Each389.992.992.9911.95389.9911.992.9914.952.9914.9511.95149.9999.992.9970015011.993.8415011.9514.952.992.9911.9911.9911.95999.99999.9911.9599.99150379.993.8411.953.842.9914.952.9914.952.997003.84389.992.9970014.9514.95389.991501700389.992.9999.99600999.9914.952.9911.992.993.842.993.8414.9511.9911.9511.9914.95999.9914.953.8411.9511.9511.99300149.9914.953.8411.953.84389.9970014.95150170011.9514.952.99170099.9930011.953.8499.993.8411.953.843.8414.953.8460011.9599.9915011.9511.9514.95109.9914.953.84149.99379.993.8411.95600.011.953.84149.99150600149.99999.9911.993.84389.993.84999.9999.9911.99600.099.99150170011.9999.99999.9914.9514.9511.9911.99389.99999.992.9914.953.843.8411.952.993.8411.993.8414.95Price Each11.9914.9515030015011.993.84600170014.9599.9911.99600.03.8414.953.842.9914.95389.99389.9914.95999.99379.99109.9915011.991502.993.842.996002.9911.952.992.9911.992.99379.993.843.8460099.9915011.95379.992.99149.9911.9511.953.842.99149.99150999.9911.9915011.953.843.84389.993.842.9911.9911.9511.992.991503.8460011.9511.99149.99150109.9911.9511.993.8499.9914.9514.951502.9999.9911.953.8417003.843.843.8499.9911.992.9999.99150389.9911.9515011.992.9914.952.9930014.9560011.951700170014.95999.991502.99389.9960011.9511.991506003.8414.952.992.9915014.95999.99999.9999.993.842.991502.99149.99149.9999.99389.99149.992.99379.992.99150149.9914.953.8411.9514.9511.9511.9515011.95109.9915011.9514.953.842.992.99389.9914.95389.9914.9511.9999.9911.993.8411.9599.9911.992.9915011.9530011.95170011.991503.84109.992.9911.953.8414.9530011.9917003.84379.99149.9911.99999.99999.99379.993.841507007001502.9911.9515014.952.9911.9511.95170099.9915014.9511.992.9911.95999.9911.9511.993.8411.952.994002.9999.99389.9911.993.84389.9999.993.84109.992.9914.9511.99999.9999.992.9999.993.842.993.843.8411.9514.95999.99150389.9911.9914.9599.99149.992.993.84149.9911.997003.8415014.9514.9599.992.991700150149.9915015014.9511.9511.9999.9960099.99379.9911.95300700999.99389.993.8411.992.9911.95150700379.9917002.9911.9911.95389.9999.9911.991503.8411.993.84170015011.9560011.951502.993.84379.9911.9515099.9914.953.84379.9911.9911.9511.9599.99700150150149.9999.9999.99600.060011.9599.99149.99109.9914.9514.952.992.99600.099.9911.992.9999.9970011.99109.99170040011.95379.9914.9540014.9511.9914.9511.9511.9514.9511.993.8499.99379.99389.99379.9915040099.9960099.992.993.843.8499.993.8499.9970014.9599.9930015011.993.842.992.9914.9570014.951503.843.843.84379.9911.9911.95149.9911.992.992.9914.95149.9915011.9511.9511.9570014.9514.9570015011.99109.992.9911.9911.9914.95389.99600170030014.9511.9599.9999.99600149.993.84389.9911.95600600.03.842.9911.95149.9914.952.992.99170011.9599.992.992.99379.991507002.9911.99109.99389.99999.992.9911.9511.956002.9915014.95109.99999.99109.9914.9599.9914.953.8414.95999.991507002.9911.951502.991502.9911.953.8414.9599.9911.95300999.9999.992.99109.991700379.992.99109.9911.9914.953.84389.9915011.952.9914.95389.9911.95150150389.99999.9999.9911.95379.99389.992.9911.9911.9514.95150379.9915099.997001700379.993.8430011.99999.9911.9911.9911.9911.953.841503.843.842.996003.843.84389.9914.953.8499.9999.99149.9911.95379.992.9911.95149.9940011.9511.9514.9511.95149.99999.9960014.9511.992.99389.99600999.9914.9511.9999.9914.95379.992.9911.952.9999.9915014.953.8411.9911.9599.99999.9914.952.9999.9911.9517001700109.992.9970011.9999.9970011.9914.9599.99379.99379.9970014.9599.993.842.993.8411.9599.9911.957002.9911.9999.9911.9511.9914.9511.9911.9999.9911.9911.9511.993007003.842.9999.993.84170017002.99170099.9911.95149.9999.99600149.991700600.014.95600.03.84389.992.9914.953.84700379.993.847003.8411.9511.9914.9515099.9940014.9511.9911.9999.99600.02.9911.9515060070014.952.9914.9540099.993.84109.992.99Price Each2.99389.9911.9915014.9511.95389.9911.9599.993.84999.9911.99379.992.993.8414.95149.99379.993002.99379.993.842.99149.9911.95389.992.993.84999.992.993.84999.9914.95109.9914.952.9911.9511.9599.9915014.9514.953.84389.9914.953.84149.99149.9915099.9911.996003.843.8440070099.9999.991700170099.9911.9914.953.8414.953.846001700379.992.9911.9914.953.842.9911.9570014.9514.9511.95389.9914.951502.992.9999.9911.99999.9930011.95999.9911.9911.9599.99149.9914.9599.9914.952.9911.992.9911.952.9911.95379.994002.99150389.9999.9915014.9560099.992.992.9999.993.8411.9514.9511.9915011.95170014.9511.952.991501502.993.8470011.9570014.953.8460011.9960011.9511.9911.9914.9511.95700379.9911.952.992.99149.9911.992.9960011.9511.9911.95Price Each1503.84150600149.99379.99149.992.9911.9911.9599.9914.9511.9511.9514.9514.953.8411.953.8414.9515015011.992.9911.9914.9511.9511.95149.9911.99170099.9911.951502.993.8411.952.99999.9970014.9514.9511.953.8411.9911.952.9970014.9514.95379.993.8414.9599.9914.9511.9599.99109.992.9914.9511.95109.9914.9515011.992.99149.9911.99389.9960014.95389.991700150149.99999.9915011.953.842.9970014.9570011.992.99149.9911.9914.95149.99389.99999.99150389.993.8414.9560011.953.8414.9599.9914.9511.9514.95150389.9999.9914.95149.9940011.9915011.95149.99170011.99389.993.8411.991502.9914.9515011.9515011.95600.011.99600379.992.99999.9930011.953.8411.95150389.9914.9599.99389.991503.843001503.8411.9914.95389.9999.9970015030011.9999.993.841501503.843.8411.99379.993.843.8411.992.993.84379.992.9914.9514.9511.9970099.9960014.9599.9999.992.9914.95170011.9915011.9917003.8414.95379.992.9960014.9511.99109.9911.95379.9911.9999.9999.9915060014.9560099.9911.9911.992.99999.9915011.9511.9530014.953.842.9970011.99999.9911.9911.9911.952.9914.951502.9999.9915040011.992.9999.993.8430030099.9914.9599.99150149.99109.9911.952.9911.9511.9515014.9570011.9970099.9911.95300109.99300379.9914.951502.9999.992.99600.0389.9999.9911.9930014.953.843.842.9914.95109.99999.9911.952.9911.9511.9511.95700600400170015099.9911.9911.993.84149.99600150300379.991503.842.9911.992.9914.9514.9599.9915011.992.9917002.9999.9999.9911.9914.9514.9511.9511.953.8411.95170040011.953.8499.9915099.9970014.952.99170011.9911.952.9911.9511.953.84389.99149.9911.9914.952.9914.9511.992.9911.953.842.99150389.991700170011.9911.95379.992.993.8414.95109.9911.9911.9511.95700999.9960011.952.9911.99170011.99600149.9911.9517002.9914.952.9911.953.842.9999.9911.95389.9914.953.84170014.95389.991700600170040014.9514.953.8411.957002.99150600.01503.8499.9911.953.8414.95389.9999.993.842.9914.95149.992.993.842.99149.993.8411.95170099.9915011.9514.952.9940011.9911.95600.011.953.8415011.9911.9911.953.84999.99389.99999.9915011.9511.992.9914.952.993.8470014.9515011.993.842.9917001503.8415011.952.991503.8414.95149.9915011.99149.99999.99389.99109.993003.8414.952.993.841503.843.84149.993.84379.991502.99109.9911.9515070014.9511.9560060030011.95109.9911.99149.99149.99600Price Each170030014.953.8411.99Price Each99.9999.9930030011.9511.95700379.9915014.9511.9511.9999.9970014.95149.993.843.84379.993.8414.9511.9914.953.8499.993.84150149.9999.99700149.992.992.992.9915099.992.9911.95379.993.84389.99600.011.9599.992.99389.9911.9914.957001503.8499.99389.9911.99999.9914.953.8499.9911.9960040070014.95170099.9914.9514.9511.9999.9930011.9599.9999.99400700389.992.993.84389.997003.842.9960099.99389.9911.9911.952.993002.997001502.99170014.952.991700389.9915011.993002.9911.9515014.95150389.9911.993.841502.992.9999.9999.9911.9999.9999.9930011.9560099.9911.9570011.992.9914.953.843.8414.9511.99149.9914.9511.9511.99389.9911.9960011.9511.99149.99149.99300999.9914.9511.9514.952.992.9911.952.9911.99389.9914.9514.9514.9511.9514.9514.9514.9599.992.99109.9911.95379.993.843.8411.9514.95109.99149.993.8411.95149.9914.95389.99999.993.8411.953.8499.992.9911.95149.9999.9914.9514.952.993.846002.9999.99170040014.952.9914.9515011.9511.952.9911.952.9999.99600389.9914.952.992.9960011.9514.95379.99389.993.84150149.993.842.9940070014.9511.9999.9914.9514.956002.99109.9999.993.8414.9511.9511.9511.9999.99150149.991501700379.993.8470070030011.952.993.84389.992.9914.95389.993.847003.842.99379.99150300170011.953.84379.993.84149.992.9911.99400109.9911.9511.952.992.9914.952.992.992.9914.95300149.9914.9514.95109.996003.843.8414.95700379.992.9911.9930099.993.842.9911.95999.9911.9911.9911.953.8411.9999.99379.99149.993.842.9940014.95999.99149.993.84379.9914.95379.99109.9911.992.9911.9599.9911.9511.952.9911.952.9914.9514.9511.952.992.9915011.952.992.993.846003.8411.9914.9515014.95999.9914.952.9930011.99379.993.84379.99600149.9915011.9914.95379.9911.9599.992.993.8417002.991700600.03.8414.9599.99379.9915030014.95149.9914.95999.99389.99109.9914.9514.952.99149.993003.8499.9999.99149.99149.99Price Each3.842.9960011.9599.9915070011.95379.9999.99999.9914.95999.9911.952.99150150999.9914.9511.9514.9511.9999.992.997003.8414.952.9914.9599.9999.9914.956002.992.99700389.99999.991501502.9911.953.8415040011.99999.9911.99170011.9911.9511.993004003.8411.9914.953.8499.993.8411.99109.9911.95999.991700600150999.9911.99149.9999.9911.9914.952.99149.992.991507001503.8411.992.9911.993.842.99149.9911.9511.9911.996007002.993006001700700999.9911.9599.9914.9514.9511.992.992.99170040011.993.8499.9911.95149.992.9915011.99700170060011.9914.9599.9911.99700379.99109.9911.953.8499.9960011.9911.991700379.9960030011.9599.9911.99400700149.99109.997003.8414.9514.95389.9915011.993.8411.9911.9511.992.99109.9915040011.952.992.9999.992.9911.9911.95389.9914.95149.992.99170011.9960011.993.843.841503002.993.8440014.951506002.99109.99389.99999.9911.952.993.84150999.9914.9511.9511.9514.9511.95109.9930015014.9511.952.9915011.9911.9914.95109.9999.99700400389.9911.9915070011.9530011.952.9911.952.992.997003.842.9940011.952.99999.992.9999.992.993.8460011.9999.993.8411.9999.9999.99700149.992.9960011.9970014.9530014.9511.9511.9514.9515011.9511.953.8411.9511.9511.99170011.99999.9914.9599.9911.993.8411.992.991502.9999.99389.99999.992.992.9911.99149.9911.9914.95400149.993.843.8411.953.8411.9514.9511.9515015011.99149.993.843.8415011.9911.99700109.9911.9511.95389.99389.992.993003002.9914.9511.992.9911.9914.952.99379.99999.9914.9511.95600.01503.84149.99389.9914.9599.9911.9911.952.9911.9914.9511.952.993.8414.9511.95379.99379.9914.953.8430011.95109.9911.992.9914.953.8499.992.9911.9911.95700109.9911.952.9911.95700389.992.9911.957003.8499.992.992.9911.9511.993.8499.99109.992.9915011.9599.9930014.9511.9514.95170099.9999.9911.953.8499.9914.9515014.9599.992.9914.9514.95389.9911.9514.95149.992.992.993.8411.95379.99150379.9915014.951503.843.8411.95379.99170014.95389.992.9911.95999.9911.9511.9515011.9914.95109.993.842.993002.99170011.9911.9911.9511.9599.992.993.8411.99389.992.9914.95600170014.953.8414.9514.953.8414.95149.993003.8414.95389.992.992.9915060099.9911.9911.9599.9930011.9930070070014.953.8414.95700150389.992.9911.95700700379.9911.9599.9911.953.84389.9915014.9511.991501700170011.99149.9999.993.84300379.99109.992.9999.997003.842.992.9911.953.843.843.8411.9514.9514.9514.953.8499.9911.9914.9514.951501503.843.84300109.99109.9911.993.8411.9515011.99149.9914.953.84150109.99109.993.8499.99300149.99389.99149.9915011.952.9999.9999.99109.9914.9511.953.842.992.993.8411.951700999.99149.9914.9530011.953.8499.9911.953.842.99999.9914.952.9911.99150149.9914.951502.9911.953.8411.992.992.992.992.991502.99379.993.84149.992.9911.993002.9914.9511.951700149.9970011.9911.9911.9515014.9599.9911.992.99300700109.9960011.9599.9911.9511.9511.9570014.95149.992.99389.992.99149.99700Price Each379.9911.99150149.9911.9511.99600.03.84149.9911.9911.993.8440014.9511.9515099.9911.9511.9999.99389.9914.952.9914.95389.99600.03.841700379.992.99109.9917002.9911.95109.99389.9999.992.9960099.9911.9915017002.99600.030011.953.8414.9511.9915011.95999.9914.9515014.95149.991502.991502.9911.993.8499.993.8499.9999.992.99379.99149.991503002.99170014.9599.9999.992.996002.9999.99150379.9911.9514.953.8415011.9514.95700150999.9914.9599.9911.9514.9511.953.84109.9911.953.8411.95389.993.843.8430011.9915011.9914.9511.9911.9915011.99600.0150400109.9914.951700Price Each150149.9911.993.8411.9914.9514.9511.953.8411.993.843.8499.99149.993.8470099.993.842.9911.992.9911.99379.99600.02.992.993.84389.9911.9914.95379.992.9914.9514.95149.993.84389.9911.95379.99379.992.9970014.9514.9540030070011.952.9911.9911.9514.9514.9540011.9514.952.991700149.991503.84389.997003.843.8499.9911.992.993.8440030011.95149.9915060011.9914.95300170011.95150109.993.8460011.95109.99170017001700999.99109.9911.9999.997003.8470014.9570014.9515014.953.846002.993.8411.992.9914.953.843003.842.9999.9914.951700149.9911.954003.8411.953.842.9911.9911.956002.992.9911.9511.993.84379.993.8411.99999.9911.953.84379.993.8417002.9911.95149.993.84389.9999.993.843.843.843.843.842.992.99379.99109.99400150999.993.843.84379.9914.951502.993.843.8414.95149.99389.994003.8414.95379.991700149.992.9999.992.9914.953.8411.99999.99389.993.843.84389.99170014.9514.9511.95170099.993.842.99109.991503003.8411.9915014.9514.953.842.9999.9930070014.952.993.842.993.8417003.8411.9514.9570060060011.9511.953.84389.9911.953.8430014.95379.9914.9511.99389.99999.9999.993.84109.9914.95300700149.9914.953.84300389.9914.9515040011.95150379.993002.993.841502.9960099.992.9911.953.846003.843.8411.9914.95109.9911.99109.9915011.9530060011.95379.997002.99300149.9911.99600.099.993002.9915014.95150389.997003.842.9914.95379.9911.9511.9999.993.842.993.843.8499.9999.99149.993.8411.993.84150150379.992.991501502.9911.95150999.99149.9911.99149.993.841503.84109.99150149.9970014.9570099.9911.99150109.9914.9511.9514.95149.9911.9511.9560011.95999.993.843.84389.9911.9599.992.9911.953.84149.9911.9511.9514.9530015011.9511.992.9911.953.841503.843.843.8411.993.842.993.84Price Each14.95109.9970014.9511.99300150170011.9514.95149.99109.99389.9914.95389.992.9911.9915014.95149.9911.9560070014.951503.843.8470015014.95149.99999.9911.95149.9914.9515014.953.8460099.9999.9914.95700149.9960015011.951502.99999.9999.99149.993.842.9915070014.95109.992.992.99999.9915099.996002.9914.95109.993.8470070011.992.993.8414.95379.9911.9514.953003.843002.9914.953.8414.9517002.9914.9515011.9511.95999.9915070015014.9511.99600.02.993.84389.99149.99149.9960014.953.8414.953003.8411.9917003.8415011.9911.952.992.9999.9914.95600389.9970014.952.9911.953.841503.84149.992.992.992.9999.9999.992.9914.953.8414.95150999.99170011.9911.9999.993.843.843.8411.9514.95379.992.9911.95149.992.9970015060099.9914.95149.99109.9911.9915011.9999.9911.95149.9911.9511.95170014.9599.9914.9514.9511.9599.99999.9915011.9511.9914.953.8411.9514.952.992.9911.9960099.9911.95389.9914.9599.993.843002.9999.9911.952.993002.9911.9515014.953.84700149.9911.99109.9911.95109.9914.9514.9511.951502.9911.956002.9914.9514.9560011.9960011.9999.9999.9999.99999.9914.952.993.8414.9511.9511.9599.9915015040011.9914.9599.993.84170070011.9914.952.991503.847006002.9914.953.8414.9511.993.843.84109.9911.992.992.99389.9917006003.8414.95149.9911.993.8411.99379.9914.9514.9511.9560011.9511.9511.9911.9599.9914.9515014.95149.99600.011.9514.953.84149.9911.9514.9511.95379.9914.95Price Each999.9915011.991503.842.99149.9911.95389.9911.99300600149.9915040011.951700149.9914.9511.9530099.991503.842.992.9911.993.84999.9914.9514.9599.992.9911.9511.951503.8411.993.842.9911.9599.9911.9511.9514.9515011.9914.95999.9914.952.99600.014.9515099.99379.99389.992.9914.95379.99999.9999.9914.9515015011.9911.9570014.9511.9911.9514.9514.9514.95999.99149.9911.95999.993.84300389.993.84170015099.9911.951700149.99379.993.8470099.99700600.014.953.8411.9999.991502.99150149.992.9915070014.9511.9930017001503.8499.997001503.84109.9999.993.8414.95379.9999.9999.9999.99999.99149.9970014.9511.95999.993.8415011.9599.9911.9514.953.843.843.84170099.9914.951503.8499.993.8499.9911.9599.9911.993.8460099.9911.9915014.9511.9999.993.8414.95999.99400150109.9911.9511.957003.8430015099.9999.99379.992.993.8415099.99109.9911.991503.84149.991502.99379.9914.9514.9515011.9511.9599.9999.9999.992.9911.9911.9515011.9511.9914.953.843.8414.95109.9970014.9570011.99379.9999.9940014.95999.9917002.9915011.957003.843002.9999.9911.95379.992.9911.95150170015014.952.9915015015014.95149.9960015011.99109.9911.952.9911.993.8411.9999.99109.99149.991507001503.84999.9940011.9514.9514.95389.99149.993.84150379.9914.9515014.9517003.8415014.95389.9914.953.8470014.95170011.9911.953.8411.9570014.95150149.99149.99149.9914.951502.9960011.9511.9911.9914.9511.95149.99149.9915011.9999.993.8460099.9911.99150389.992.992.9911.9511.992.992.9914.95170015011.95999.9914.9511.95999.9915011.9999.992.99389.9914.9570014.95149.9911.9599.99379.99379.9914.9511.9514.9511.95379.994003.8499.992.99600.07006003.843.846002.99379.99379.9914.9511.95700300379.9999.993003.8414.95400389.991503.84999.9970015014.9514.952.9911.9911.951502.9999.9999.99999.9911.993.8499.99389.992.991502.991506001503.84600.014.95300700379.99379.992.99109.9940099.993.84379.993.8411.9911.997003.8414.952.99150379.993.8499.9911.9511.993.846003.84999.993.84150150149.99999.99700149.993002.9917002.9914.9515011.9599.9911.997003.84150149.9911.99300379.992.9911.9911.99109.997003.84600400700149.992.993.84109.99389.99600.011.99109.9970015011.991502.9999.9940014.95150149.9914.9530099.992.992.9999.9960011.992.992.9999.993.8414.952.99149.99389.9914.953.84109.99379.99600.014.9511.953.84379.992.9914.952.9960011.9914.9515040011.953.8411.9511.9599.993002.992.99379.9999.9911.9999.99400379.9999.993.843.8411.9999.9911.993.8414.9599.9970014.9570070011.95300600389.99109.9911.9999.99389.99170014.952.9914.953.841507002.993.8411.9599.991502.9999.9999.9914.95109.9915011.952.9914.95109.9911.9999.99149.9915011.9914.9514.9511.9970014.9511.9911.99109.9914.9511.9914.9514.9599.991502.992.9911.9515011.95700999.992.99150379.9911.95379.9914.952.99379.99149.9999.99109.99389.991502.9915011.9915011.9960099.99170014.9560011.9514.952.9911.993.842.9915011.997002.9911.993.8499.99999.9915015011.9570014.9514.9514.9560015015011.9930011.992.991503.8411.9917003.84300379.993.8414.9514.9514.9511.99149.9911.99389.9970011.992.993.8414.95150109.992.9999.9914.952.99379.9911.9911.992.9911.95379.9914.9599.9914.9511.9911.9511.9960011.9914.9515011.9960011.9511.952.992.991503.843.842.99400109.9999.99389.99170015011.9911.9511.953002.99170011.9517003.8499.991503.84379.992.99150379.99379.993.8411.9999.9911.9911.9514.9514.95170014.9511.9511.9911.953.8414.9599.9914.95149.9915011.95379.99379.99389.9915011.953.842.993.8414.953.8430011.9511.9915070011.9911.9911.991502.99600.02.99149.9914.9530011.953.84150149.9911.9911.951503.84379.9911.9515015099.9911.953003.8411.9999.993.842.9970015099.9999.9960011.95150389.994006006002.99389.997002.993.843.8411.953.8411.99149.9999.9930099.9911.9999.9970099.99149.9915014.9515099.993.84149.992.991507001502.9911.992.9911.993.847007002.99700149.9911.992.9914.9514.95149.993.84300149.9914.9511.9999.9911.953.843.8470011.953.843.8417001700149.99999.9999.9999.9911.9917001502.9915099.99109.9914.9511.993.841502.992.9911.9511.9511.9599.9911.9511.993.8411.991502.9911.9914.952.9911.9511.952.993.84600.040099.993.8411.9911.95379.9911.9914.9511.9940011.9511.952.99389.993.842.992.9911.9511.95600.0149.993.8499.992.99400170014.9511.953.84109.9911.997003.8411.9511.9514.95389.9999.9911.99999.99389.99170011.99379.9999.993.842.991503.8411.9911.9599.99379.991503.8499.9911.9599.99150170014.952.9911.95150700999.9999.9914.953.8414.95149.99389.99300379.992.9911.9560014.95389.993.843.843.84109.9960011.9911.95170011.9914.9515011.9511.99109.993.84149.99400379.992.9914.9560011.9511.9599.9911.95600.017002.9911.99150109.9915011.95389.9911.9514.95600.011.9911.95389.9970099.992.99379.9911.9515011.9999.992.993.8411.953.84 to numeric"
     ]
    }
   ],
   "source": [
    "df1= df['Price Each'].mean(axis=0)"
   ]
  },
  {
   "cell_type": "code",
   "execution_count": null,
   "id": "dacca00e",
   "metadata": {},
   "outputs": [],
   "source": []
  }
 ],
 "metadata": {
  "kernelspec": {
   "display_name": "Python 3 (ipykernel)",
   "language": "python",
   "name": "python3"
  },
  "language_info": {
   "codemirror_mode": {
    "name": "ipython",
    "version": 3
   },
   "file_extension": ".py",
   "mimetype": "text/x-python",
   "name": "python",
   "nbconvert_exporter": "python",
   "pygments_lexer": "ipython3",
   "version": "3.10.9"
  }
 },
 "nbformat": 4,
 "nbformat_minor": 5
}
